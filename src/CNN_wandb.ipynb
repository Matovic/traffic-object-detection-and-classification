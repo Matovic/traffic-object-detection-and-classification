{
 "cells": [
  {
   "attachments": {},
   "cell_type": "markdown",
   "metadata": {},
   "source": [
    "# Pedestrian classification\n",
    "Erik Matovič and Jakub Horvat\n",
    "\n",
    "[Dataset](https://data.nvision2.eecs.yorku.ca/PIE_dataset/)\n",
    "\n",
    "### 0. Imports"
   ]
  },
  {
   "cell_type": "code",
   "execution_count": 1,
   "metadata": {},
   "outputs": [
    {
     "name": "stdout",
     "output_type": "stream",
     "text": [
      "True cuda:0\n"
     ]
    }
   ],
   "source": [
    "import wandb\n",
    "from pprint import pprint\n",
    "import numpy as np\n",
    "import pandas as pd\n",
    "import torch \n",
    "from torch import flatten\n",
    "import torchvision\n",
    "from torchvision import transforms\n",
    "import torch.nn as nn\n",
    "from torch import optim\n",
    "from torch.utils.data import DataLoader, TensorDataset, Dataset\n",
    "from utils import split_train_val\n",
    "from typing import Tuple, List\n",
    "import warnings\n",
    "warnings.filterwarnings('ignore')\n",
    "from sklearn.metrics import classification_report, accuracy_score\n",
    "from matplotlib import pyplot as plt\n",
    "from os import listdir\n",
    "from os.path import join\n",
    "from pie_data import PIE\n",
    "from PIL import Image\n",
    "import time\n",
    "from sklearn.metrics import confusion_matrix, ConfusionMatrixDisplay\n",
    "from matplotlib import pyplot as plt\n",
    "\n",
    "#torch.manual_seed(0)\n",
    "# CUDA for PyTorch\n",
    "use_cuda = torch.cuda.is_available()\n",
    "device = torch.device(\"cuda:0\" if use_cuda else \"cpu\")\n",
    "#device = \"cpu\"\n",
    "torch.backends.cudnn.benchmark = True\n",
    "print(use_cuda, device)"
   ]
  },
  {
   "cell_type": "code",
   "execution_count": 2,
   "metadata": {},
   "outputs": [
    {
     "name": "stderr",
     "output_type": "stream",
     "text": [
      "Failed to detect the name of this notebook, you can set it manually with the WANDB_NOTEBOOK_NAME environment variable to enable code saving.\n",
      "\u001b[34m\u001b[1mwandb\u001b[0m: Currently logged in as: \u001b[33mxmatovice\u001b[0m. Use \u001b[1m`wandb login --relogin`\u001b[0m to force relogin\n"
     ]
    },
    {
     "data": {
      "text/plain": [
       "True"
      ]
     },
     "execution_count": 2,
     "metadata": {},
     "output_type": "execute_result"
    }
   ],
   "source": [
    "wandb.login()"
   ]
  },
  {
   "cell_type": "code",
   "execution_count": 5,
   "metadata": {},
   "outputs": [],
   "source": [
    "default_config = {\n",
    "    'n_features': 5*128,\n",
    "    'learning_rate': 0.01,\n",
    "    'epochs': 100,\n",
    "    'batch_size': 128,\n",
    "    'momentum': 0.9\n",
    "}"
   ]
  },
  {
   "cell_type": "code",
   "execution_count": 6,
   "metadata": {},
   "outputs": [
    {
     "name": "stdout",
     "output_type": "stream",
     "text": [
      "{'early_terminate': {'min_iter': 3, 'type': 'hyperband'},\n",
      " 'method': 'bayes',\n",
      " 'metric': {'goal': 'minimize', 'name': 'val_loss'},\n",
      " 'name': 'pedestrian_classification',\n",
      " 'parameters': {'batch_size': {'values': [8, 16, 32, 64, 128]},\n",
      "                'epochs': {'values': [10, 50, 100]},\n",
      "                'learning_rate': {'max': 0.1, 'min': 0.001},\n",
      "                'momentum': {'max': 0.99, 'min': 0.0},\n",
      "                'n_features': {'values': [32, 64, 128, 256, 512]}}}\n",
      "Create sweep with ID: 6erje4vd\n",
      "Sweep URL: https://wandb.ai/xmatovice/uncategorized/sweeps/6erje4vd\n"
     ]
    }
   ],
   "source": [
    "sweep_config = {\n",
    "    'name': 'pedestrian_classification',\n",
    "    'method': 'bayes',\n",
    "    'metric': {\n",
    "        'name': 'val_loss', \n",
    "        'goal': 'minimize' \n",
    "    },\n",
    "    'early_terminate':{\n",
    "        'type': 'hyperband',\n",
    "        'min_iter': 3\n",
    "    },\n",
    "    'parameters': {\n",
    "        'batch_size': {\n",
    "            'values': [8, 16, 32, 64, 128]\n",
    "        },\n",
    "        'epochs': {\n",
    "            'values': [10, 50, 100]\n",
    "        },\n",
    "        'learning_rate': {\n",
    "            'min': 0.001,\n",
    "            'max': 0.1\n",
    "        },\n",
    "        'n_features': {\n",
    "            'values': [32, 64, 128, 256, 512]\n",
    "        },\n",
    "        'momentum': {\n",
    "            'min': 0.0,\n",
    "            'max': 0.99\n",
    "        }, \n",
    "    }\n",
    "}\n",
    "\n",
    "pprint(sweep_config)\n",
    "\n",
    "sweep_id = wandb.sweep(sweep_config)"
   ]
  },
  {
   "attachments": {},
   "cell_type": "markdown",
   "metadata": {},
   "source": [
    "### 1. EDA\n",
    " - in [Exploratory Data Analysis](./EDA.ipynb)\n",
    " \n",
    "### 2. Data preprocessing"
   ]
  },
  {
   "cell_type": "code",
   "execution_count": 7,
   "metadata": {},
   "outputs": [],
   "source": [
    "class PIE_dataset(Dataset):\n",
    "    \"\"\"\n",
    "    Dataset class for dataloader.\n",
    "    \"\"\"\n",
    "    def __init__(self, setname: str, pie: PIE) -> None:\n",
    "        \"\"\"\n",
    "        Dataset init.\n",
    "        :param setname: specifying trainig, validation or test set\n",
    "        \"\"\"\n",
    "        assert setname in ['train', 'val', 'test'], 'wrong setname, accepting only \\'train\\', \\'val\\', \\'test\\''\n",
    "        \n",
    "        super().__init__()\n",
    "        self.setname = setname\n",
    "        self.img_path = pie._images_path + '/' + self.setname + '/'\n",
    "        self.annotations_path = '../' + self.setname + '_annotations.csv'\n",
    "        self.all_filenames = listdir(self.img_path)\n",
    "        self.all_annotations = pd.read_csv(self.annotations_path)     \n",
    "        self.all_annotations_meaning = self.all_annotations.columns.values.tolist()\n",
    "\n",
    "        # Setting labels\n",
    "        self.label_action = self.all_annotations['action']\n",
    "        self.label_gender = self.all_annotations['gender']\n",
    "        self.label_look = self.all_annotations['look']\n",
    "        self.label_cross = self.all_annotations['cross']   \n",
    "        \n",
    "    \n",
    "    def __len__(self) -> int:\n",
    "        \"\"\"\n",
    "        Return the total number of images.\n",
    "        returns: The total number of images.\n",
    "        \"\"\"\n",
    "        return len(self.all_filenames)\n",
    "    \n",
    "\n",
    "    def __getitem__(self, index) -> dict:\n",
    "        \"\"\"\n",
    "        Get item with annotations.\n",
    "        :param index: the number of image\n",
    "        returns: Dictionary.\n",
    "        \"\"\"\n",
    "        file_name = self.all_filenames[index]\n",
    "        img_path = self.img_path + file_name\n",
    "        # print(img_path)\n",
    "        \n",
    "        # Read the input image\n",
    "        img = Image.open(img_path)#.convert('RGB')\n",
    "        # convert image to torch tensor\n",
    "        img_tensor = transforms.ToTensor()(img)\n",
    "        # Transform to normalize the image with mean and std of the ImageNet dataset\n",
    "        transform = transforms.Normalize(mean=(0.2,), std=(0.2,))\n",
    "        normalized_img_tensor = transform(img_tensor)\n",
    "        # convert the normalized tensor to PIL image\n",
    "        # normalized_img = transforms.ToPILImage()(normalized_img_tensor)\n",
    "        # normalized_img.show()\n",
    "\n",
    "        # train\n",
    "        set_idx_start = 16\n",
    "        ped_index_start = 38\n",
    "        \n",
    "        # val\n",
    "        if self.setname == 'val':\n",
    "            set_idx_start = 14\n",
    "            ped_index_start = 36\n",
    "\n",
    "        # test\n",
    "        if self.setname == 'test':\n",
    "            set_idx_start = 15\n",
    "            ped_index_start = 37\n",
    "\n",
    "        # pedestrian index is varying from index 38 to 41\n",
    "        ped_index = img_path.index('_', ped_index_start)\n",
    "\n",
    "        set_name = img_path[set_idx_start:set_idx_start+5]\n",
    "        video_name = img_path[set_idx_start+6:set_idx_start+16]\n",
    "        ped_name = img_path[set_idx_start+17:ped_index]\n",
    "        frame_name = img_path[ped_index + 1:]\n",
    "        #print(set_name, video_name, ped_name, frame_name)\n",
    "        \n",
    "        label = self.all_annotations.loc[\n",
    "            (self.all_annotations.set == set_name) &\n",
    "            (self.all_annotations.video == video_name) &\n",
    "            (self.all_annotations.frame == frame_name) &\n",
    "            (self.all_annotations.ped == ped_name)\n",
    "        ]\n",
    "        #print(label)\n",
    "\n",
    "        label_action = torch.tensor(self.label_action[label.index[0]], dtype=torch.float)\n",
    "        label_gender = torch.tensor(self.label_gender[label.index[0]], dtype=torch.float)\n",
    "        label_look = torch.tensor(self.label_look[label.index[0]], dtype=torch.float)\n",
    "        label_cross = torch.tensor(self.label_cross[label.index[0]], dtype=torch.long)\n",
    "        \n",
    "        return {'data': normalized_img_tensor,\n",
    "                'label_action': label_action,\n",
    "                'label_gender': label_gender,\n",
    "                'label_look': label_look,\n",
    "                'label_cross': label_cross,\n",
    "                'img_idx': index}"
   ]
  },
  {
   "attachments": {},
   "cell_type": "markdown",
   "metadata": {},
   "source": [
    "## 3. Model"
   ]
  },
  {
   "cell_type": "code",
   "execution_count": 16,
   "metadata": {},
   "outputs": [],
   "source": [
    "class CNN(nn.Module):\n",
    "    \"\"\"\n",
    "    Model class\n",
    "    \"\"\"\n",
    "    def __init__(self, n_channels, n_features) -> None:\n",
    "        \"\"\"\n",
    "        init\n",
    "        :param n_channels: number of input challens\n",
    "        \"\"\"\n",
    "        super(CNN, self).__init__()\n",
    "        self.n_channels = n_channels\n",
    "        self.n_features = n_features\n",
    "\n",
    "        # initialize first set of CONV => RELU => CONV => RELU => POOL layers\n",
    "        self.conv11 = nn.Conv2d(in_channels=n_channels, out_channels=64, \n",
    "                             kernel_size=(3, 3), padding=0, dilation=2)\n",
    "        self.conv12 = nn.Conv2d(in_channels=64, out_channels=64,\n",
    "\t\t\t    kernel_size=(3, 3), padding=0)\n",
    "        self.maxpool = nn.MaxPool2d(kernel_size=(2, 2), stride=(2, 2))\n",
    "\n",
    "\t\t# initialize second set of CONV => RELU => CONV => RELU => POOL layers\n",
    "        #self.conv21 = nn.Conv2d(in_channels=cnn_channels, out_channels=cnn_channels, #28\n",
    "\t\t#\tkernel_size=(5, 5), padding=1)\n",
    "        #self.conv22 = nn.Conv2d(in_channels=cnn_channels, out_channels=cnn_channels, #26\n",
    "\t\t#\tkernel_size=(3, 3), padding=1)\n",
    "        #self.dropout_cnn = nn.Dropout(p=0.5)\n",
    "\n",
    "\t\t# initialize second set of CONV => RELU => CONV => RELU => POOL layers\n",
    "        #self.conv31 = nn.Conv2d(in_channels=128, out_channels=64, #28\n",
    "\t\t#\tkernel_size=(3, 3), padding=1)\n",
    "        #self.conv32 = nn.Conv2d(in_channels=64, out_channels=64, #26\n",
    "\t\t#\tkernel_size=(3, 3), padding=1)\n",
    "\n",
    "\t\t# initialize second set of CONV => RELU => CONV => RELU => POOL layers\n",
    "        #self.conv41 = nn.Conv2d(in_channels=64, out_channels=64, #28\n",
    "\t\t#\tkernel_size=(3, 3), padding=1)\n",
    "        #self.conv42 = nn.Conv2d(in_channels=64, out_channels=64, #26\n",
    "\t\t#\tkernel_size=(3, 3), padding=1)\n",
    "\n",
    "        # MLP\n",
    "        # initialize first set of FC => RELU layers\n",
    "        self.fc1 = nn.Linear(in_features=53824, out_features=n_features) # 9216?\n",
    "        self.relu = nn.LeakyReLU() # nn.ReLU()\n",
    "        self.dropout = nn.Dropout(p=0.2)\n",
    "\n",
    "\t\t# initialize second set of FC => RELU layers\n",
    "        self.fc2 = nn.Linear(in_features=n_features, out_features=n_features)\n",
    "        self.fc3 = nn.Linear(in_features=n_features, out_features=n_features)\n",
    "        self.fc4 = nn.Linear(in_features=n_features, out_features=2*128)\n",
    "        self.fc5 = nn.Linear(in_features=2*128, out_features=2*128)\n",
    "\n",
    "        self.fc_action = nn.Linear(2*128, 1)      # output action class\n",
    "        self.fc_gender = nn.Linear(2*128, 1)      # output gesture class\n",
    "        self.fc_look = nn.Linear(2*128, 1)        # output look class\n",
    "        self.fc_cross = nn.Linear(2*128, 3)       # output cross class\n",
    "\n",
    "        self.logSoftmax = nn.LogSoftmax(dim=1) #dim=1 je ze to robi po riadkoch\n",
    "        self.BCELoss = nn.BCEWithLogitsLoss() \n",
    "\n",
    "\n",
    "    def forward(self, x) -> dict:        \n",
    "        \"\"\"\n",
    "        forward pass\n",
    "        :param x: data x\n",
    "        \"\"\"\n",
    "        # pass the input through our first set of CONV => RELU => POOL layers\n",
    "        output = self.conv11(x)\n",
    "        output = self.relu(output)\n",
    "        output = self.conv12(output)\n",
    "        output = self.relu(output)\n",
    "        output = self.maxpool(output)\n",
    "\n",
    "\t\t# flatten the output from the previous layer and pass it\n",
    "\t\t# through our only set of FC => RELU layers\n",
    "        #print(output.shape)\n",
    "        output = flatten(output, 1)\n",
    "        #print(output)\n",
    "        #print(\"after flatten \", output.shape)\n",
    "        output = self.fc1(output)\n",
    "        output = self.relu(output)\n",
    "        output = self.dropout(output)\n",
    "\t\t\n",
    "        output = self.fc2(output)\n",
    "        output = self.relu(output)\n",
    "        output = self.dropout(output)\n",
    "\n",
    "        output = self.fc3(output)\n",
    "        output = self.relu(output)\n",
    "        output = self.dropout(output)\n",
    "\n",
    "        output = self.fc4(output)\n",
    "        output = self.relu(output)\n",
    "        output = self.dropout(output)\n",
    "\n",
    "        output = self.fc5(output)\n",
    "        output = self.relu(output)\n",
    "        output = self.dropout(output)\n",
    "\n",
    "        # pass output to 4 different layers to get 4 classes\n",
    "        label_action = self.fc_action(output)\n",
    "        label_gender = self.fc_gender(output) # torch.sigmoid(self.fc2(X))  \n",
    "        label_look = self.fc_look(output)\n",
    "        label_cross = self.fc_cross(output)\n",
    "\n",
    "        # pass the output to our logSoftmax classifier to get our output\n",
    "        #label_action = self.sigmoid(label_action)\n",
    "        #label_gender = self.sigmoid(label_gender)\n",
    "        #label_look = self.sigmoid(label_look)\n",
    "        #label_cross = self.logSoftmax(label_cross)\n",
    "        \n",
    "        # return 4 classes\n",
    "        return {'label_action': label_action,\n",
    "                'label_gender': label_gender,\n",
    "                'label_look': label_look,\n",
    "                'label_cross': label_cross}"
   ]
  },
  {
   "attachments": {},
   "cell_type": "markdown",
   "metadata": {},
   "source": [
    "## 4. training & validation"
   ]
  },
  {
   "cell_type": "code",
   "execution_count": 17,
   "metadata": {},
   "outputs": [],
   "source": [
    "# Calculate accuracy (a classification metric)\n",
    "def accuracy_fn(y_true, y_pred):\n",
    "    correct = torch.eq(y_true, y_pred).sum().item() # torch.eq() calculates where two tensors are equal\n",
    "    return correct"
   ]
  },
  {
   "cell_type": "code",
   "execution_count": 18,
   "metadata": {},
   "outputs": [],
   "source": [
    "class EarlyStopper:\n",
    "    def __init__(self, patience=1, min_delta=0):\n",
    "        self.patience = patience\n",
    "        self.min_delta = min_delta\n",
    "        self.counter = 0\n",
    "        self.min_validation_loss = np.inf\n",
    "\n",
    "    def early_stop(self, validation_loss):\n",
    "        if validation_loss < self.min_validation_loss:\n",
    "            self.min_validation_loss = validation_loss\n",
    "            self.counter = 0\n",
    "        elif validation_loss > (self.min_validation_loss + self.min_delta):\n",
    "            self.counter += 1\n",
    "            if self.counter >= self.patience:\n",
    "                return True\n",
    "        return False\n"
   ]
  },
  {
   "cell_type": "code",
   "execution_count": 19,
   "metadata": {},
   "outputs": [],
   "source": [
    "def val_cnn(val_dl, loss_fn, model, device):\n",
    "    \"\"\"\n",
    "    Validation\n",
    "    \"\"\"\n",
    "    # init epoch validation counters\n",
    "    epoch_train_accuracy_action, epoch_train_total_action, \\\n",
    "        epoch_train_true_action, epoch_train_loss = 0, 0, 0, 0\n",
    "    \n",
    "    epoch_train_accuracy_gender, epoch_train_total_gender, \\\n",
    "        epoch_train_true_gender = 0, 0, 0\n",
    "    \n",
    "    epoch_train_accuracy_look, epoch_train_total_look, \\\n",
    "        epoch_train_true_look = 0, 0, 0\n",
    "    \n",
    "    epoch_train_accuracy_cross, epoch_train_total_cross, \\\n",
    "        epoch_train_true_cross = 0, 0, 0\n",
    "    \n",
    "    # disable gradient calculation\n",
    "    with torch.no_grad():\n",
    "        # enumerate mini batches\n",
    "        for _, sample in enumerate(val_dl):\n",
    "            # get X and y with index from sample\n",
    "            X_batch, y_batch_action, y_batch_gender, \\\n",
    "                y_batch_look, y_batch_cross, idx = sample['data'], sample['label_action'], \\\n",
    "                    sample['label_gender'], sample['label_look'], sample['label_cross'], \\\n",
    "                        sample['img_idx']\n",
    "            \n",
    "            # y_batch_cross = y_batch_cross.type(torch.LongTensor)\n",
    "            \n",
    "            X_batch, y_batch_action, y_batch_gender, y_batch_look, y_batch_cross = \\\n",
    "                X_batch.to(device), y_batch_action.to(device), y_batch_gender.to(device), \\\n",
    "                    y_batch_look.to(device), y_batch_cross.to(device)\n",
    "                     \n",
    "            # compute the model output\n",
    "            # Make prediction logits with model\n",
    "            y_hat = model(X_batch)\n",
    "            y_action = y_hat['label_action']\n",
    "            y_gender = y_hat['label_gender']\n",
    "            y_look = y_hat['label_look']\n",
    "            y_cross = y_hat['label_cross']\n",
    "\n",
    "            y_cross_ = model.logSoftmax(y_cross) \n",
    "            y_cross_1 = torch.argmax(y_cross_, dim=1).type(torch.LongTensor).to(device)\n",
    "            \n",
    "            _, y_action_ = torch.max(y_action, dim=1) \n",
    "            _, y_gender_ = torch.max(y_gender, dim=1)\n",
    "            _, y_look_ = torch.max(y_look, dim=1)\n",
    "\n",
    "            #y_cross_1 = torch.argmax(y_cross)\n",
    "            loss_action = model.BCELoss(y_action, y_batch_action.unsqueeze(1))\n",
    "            loss_gender = model.BCELoss(y_gender, y_batch_gender.unsqueeze(1))\n",
    "            loss_look = model.BCELoss(y_look, y_batch_look.unsqueeze(1))\n",
    "            loss_cross = loss_fn(y_cross_, y_batch_cross)\n",
    "            \n",
    "            loss = loss_action + loss_gender + loss_look + loss_cross\n",
    "            \n",
    "            # update train counters\n",
    "            epoch_train_loss += loss.item()\n",
    "\n",
    "            epoch_train_true_action += accuracy_fn(y_action_, y_batch_action)\n",
    "            epoch_train_total_action += len(y_batch_action)\n",
    "\n",
    "            epoch_train_true_gender += accuracy_fn(y_gender_, y_batch_gender)\n",
    "            epoch_train_total_gender += len(y_batch_gender)\n",
    "\n",
    "            epoch_train_true_look += accuracy_fn(y_look_, y_batch_look)\n",
    "            epoch_train_total_look += len(y_batch_look)\n",
    "\n",
    "            epoch_train_true_cross += accuracy_fn(y_cross_1, y_batch_cross)\n",
    "            epoch_train_total_cross += len(y_batch_cross)\n",
    "\n",
    "        # update train accuracy & loss statistics\n",
    "        epoch_train_loss /= (len(val_dl.dataset)/val_dl.batch_size)\n",
    "        \n",
    "        epoch_train_accuracy_action = (epoch_train_true_action/epoch_train_total_action) * 100\n",
    "        epoch_train_accuracy_gesture = (epoch_train_true_gender/epoch_train_total_gender) * 100\n",
    "        epoch_train_accuracy_look = (epoch_train_true_look/epoch_train_total_look) * 100\n",
    "        epoch_train_accuracy_cross = (epoch_train_true_cross/epoch_train_total_cross) * 100\n",
    "\n",
    "    return epoch_train_loss, epoch_train_accuracy_action, epoch_train_accuracy_gesture, \\\n",
    "        epoch_train_accuracy_look, epoch_train_accuracy_cross\n",
    "    "
   ]
  },
  {
   "cell_type": "code",
   "execution_count": 20,
   "metadata": {},
   "outputs": [],
   "source": [
    "def train_cnn(train_dl:DataLoader, val_dl:DataLoader, n_epochs:int, optimizer: optim, model: nn.Module, loss_fn: nn.NLLLoss, device):\n",
    "    \"\"\"\n",
    "    Training\n",
    "    \"\"\"\n",
    "    # init train lists for statistics\n",
    "    loss_train, acc_action_train, acc_gender_train, \\\n",
    "        acc_look_train, acc_cross_train = list(), list(), list(), list(), list()\n",
    "\n",
    "    # init validation lists for statistics\n",
    "    loss_val, acc_action_val, acc_gender_val, \\\n",
    "        acc_look_val, acc_cross_val = list(), list(), list(), list(), list()\n",
    "    \n",
    "    early_stopper = EarlyStopper(patience=3, min_delta=1)    \n",
    "    # enumerate epochs\n",
    "    for epoch in range(n_epochs):\n",
    "        # init epoch train counters\n",
    "        epoch_train_accuracy_action, epoch_train_total_action, \\\n",
    "            epoch_train_true_action, epoch_train_loss = 0, 0, 0, 0\n",
    "        \n",
    "        epoch_train_accuracy_gender, epoch_train_total_gender, \\\n",
    "            epoch_train_true_gender = 0, 0, 0\n",
    "        \n",
    "        epoch_train_accuracy_look, epoch_train_total_look, \\\n",
    "            epoch_train_true_look = 0, 0, 0\n",
    "        \n",
    "        epoch_train_accuracy_cross, epoch_train_total_cross, \\\n",
    "            epoch_train_true_cross = 0, 0, 0\n",
    "\n",
    "        # enumerate mini batches\n",
    "        for _, sample in enumerate(train_dl):\n",
    "            # get X and y with index from sample\n",
    "            X_batch, y_batch_action, y_batch_gender, \\\n",
    "                y_batch_look, y_batch_cross, idx = sample['data'], sample['label_action'], \\\n",
    "                    sample['label_gender'], sample['label_look'], sample['label_cross'], \\\n",
    "                        sample['img_idx']\n",
    "            \n",
    "            X_batch, y_batch_action, y_batch_gender, y_batch_look, y_batch_cross = \\\n",
    "                X_batch.to(device), y_batch_action.to(device), y_batch_gender.to(device), \\\n",
    "                    y_batch_look.to(device), y_batch_cross.to(device)\n",
    "            \n",
    "            # clear the gradients\n",
    "            optimizer.zero_grad()\n",
    "            \n",
    "            # compute the model output\n",
    "            # Make prediction logits with model\n",
    "            y_hat = model(X_batch)\n",
    "            y_action = y_hat['label_action']\n",
    "            y_gender = y_hat['label_gender']\n",
    "            y_look = y_hat['label_look']\n",
    "            y_cross = y_hat['label_cross']\n",
    "\n",
    "            y_cross_ = model.logSoftmax(y_cross) \n",
    "            y_cross_1 = torch.argmax(y_cross_, dim=1).type(torch.LongTensor).to(device)\n",
    "            \n",
    "            _, y_action_ = torch.max(y_action, dim=1) #.round().int()\n",
    "            _, y_gender_ = torch.max(y_gender, dim=1) #.round().int()\n",
    "            _, y_look_ = torch.max(y_look, dim=1) #.round().int()\n",
    "            \n",
    "            loss_action = model.BCELoss(y_action, y_batch_action.unsqueeze(1))\n",
    "            loss_gender = model.BCELoss(y_gender, y_batch_gender.unsqueeze(1))\n",
    "            loss_look = model.BCELoss(y_look, y_batch_look.unsqueeze(1))\n",
    "            loss_cross = loss_fn(y_cross_, y_batch_cross)\n",
    "\n",
    "            loss = loss_action + loss_gender + loss_look + loss_cross\n",
    "            \n",
    "            loss.backward()\n",
    "            \n",
    "            optimizer.step()\n",
    "\n",
    "            # update train counters\n",
    "            epoch_train_loss += loss.item()\n",
    "\n",
    "            epoch_train_true_action += accuracy_fn(y_action_, y_batch_action)\n",
    "            epoch_train_total_action += len(y_batch_action)\n",
    "\n",
    "            epoch_train_true_gender += accuracy_fn(y_gender_, y_batch_gender)\n",
    "            epoch_train_total_gender += len(y_batch_gender)\n",
    "\n",
    "            epoch_train_true_look += accuracy_fn(y_look_, y_batch_look)\n",
    "            epoch_train_total_look += len(y_batch_look)\n",
    "\n",
    "            epoch_train_true_cross += accuracy_fn(y_cross_1, y_batch_cross)\n",
    "            epoch_train_total_cross += len(y_batch_cross)\n",
    "\n",
    "        # update train accuracy & loss statistics\n",
    "        epoch_train_loss /= (len(train_dl.dataset)/train_dl.batch_size)\n",
    "        \n",
    "        epoch_train_accuracy_action = (epoch_train_true_action/epoch_train_total_action) * 100\n",
    "        epoch_train_accuracy_gender = (epoch_train_true_gender/epoch_train_total_gender) * 100\n",
    "        epoch_train_accuracy_look = (epoch_train_true_look/epoch_train_total_look) * 100\n",
    "        epoch_train_accuracy_cross = (epoch_train_true_cross/epoch_train_total_cross) * 100\n",
    "        \n",
    "        # validation\n",
    "        epoch_val_loss, epoch_val_acc_action, epoch_val_acc_gender, \\\n",
    "            epoch_val_acc_look, epoch_val_acc_cross = val_cnn(val_dl=val_dl, \n",
    "                                                              model=model, \n",
    "                                                              loss_fn=loss_fn, \n",
    "                                                              device=device)\n",
    "        \n",
    "        # update global train stats\n",
    "        loss_train.append(epoch_train_loss)\n",
    "        acc_action_train.append(epoch_train_accuracy_action)\n",
    "        acc_gender_train.append(epoch_train_accuracy_gender)\n",
    "        acc_look_train.append(epoch_train_accuracy_look)\n",
    "        acc_cross_train.append(epoch_train_accuracy_cross)\n",
    "\n",
    "        # update global validation stats\n",
    "        loss_val.append(epoch_val_loss)\n",
    "        acc_action_val.append(epoch_val_acc_action) \n",
    "        acc_gender_val.append(epoch_val_acc_gender)\n",
    "        acc_look_val.append(epoch_val_acc_look)\n",
    "        acc_cross_val.append(epoch_val_acc_cross)\n",
    "\n",
    "        # print\n",
    "        if epoch % 1 == 0: #== (n_epochs - 1):\n",
    "            print(\n",
    "                f'Epoch {epoch}/{n_epochs}: \\\n",
    "                train loss {loss_train[-1]}, \\\n",
    "                val loss {loss_val[-1]}, \\\n",
    "                action train acc {acc_action_train[-1]}, \\\n",
    "                gender train acc {acc_gender_train[-1]}, \\\n",
    "                look train acc {acc_look_train[-1]}, \\\n",
    "                cross train acc {acc_cross_train[-1]}, \\\n",
    "                action val acc {acc_action_val[-1]}, \\\n",
    "                gender val acc {acc_gender_val[-1]}, \\\n",
    "                look val acc {acc_look_val[-1]}, \\\n",
    "                cross val acc {acc_cross_val[-1]}'\n",
    "            )\n",
    "\n",
    "        # log metrics to WandB\n",
    "        wandb.log({\"train loss\": epoch_train_loss, \n",
    "                    \"val_loss\": epoch_val_loss,\n",
    "                    \"action train acc\": epoch_train_accuracy_action,\n",
    "                    \"gender train acc\": epoch_train_accuracy_gender,\n",
    "                    \"look train acc\": epoch_train_accuracy_look,\n",
    "                    \"cross train acc\": epoch_train_accuracy_cross,\n",
    "                    \"action val acc\": epoch_val_acc_action,\n",
    "                    \"gender val acc\": epoch_val_acc_gender,\n",
    "                    \"look val acc\": epoch_val_acc_look,\n",
    "                    \"cross val acc\": epoch_val_acc_cross}\n",
    "                    ) \n",
    "        \n",
    "        # early stopping\n",
    "        if early_stopper.early_stop(epoch_val_loss):    \n",
    "            print(f'Early stopped at {epoch}')         \n",
    "            break\n",
    "\n",
    "    return loss_train, acc_action_train, acc_gender_train, acc_look_train, \\\n",
    "        acc_cross_train, loss_val, acc_action_val, acc_gender_val, \\\n",
    "            acc_look_val, acc_cross_val"
   ]
  },
  {
   "cell_type": "code",
   "execution_count": 21,
   "metadata": {},
   "outputs": [],
   "source": [
    "def evaluation(model, test_dl):\n",
    "    \"\"\"\n",
    "    evaluation\n",
    "    \"\"\"    \n",
    "    y_test_all_action, y_test_all_gender, y_test_all_cross, y_test_all_look = list(), list(), list(), list()\n",
    "    y_all_action, y_all_gender, y_all_cross, y_all_look = list(), list(), list(), list()\n",
    "    # total_action, total_gesture, total_cross, total_look = 0, 0, 0, 0\n",
    "    correct_action, correct_gender, correct_cross, correct_look = 0, 0, 0, 0\n",
    "    # disable gradient calculation\n",
    "    with torch.no_grad():\n",
    "        # enumerate mini batches\n",
    "        for _, sample in enumerate(test_dl):\n",
    "            # get X and y with index from sample\n",
    "            X_batch, y_batch_action, y_batch_gender, \\\n",
    "                y_batch_look, y_batch_cross, idx = sample['data'], sample['label_action'], \\\n",
    "                    sample['label_gender'], sample['label_look'], sample['label_cross'], \\\n",
    "                        sample['img_idx']\n",
    "            \n",
    "            X_batch, y_batch_action, y_batch_gender, y_batch_look, y_batch_cross = \\\n",
    "                X_batch.to(device), y_batch_action.to(device), y_batch_gender.to(device), \\\n",
    "                    y_batch_look.to(device), y_batch_cross.to(device)\n",
    "                     \n",
    "            # compute the model output\n",
    "            # Make prediction logits with model\n",
    "            y_hat = model(X_batch)\n",
    "            y_action = y_hat['label_action']\n",
    "            y_gender = y_hat['label_gender']\n",
    "            y_look = y_hat['label_look']\n",
    "            y_cross = y_hat['label_cross']\n",
    "            \n",
    "            y_cross_ = model.logSoftmax(y_cross) \n",
    "\n",
    "            true_cross_max = torch.argmax(y_cross_, dim=1)\n",
    "\n",
    "            #y_action_ = model.logSoftmax(y_action) \n",
    "            _, y_action_ = torch.max(y_action, dim=1) #.round().int()\n",
    "            _, y_gender_ = torch.max(y_gender, dim=1) #.round().int()\n",
    "            _, y_look_ = torch.max(y_look, dim=1) #.round().int()\n",
    "            \n",
    "            # accuracies\n",
    "            true_action = accuracy_fn(y_action_, y_batch_action)\n",
    "            true_gender = accuracy_fn(y_gender_, y_batch_gender)\n",
    "            true_look = accuracy_fn(y_look_, y_batch_look)\n",
    "            true_cross = accuracy_fn(true_cross_max, y_batch_cross)\n",
    "        \n",
    "            # update predictions stats\n",
    "            y_all_action.extend(y_action_.cpu().numpy())\n",
    "            y_all_gender.extend(y_gender_.cpu().numpy())\n",
    "            y_all_look.extend(y_look_.cpu().numpy())\n",
    "            y_all_cross.extend(true_cross_max.cpu().numpy())\n",
    "\n",
    "            # update batch y stats\n",
    "            y_test_all_action.extend(y_batch_action.cpu().numpy())\n",
    "            y_test_all_gender.extend(y_batch_gender.cpu().numpy())\n",
    "            y_test_all_look.extend(y_batch_look.cpu().numpy())\n",
    "            y_test_all_cross.extend(y_batch_cross.cpu().numpy())\n",
    "\n",
    "            correct_action += true_action\n",
    "            correct_gender += true_gender\n",
    "            correct_look += true_look\n",
    "            correct_cross += true_cross\n",
    "\n",
    "    #print(y_test_all_action)\n",
    "    #print(y_all_action)\n",
    "    report_action = classification_report(y_test_all_action, y_all_action, target_names=['0', '1'])\n",
    "    report_gender = classification_report(y_test_all_gender, y_all_gender, target_names=['0', '1'])#, '1', '2'])\n",
    "    report_look = classification_report(y_test_all_look, y_all_look, target_names=['0', '1'])\n",
    "    report_cross = classification_report(y_test_all_cross, y_all_cross, target_names=['0', '1', '2'])\n",
    "\n",
    "    matrix_action = confusion_matrix(y_test_all_action, y_all_action)\n",
    "    matrix_gender = confusion_matrix(y_test_all_gender, y_all_gender)\n",
    "    matrix_look = confusion_matrix(y_test_all_look, y_all_look)\n",
    "    matrix_cross = confusion_matrix(y_test_all_cross, y_all_cross)\n",
    "    \n",
    "    matrix_action_display = ConfusionMatrixDisplay(matrix_action, display_labels=['0', '1'])\n",
    "    matrix_gender_display = ConfusionMatrixDisplay(matrix_gender, display_labels=['0', '1'])\n",
    "    matrix_look_display = ConfusionMatrixDisplay(matrix_look, display_labels=['0', '1'])\n",
    "    matrix_cross_display = ConfusionMatrixDisplay(matrix_cross, display_labels=['0', '1', '2'])\n",
    "\n",
    "    return report_action, report_gender, report_look, report_cross, \\\n",
    "        matrix_action_display, matrix_gender_display, \\\n",
    "            matrix_look_display, matrix_cross_display\n",
    "    "
   ]
  },
  {
   "cell_type": "code",
   "execution_count": 22,
   "metadata": {},
   "outputs": [],
   "source": [
    "def wandb_sweep(): #-> Tuple[List, List, List, List]:\n",
    "    \"\"\" \n",
    "    Train the model\n",
    "    n_epochs, mlp, optimizer, loss_fn, \n",
    "              train_dl, val_dl, device, default_config\n",
    "    \"\"\"    \n",
    "    torch.cuda.empty_cache()\n",
    "    \n",
    "    # start a new wandb run to track this script\n",
    "    wandb.init(\n",
    "        # set the wandb project where this run will be logged\n",
    "        project=\"pedestrian_classification\",\n",
    "        # track hyperparameters and run metadata\n",
    "        config=default_config\n",
    "    )\n",
    "\n",
    "    config = wandb.config\n",
    "    # define training hyperparameters\n",
    "    INIT_LR = config.learning_rate #0.001 #1e-3\n",
    "    #W_DECAY = 1e-6\n",
    "    EPOCHS = config.epochs \n",
    "    MOMENTUM = config.momentum\n",
    "    #CUDA_LAUNCH_BLOCKING=1\n",
    "\n",
    "    # initialize the LeNet model\n",
    "    print(\"[INFO] initializing the CNN model...\")\n",
    "    n_channels = 1 # 1 for grayscale\n",
    "    n_features = config.n_features \n",
    "\n",
    "    pie_path = '../' \n",
    "    pie = PIE(data_path=pie_path)\n",
    "    \n",
    "    train_dataset = PIE_dataset('train', pie)\n",
    "    val_dataset = PIE_dataset('val', pie)\n",
    "    test_dataset = PIE_dataset('test', pie)\n",
    "\n",
    "    BATCH_SIZE = config.batch_size\n",
    "\n",
    "    train_dataloader = DataLoader(train_dataset, batch_size=BATCH_SIZE, shuffle=True) #, num_workers=4)\n",
    "    test_dataloader = DataLoader(test_dataset, batch_size=BATCH_SIZE, shuffle=False) #, num_workers=4)\n",
    "    val_dataloader = DataLoader(val_dataset, batch_size=BATCH_SIZE, shuffle=True) #, num_workers=4)\n",
    "\n",
    "    model = CNN(\n",
    "        n_channels=n_channels, \n",
    "        n_features=n_features\n",
    "    ) \n",
    "\n",
    "    model.to(device)\n",
    "\n",
    "    # initialize our optimizer and loss function\n",
    "    opt = optim.SGD(model.parameters(), lr=INIT_LR, momentum=MOMENTUM) #optim.Adam(model.parameters(), lr=INIT_LR, capturable=False)\n",
    "    lossFn = nn.CrossEntropyLoss() #nn.NLLLoss()\n",
    "    #learning_rate = config.learning_rate    #  # 0.001 \n",
    "    #input_size = 20                         # number of features\n",
    "    # hidden_size = config.hidden_size        #  #64         # number of features in hidden state\n",
    "    #num_classes = 4                 # number of output classes \n",
    "\n",
    "    #n_epochs = config.epochs        \n",
    "    #batch_size = config.batch_size  \n",
    "    loss_train, acc_action_train, acc_gender_train, acc_look_train, \\\n",
    "        acc_cross_train, loss_val, acc_action_val, acc_gender_val, \\\n",
    "            acc_look_val, acc_cross_val = \\\n",
    "                train_cnn(\n",
    "        n_epochs=EPOCHS,\n",
    "        model=model,\n",
    "        optimizer=opt,\n",
    "        loss_fn=lossFn,\n",
    "        train_dl=train_dataloader,\n",
    "        val_dl=val_dataloader,\n",
    "        device=device\n",
    "    )\n",
    "    \n",
    "    report_action, report_gender, report_look, report_cross, \\\n",
    "        matrix_action_display, matrix_gender_display, \\\n",
    "            matrix_look_display, matrix_cross_display = evaluation(model, test_dataloader)\n",
    "    pprint(report_action)\n",
    "    pprint(report_gender)\n",
    "    pprint(report_look)\n",
    "    pprint(report_cross)\n",
    "    matrix_action_display.plot(cmap='Blues')\n",
    "    matrix_gender_display.plot(cmap='Blues')\n",
    "    matrix_look_display.plot(cmap='Blues')\n",
    "    matrix_cross_display.plot(cmap='Blues')"
   ]
  },
  {
   "cell_type": "code",
   "execution_count": 23,
   "metadata": {},
   "outputs": [
    {
     "name": "stderr",
     "output_type": "stream",
     "text": [
      "\u001b[34m\u001b[1mwandb\u001b[0m: Agent Starting Run: 5ar6t9yf with config:\n",
      "\u001b[34m\u001b[1mwandb\u001b[0m: \tbatch_size: 32\n",
      "\u001b[34m\u001b[1mwandb\u001b[0m: \tepochs: 10\n",
      "\u001b[34m\u001b[1mwandb\u001b[0m: \tlearning_rate: 0.0024432864428872393\n",
      "\u001b[34m\u001b[1mwandb\u001b[0m: \tmomentum: 0.819311658732357\n",
      "\u001b[34m\u001b[1mwandb\u001b[0m: \tn_features: 512\n",
      "Failed to detect the name of this notebook, you can set it manually with the WANDB_NOTEBOOK_NAME environment variable to enable code saving.\n",
      "\u001b[34m\u001b[1mwandb\u001b[0m: \u001b[33mWARNING\u001b[0m Ignored wandb.init() arg project when running a sweep.\n"
     ]
    },
    {
     "data": {
      "text/html": [
       "wandb version 0.14.2 is available!  To upgrade, please run:\n",
       " $ pip install wandb --upgrade"
      ],
      "text/plain": [
       "<IPython.core.display.HTML object>"
      ]
     },
     "metadata": {},
     "output_type": "display_data"
    },
    {
     "data": {
      "text/html": [
       "Tracking run with wandb version 0.13.10"
      ],
      "text/plain": [
       "<IPython.core.display.HTML object>"
      ]
     },
     "metadata": {},
     "output_type": "display_data"
    },
    {
     "data": {
      "text/html": [
       "Run data is saved locally in <code>/home/erik/FIIT/2_Ing/2_semester/NSIETE/cvicenia/zadanie2/src/wandb/run-20230411_145149-5ar6t9yf</code>"
      ],
      "text/plain": [
       "<IPython.core.display.HTML object>"
      ]
     },
     "metadata": {},
     "output_type": "display_data"
    },
    {
     "data": {
      "text/html": [
       "Syncing run <strong><a href='https://wandb.ai/xmatovice/uncategorized/runs/5ar6t9yf' target=\"_blank\">confused-sweep-3</a></strong> to <a href='https://wandb.ai/xmatovice/uncategorized' target=\"_blank\">Weights & Biases</a> (<a href='https://wandb.me/run' target=\"_blank\">docs</a>)<br/>Sweep page: <a href='https://wandb.ai/xmatovice/uncategorized/sweeps/6erje4vd' target=\"_blank\">https://wandb.ai/xmatovice/uncategorized/sweeps/6erje4vd</a>"
      ],
      "text/plain": [
       "<IPython.core.display.HTML object>"
      ]
     },
     "metadata": {},
     "output_type": "display_data"
    },
    {
     "data": {
      "text/html": [
       " View project at <a href='https://wandb.ai/xmatovice/uncategorized' target=\"_blank\">https://wandb.ai/xmatovice/uncategorized</a>"
      ],
      "text/plain": [
       "<IPython.core.display.HTML object>"
      ]
     },
     "metadata": {},
     "output_type": "display_data"
    },
    {
     "data": {
      "text/html": [
       " View sweep at <a href='https://wandb.ai/xmatovice/uncategorized/sweeps/6erje4vd' target=\"_blank\">https://wandb.ai/xmatovice/uncategorized/sweeps/6erje4vd</a>"
      ],
      "text/plain": [
       "<IPython.core.display.HTML object>"
      ]
     },
     "metadata": {},
     "output_type": "display_data"
    },
    {
     "data": {
      "text/html": [
       " View run at <a href='https://wandb.ai/xmatovice/uncategorized/runs/5ar6t9yf' target=\"_blank\">https://wandb.ai/xmatovice/uncategorized/runs/5ar6t9yf</a>"
      ],
      "text/plain": [
       "<IPython.core.display.HTML object>"
      ]
     },
     "metadata": {},
     "output_type": "display_data"
    },
    {
     "name": "stdout",
     "output_type": "stream",
     "text": [
      "[INFO] initializing the CNN model...\n",
      "Epoch 0/10:                 train loss 3.128489565622011,                 val loss 3.0748075512348194,                 action train acc 40.44154540893126,                 gender train acc 49.27245358755645,                 look train acc 60.36126442548921,                 cross train acc 56.4977420973407,                 action val acc 57.81990521327014,                 gender val acc 55.92417061611374,                 look val acc 94.7867298578199,                 cross val acc 94.7867298578199\n",
      "Epoch 1/10:                 train loss 2.968733921998479,                 val loss 2.839489254341306,                 action train acc 40.44154540893126,                 gender train acc 49.27245358755645,                 look train acc 60.36126442548921,                 cross train acc 65.12794781736076,                 action val acc 57.81990521327014,                 gender val acc 55.92417061611374,                 look val acc 94.7867298578199,                 cross val acc 94.7867298578199\n",
      "Epoch 2/10:                 train loss 2.8454855704989437,                 val loss 2.625757551871205,                 action train acc 40.44154540893126,                 gender train acc 49.27245358755645,                 look train acc 60.36126442548921,                 cross train acc 65.12794781736076,                 action val acc 57.81990521327014,                 gender val acc 55.92417061611374,                 look val acc 94.7867298578199,                 cross val acc 94.7867298578199\n",
      "Epoch 3/10:                 train loss 2.7814183826130714,                 val loss 2.6535375152153993,                 action train acc 40.44154540893126,                 gender train acc 49.27245358755645,                 look train acc 60.36126442548921,                 cross train acc 65.12794781736076,                 action val acc 57.81990521327014,                 gender val acc 55.92417061611374,                 look val acc 94.7867298578199,                 cross val acc 94.3127962085308\n",
      "Epoch 4/10:                 train loss 2.7683244620025067,                 val loss 2.6504719449445533,                 action train acc 40.44154540893126,                 gender train acc 49.27245358755645,                 look train acc 60.36126442548921,                 cross train acc 64.92724535875564,                 action val acc 57.81990521327014,                 gender val acc 55.92417061611374,                 look val acc 94.7867298578199,                 cross val acc 94.7867298578199\n",
      "Epoch 5/10:                 train loss 2.763838106223344,                 val loss 2.5733559775691464,                 action train acc 40.44154540893126,                 gender train acc 49.27245358755645,                 look train acc 60.36126442548921,                 cross train acc 64.97742097340694,                 action val acc 57.81990521327014,                 gender val acc 55.92417061611374,                 look val acc 94.7867298578199,                 cross val acc 94.7867298578199\n",
      "Epoch 6/10:                 train loss 2.758348640101194,                 val loss 2.626003789675744,                 action train acc 40.44154540893126,                 gender train acc 49.27245358755645,                 look train acc 60.36126442548921,                 cross train acc 64.72654290015053,                 action val acc 57.81990521327014,                 gender val acc 55.92417061611374,                 look val acc 94.7867298578199,                 cross val acc 93.8388625592417\n",
      "Epoch 7/10:                 train loss 2.7452444027729865,                 val loss 2.598823077305798,                 action train acc 40.44154540893126,                 gender train acc 49.27245358755645,                 look train acc 60.36126442548921,                 cross train acc 64.72654290015053,                 action val acc 57.81990521327014,                 gender val acc 55.92417061611374,                 look val acc 94.7867298578199,                 cross val acc 93.8388625592417\n",
      "Epoch 8/10:                 train loss 2.727583874187096,                 val loss 2.617469389856709,                 action train acc 40.44154540893126,                 gender train acc 49.27245358755645,                 look train acc 60.36126442548921,                 cross train acc 64.87706974410436,                 action val acc 57.81990521327014,                 gender val acc 55.92417061611374,                 look val acc 94.7867298578199,                 cross val acc 94.7867298578199\n",
      "Epoch 9/10:                 train loss 2.716675137731817,                 val loss 2.612100646394124,                 action train acc 40.44154540893126,                 gender train acc 49.27245358755645,                 look train acc 60.36126442548921,                 cross train acc 64.92724535875564,                 action val acc 57.81990521327014,                 gender val acc 55.92417061611374,                 look val acc 94.7867298578199,                 cross val acc 89.0995260663507\n",
      "('              precision    recall  f1-score   support\\n'\n",
      " '\\n'\n",
      " '           0       0.55      1.00      0.71       316\\n'\n",
      " '           1       0.00      0.00      0.00       263\\n'\n",
      " '\\n'\n",
      " '    accuracy                           0.55       579\\n'\n",
      " '   macro avg       0.27      0.50      0.35       579\\n'\n",
      " 'weighted avg       0.30      0.55      0.39       579\\n')\n",
      "('              precision    recall  f1-score   support\\n'\n",
      " '\\n'\n",
      " '           0       0.55      1.00      0.71       321\\n'\n",
      " '           1       0.00      0.00      0.00       258\\n'\n",
      " '\\n'\n",
      " '    accuracy                           0.55       579\\n'\n",
      " '   macro avg       0.28      0.50      0.36       579\\n'\n",
      " 'weighted avg       0.31      0.55      0.40       579\\n')\n",
      "('              precision    recall  f1-score   support\\n'\n",
      " '\\n'\n",
      " '           0       0.91      1.00      0.95       529\\n'\n",
      " '           1       0.00      0.00      0.00        50\\n'\n",
      " '\\n'\n",
      " '    accuracy                           0.91       579\\n'\n",
      " '   macro avg       0.46      0.50      0.48       579\\n'\n",
      " 'weighted avg       0.83      0.91      0.87       579\\n')\n",
      "('              precision    recall  f1-score   support\\n'\n",
      " '\\n'\n",
      " '           0       0.89      0.93      0.91       517\\n'\n",
      " '           1       0.03      0.02      0.02        54\\n'\n",
      " '           2       0.00      0.00      0.00         8\\n'\n",
      " '\\n'\n",
      " '    accuracy                           0.83       579\\n'\n",
      " '   macro avg       0.30      0.32      0.31       579\\n'\n",
      " 'weighted avg       0.79      0.83      0.81       579\\n')\n"
     ]
    },
    {
     "data": {
      "text/html": [
       "Waiting for W&B process to finish... <strong style=\"color:green\">(success).</strong>"
      ],
      "text/plain": [
       "<IPython.core.display.HTML object>"
      ]
     },
     "metadata": {},
     "output_type": "display_data"
    },
    {
     "data": {
      "application/vnd.jupyter.widget-view+json": {
       "model_id": "40fdaec5a57844efa809455939ef717c",
       "version_major": 2,
       "version_minor": 0
      },
      "text/plain": [
       "VBox(children=(Label(value='0.003 MB of 0.023 MB uploaded (0.000 MB deduped)\\r'), FloatProgress(value=0.117015…"
      ]
     },
     "metadata": {},
     "output_type": "display_data"
    },
    {
     "data": {
      "text/html": [
       "<style>\n",
       "    table.wandb td:nth-child(1) { padding: 0 10px; text-align: left ; width: auto;} td:nth-child(2) {text-align: left ; width: 100%}\n",
       "    .wandb-row { display: flex; flex-direction: row; flex-wrap: wrap; justify-content: flex-start; width: 100% }\n",
       "    .wandb-col { display: flex; flex-direction: column; flex-basis: 100%; flex: 1; padding: 10px; }\n",
       "    </style>\n",
       "<div class=\"wandb-row\"><div class=\"wandb-col\"><h3>Run history:</h3><br/><table class=\"wandb\"><tr><td>action train acc</td><td>▁▁▁▁▁▁▁▁▁▁</td></tr><tr><td>action val acc</td><td>▁▁▁▁▁▁▁▁▁▁</td></tr><tr><td>cross train acc</td><td>▁█████████</td></tr><tr><td>cross val acc</td><td>███▇██▇▇█▁</td></tr><tr><td>gender train acc</td><td>▁▁▁▁▁▁▁▁▁▁</td></tr><tr><td>gender val acc</td><td>▁▁▁▁▁▁▁▁▁▁</td></tr><tr><td>look train acc</td><td>▁▁▁▁▁▁▁▁▁▁</td></tr><tr><td>look val acc</td><td>▁▁▁▁▁▁▁▁▁▁</td></tr><tr><td>train loss</td><td>█▅▃▂▂▂▂▁▁▁</td></tr><tr><td>val_loss</td><td>█▅▂▂▂▁▂▁▂▂</td></tr></table><br/></div><div class=\"wandb-col\"><h3>Run summary:</h3><br/><table class=\"wandb\"><tr><td>action train acc</td><td>40.44155</td></tr><tr><td>action val acc</td><td>57.81991</td></tr><tr><td>cross train acc</td><td>64.92725</td></tr><tr><td>cross val acc</td><td>89.09953</td></tr><tr><td>gender train acc</td><td>49.27245</td></tr><tr><td>gender val acc</td><td>55.92417</td></tr><tr><td>look train acc</td><td>60.36126</td></tr><tr><td>look val acc</td><td>94.78673</td></tr><tr><td>train loss</td><td>2.71668</td></tr><tr><td>val_loss</td><td>2.6121</td></tr></table><br/></div></div>"
      ],
      "text/plain": [
       "<IPython.core.display.HTML object>"
      ]
     },
     "metadata": {},
     "output_type": "display_data"
    },
    {
     "data": {
      "text/html": [
       " View run <strong style=\"color:#cdcd00\">confused-sweep-3</strong> at: <a href='https://wandb.ai/xmatovice/uncategorized/runs/5ar6t9yf' target=\"_blank\">https://wandb.ai/xmatovice/uncategorized/runs/5ar6t9yf</a><br/>Synced 6 W&B file(s), 0 media file(s), 0 artifact file(s) and 0 other file(s)"
      ],
      "text/plain": [
       "<IPython.core.display.HTML object>"
      ]
     },
     "metadata": {},
     "output_type": "display_data"
    },
    {
     "data": {
      "text/html": [
       "Find logs at: <code>./wandb/run-20230411_145149-5ar6t9yf/logs</code>"
      ],
      "text/plain": [
       "<IPython.core.display.HTML object>"
      ]
     },
     "metadata": {},
     "output_type": "display_data"
    },
    {
     "name": "stderr",
     "output_type": "stream",
     "text": [
      "\u001b[34m\u001b[1mwandb\u001b[0m: Agent Starting Run: hn8whwv4 with config:\n",
      "\u001b[34m\u001b[1mwandb\u001b[0m: \tbatch_size: 32\n",
      "\u001b[34m\u001b[1mwandb\u001b[0m: \tepochs: 100\n",
      "\u001b[34m\u001b[1mwandb\u001b[0m: \tlearning_rate: 0.04290276749092704\n",
      "\u001b[34m\u001b[1mwandb\u001b[0m: \tmomentum: 0.398030894908965\n",
      "\u001b[34m\u001b[1mwandb\u001b[0m: \tn_features: 512\n",
      "Failed to detect the name of this notebook, you can set it manually with the WANDB_NOTEBOOK_NAME environment variable to enable code saving.\n",
      "\u001b[34m\u001b[1mwandb\u001b[0m: \u001b[33mWARNING\u001b[0m Ignored wandb.init() arg project when running a sweep.\n"
     ]
    },
    {
     "data": {
      "text/html": [
       "wandb version 0.14.2 is available!  To upgrade, please run:\n",
       " $ pip install wandb --upgrade"
      ],
      "text/plain": [
       "<IPython.core.display.HTML object>"
      ]
     },
     "metadata": {},
     "output_type": "display_data"
    },
    {
     "data": {
      "text/html": [
       "Tracking run with wandb version 0.13.10"
      ],
      "text/plain": [
       "<IPython.core.display.HTML object>"
      ]
     },
     "metadata": {},
     "output_type": "display_data"
    },
    {
     "data": {
      "text/html": [
       "Run data is saved locally in <code>/home/erik/FIIT/2_Ing/2_semester/NSIETE/cvicenia/zadanie2/src/wandb/run-20230411_145410-hn8whwv4</code>"
      ],
      "text/plain": [
       "<IPython.core.display.HTML object>"
      ]
     },
     "metadata": {},
     "output_type": "display_data"
    },
    {
     "data": {
      "text/html": [
       "Syncing run <strong><a href='https://wandb.ai/xmatovice/uncategorized/runs/hn8whwv4' target=\"_blank\">wobbly-sweep-4</a></strong> to <a href='https://wandb.ai/xmatovice/uncategorized' target=\"_blank\">Weights & Biases</a> (<a href='https://wandb.me/run' target=\"_blank\">docs</a>)<br/>Sweep page: <a href='https://wandb.ai/xmatovice/uncategorized/sweeps/6erje4vd' target=\"_blank\">https://wandb.ai/xmatovice/uncategorized/sweeps/6erje4vd</a>"
      ],
      "text/plain": [
       "<IPython.core.display.HTML object>"
      ]
     },
     "metadata": {},
     "output_type": "display_data"
    },
    {
     "data": {
      "text/html": [
       " View project at <a href='https://wandb.ai/xmatovice/uncategorized' target=\"_blank\">https://wandb.ai/xmatovice/uncategorized</a>"
      ],
      "text/plain": [
       "<IPython.core.display.HTML object>"
      ]
     },
     "metadata": {},
     "output_type": "display_data"
    },
    {
     "data": {
      "text/html": [
       " View sweep at <a href='https://wandb.ai/xmatovice/uncategorized/sweeps/6erje4vd' target=\"_blank\">https://wandb.ai/xmatovice/uncategorized/sweeps/6erje4vd</a>"
      ],
      "text/plain": [
       "<IPython.core.display.HTML object>"
      ]
     },
     "metadata": {},
     "output_type": "display_data"
    },
    {
     "data": {
      "text/html": [
       " View run at <a href='https://wandb.ai/xmatovice/uncategorized/runs/hn8whwv4' target=\"_blank\">https://wandb.ai/xmatovice/uncategorized/runs/hn8whwv4</a>"
      ],
      "text/plain": [
       "<IPython.core.display.HTML object>"
      ]
     },
     "metadata": {},
     "output_type": "display_data"
    },
    {
     "name": "stdout",
     "output_type": "stream",
     "text": [
      "[INFO] initializing the CNN model...\n",
      "Epoch 0/100:                 train loss 2.9010464658225175,                 val loss 2.552119395179206,                 action train acc 40.44154540893126,                 gender train acc 49.27245358755645,                 look train acc 60.36126442548921,                 cross train acc 63.321625689914704,                 action val acc 57.81990521327014,                 gender val acc 55.92417061611374,                 look val acc 94.7867298578199,                 cross val acc 94.7867298578199\n",
      "Epoch 1/100:                 train loss 2.764629909517295,                 val loss 2.590221748532842,                 action train acc 40.44154540893126,                 gender train acc 49.27245358755645,                 look train acc 60.36126442548921,                 cross train acc 64.57601605619668,                 action val acc 57.81990521327014,                 gender val acc 55.92417061611374,                 look val acc 94.7867298578199,                 cross val acc 94.3127962085308\n",
      "Epoch 2/100:                 train loss 2.715673030349877,                 val loss 2.531751587492595,                 action train acc 40.44154540893126,                 gender train acc 49.27245358755645,                 look train acc 60.36126442548921,                 cross train acc 64.7767185148018,                 action val acc 57.81990521327014,                 gender val acc 55.92417061611374,                 look val acc 94.7867298578199,                 cross val acc 93.8388625592417\n",
      "Epoch 3/100:                 train loss 2.732764654164331,                 val loss 2.595135982567665,                 action train acc 40.44154540893126,                 gender train acc 49.27245358755645,                 look train acc 60.36126442548921,                 cross train acc 65.73005519317611,                 action val acc 57.81990521327014,                 gender val acc 55.92417061611374,                 look val acc 94.7867298578199,                 cross val acc 91.9431279620853\n",
      "Epoch 4/100:                 train loss 2.621009015103889,                 val loss 2.546810349016958,                 action train acc 40.44154540893126,                 gender train acc 49.27245358755645,                 look train acc 60.36126442548921,                 cross train acc 71.19919719016558,                 action val acc 57.81990521327014,                 gender val acc 55.92417061611374,                 look val acc 94.7867298578199,                 cross val acc 79.14691943127961\n",
      "Epoch 5/100:                 train loss 2.5866001931136418,                 val loss 2.276939898305595,                 action train acc 40.44154540893126,                 gender train acc 49.27245358755645,                 look train acc 60.36126442548921,                 cross train acc 72.65429001505268,                 action val acc 57.81990521327014,                 gender val acc 55.92417061611374,                 look val acc 94.7867298578199,                 cross val acc 94.7867298578199\n",
      "Epoch 6/100:                 train loss 2.4817714815575216,                 val loss 2.013186884152381,                 action train acc 40.44154540893126,                 gender train acc 49.27245358755645,                 look train acc 60.36126442548921,                 cross train acc 74.41043652784747,                 action val acc 57.81990521327014,                 gender val acc 55.92417061611374,                 look val acc 94.7867298578199,                 cross val acc 95.73459715639811\n",
      "Epoch 7/100:                 train loss 2.371131496936666,                 val loss 1.959530961457022,                 action train acc 40.44154540893126,                 gender train acc 49.27245358755645,                 look train acc 60.36126442548921,                 cross train acc 77.22027094831911,                 action val acc 57.81990521327014,                 gender val acc 55.92417061611374,                 look val acc 94.7867298578199,                 cross val acc 94.7867298578199\n",
      "Epoch 8/100:                 train loss 2.29611800749339,                 val loss 1.9172921384115356,                 action train acc 40.44154540893126,                 gender train acc 49.27245358755645,                 look train acc 60.36126442548921,                 cross train acc 79.17711991971902,                 action val acc 57.81990521327014,                 gender val acc 55.92417061611374,                 look val acc 94.7867298578199,                 cross val acc 94.7867298578199\n",
      "Epoch 9/100:                 train loss 2.236217020267347,                 val loss 2.0342473215401453,                 action train acc 40.44154540893126,                 gender train acc 49.27245358755645,                 look train acc 60.36126442548921,                 cross train acc 80.48168590065228,                 action val acc 57.81990521327014,                 gender val acc 55.92417061611374,                 look val acc 94.7867298578199,                 cross val acc 90.99526066350711\n",
      "Epoch 10/100:                 train loss 1.9421929447003723,                 val loss 2.034324917183103,                 action train acc 40.44154540893126,                 gender train acc 49.27245358755645,                 look train acc 60.36126442548921,                 cross train acc 86.5529352734571,                 action val acc 57.81990521327014,                 gender val acc 55.92417061611374,                 look val acc 94.7867298578199,                 cross val acc 92.89099526066352\n",
      "Epoch 11/100:                 train loss 1.7976917012277345,                 val loss 2.637699289909471,                 action train acc 40.44154540893126,                 gender train acc 49.27245358755645,                 look train acc 60.36126442548921,                 cross train acc 88.71048670346212,                 action val acc 57.81990521327014,                 gender val acc 55.92417061611374,                 look val acc 94.7867298578199,                 cross val acc 87.20379146919431\n",
      "Epoch 12/100:                 train loss 1.5775436596600063,                 val loss 2.1475404133728895,                 action train acc 40.44154540893126,                 gender train acc 49.27245358755645,                 look train acc 60.36126442548921,                 cross train acc 93.176116407426,                 action val acc 57.81990521327014,                 gender val acc 55.92417061611374,                 look val acc 94.7867298578199,                 cross val acc 92.41706161137441\n",
      "Epoch 13/100:                 train loss 1.4220463139772774,                 val loss 2.264689368659286,                 action train acc 40.44154540893126,                 gender train acc 49.27245358755645,                 look train acc 60.36126442548921,                 cross train acc 94.22980431510285,                 action val acc 57.81990521327014,                 gender val acc 55.92417061611374,                 look val acc 94.7867298578199,                 cross val acc 94.7867298578199\n",
      "Epoch 14/100:                 train loss 1.2606761126558923,                 val loss 2.3439643642913675,                 action train acc 40.44154540893126,                 gender train acc 49.27245358755645,                 look train acc 60.36126442548921,                 cross train acc 95.8354239839438,                 action val acc 57.81990521327014,                 gender val acc 55.92417061611374,                 look val acc 94.7867298578199,                 cross val acc 92.89099526066352\n",
      "Epoch 15/100:                 train loss 1.1784363328902134,                 val loss 2.463807670991003,                 action train acc 40.44154540893126,                 gender train acc 49.27245358755645,                 look train acc 60.36126442548921,                 cross train acc 96.78876066231811,                 action val acc 57.81990521327014,                 gender val acc 55.92417061611374,                 look val acc 94.7867298578199,                 cross val acc 94.7867298578199\n",
      "Epoch 16/100:                 train loss 1.0508888635094658,                 val loss 2.844533857011117,                 action train acc 40.44154540893126,                 gender train acc 49.27245358755645,                 look train acc 60.36126442548921,                 cross train acc 96.98946312092323,                 action val acc 57.81990521327014,                 gender val acc 55.92417061611374,                 look val acc 94.7867298578199,                 cross val acc 93.36492890995261\n",
      "Epoch 17/100:                 train loss 0.9256003600415786,                 val loss 2.7685677044764514,                 action train acc 40.44154540893126,                 gender train acc 49.27245358755645,                 look train acc 60.36126442548921,                 cross train acc 97.59157049673858,                 action val acc 57.81990521327014,                 gender val acc 55.92417061611374,                 look val acc 94.7867298578199,                 cross val acc 94.3127962085308\n",
      "Epoch 18/100:                 train loss 0.7936908829110505,                 val loss 2.572571180443063,                 action train acc 40.44154540893126,                 gender train acc 49.27245358755645,                 look train acc 60.36126442548921,                 cross train acc 97.39086803813348,                 action val acc 57.81990521327014,                 gender val acc 55.92417061611374,                 look val acc 94.7867298578199,                 cross val acc 94.3127962085308\n",
      "Epoch 19/100:                 train loss 0.7712418077222917,                 val loss 2.994452128478136,                 action train acc 40.44154540893126,                 gender train acc 49.27245358755645,                 look train acc 60.36126442548921,                 cross train acc 96.88911189162067,                 action val acc 57.81990521327014,                 gender val acc 55.92417061611374,                 look val acc 94.7867298578199,                 cross val acc 93.8388625592417\n",
      "Epoch 20/100:                 train loss 0.6059345029073927,                 val loss 3.6366610775626667,                 action train acc 40.44154540893126,                 gender train acc 49.27245358755645,                 look train acc 60.36126442548921,                 cross train acc 97.99297541394883,                 action val acc 57.81990521327014,                 gender val acc 55.92417061611374,                 look val acc 94.7867298578199,                 cross val acc 93.36492890995261\n",
      "Epoch 21/100:                 train loss 0.5802921325312268,                 val loss 3.364069247132794,                 action train acc 40.44154540893126,                 gender train acc 49.27245358755645,                 look train acc 60.36126442548921,                 cross train acc 97.3406924234822,                 action val acc 57.81990521327014,                 gender val acc 55.92417061611374,                 look val acc 94.7867298578199,                 cross val acc 93.36492890995261\n",
      "Early stopped at 21\n",
      "('              precision    recall  f1-score   support\\n'\n",
      " '\\n'\n",
      " '           0       0.55      1.00      0.71       316\\n'\n",
      " '           1       0.00      0.00      0.00       263\\n'\n",
      " '\\n'\n",
      " '    accuracy                           0.55       579\\n'\n",
      " '   macro avg       0.27      0.50      0.35       579\\n'\n",
      " 'weighted avg       0.30      0.55      0.39       579\\n')\n",
      "('              precision    recall  f1-score   support\\n'\n",
      " '\\n'\n",
      " '           0       0.55      1.00      0.71       321\\n'\n",
      " '           1       0.00      0.00      0.00       258\\n'\n",
      " '\\n'\n",
      " '    accuracy                           0.55       579\\n'\n",
      " '   macro avg       0.28      0.50      0.36       579\\n'\n",
      " 'weighted avg       0.31      0.55      0.40       579\\n')\n",
      "('              precision    recall  f1-score   support\\n'\n",
      " '\\n'\n",
      " '           0       0.91      1.00      0.95       529\\n'\n",
      " '           1       0.00      0.00      0.00        50\\n'\n",
      " '\\n'\n",
      " '    accuracy                           0.91       579\\n'\n",
      " '   macro avg       0.46      0.50      0.48       579\\n'\n",
      " 'weighted avg       0.83      0.91      0.87       579\\n')\n",
      "('              precision    recall  f1-score   support\\n'\n",
      " '\\n'\n",
      " '           0       0.92      0.96      0.94       517\\n'\n",
      " '           1       0.45      0.35      0.40        54\\n'\n",
      " '           2       0.00      0.00      0.00         8\\n'\n",
      " '\\n'\n",
      " '    accuracy                           0.89       579\\n'\n",
      " '   macro avg       0.46      0.44      0.45       579\\n'\n",
      " 'weighted avg       0.87      0.89      0.88       579\\n')\n"
     ]
    },
    {
     "data": {
      "text/html": [
       "Waiting for W&B process to finish... <strong style=\"color:green\">(success).</strong>"
      ],
      "text/plain": [
       "<IPython.core.display.HTML object>"
      ]
     },
     "metadata": {},
     "output_type": "display_data"
    },
    {
     "data": {
      "text/html": [
       "<style>\n",
       "    table.wandb td:nth-child(1) { padding: 0 10px; text-align: left ; width: auto;} td:nth-child(2) {text-align: left ; width: 100%}\n",
       "    .wandb-row { display: flex; flex-direction: row; flex-wrap: wrap; justify-content: flex-start; width: 100% }\n",
       "    .wandb-col { display: flex; flex-direction: column; flex-basis: 100%; flex: 1; padding: 10px; }\n",
       "    </style>\n",
       "<div class=\"wandb-row\"><div class=\"wandb-col\"><h3>Run history:</h3><br/><table class=\"wandb\"><tr><td>action train acc</td><td>▁▁▁▁▁▁▁▁▁▁▁▁▁▁▁▁▁▁▁▁▁▁</td></tr><tr><td>action val acc</td><td>▁▁▁▁▁▁▁▁▁▁▁▁▁▁▁▁▁▁▁▁▁▁</td></tr><tr><td>cross train acc</td><td>▁▁▁▁▃▃▃▄▄▄▆▆▇▇████████</td></tr><tr><td>cross val acc</td><td>█▇▇▆▁████▆▇▄▇█▇█▇▇▇▇▇▇</td></tr><tr><td>gender train acc</td><td>▁▁▁▁▁▁▁▁▁▁▁▁▁▁▁▁▁▁▁▁▁▁</td></tr><tr><td>gender val acc</td><td>▁▁▁▁▁▁▁▁▁▁▁▁▁▁▁▁▁▁▁▁▁▁</td></tr><tr><td>look train acc</td><td>▁▁▁▁▁▁▁▁▁▁▁▁▁▁▁▁▁▁▁▁▁▁</td></tr><tr><td>look val acc</td><td>▁▁▁▁▁▁▁▁▁▁▁▁▁▁▁▁▁▁▁▁▁▁</td></tr><tr><td>train loss</td><td>██▇▇▇▇▇▆▆▆▅▅▄▄▃▃▂▂▂▂▁▁</td></tr><tr><td>val_loss</td><td>▄▄▄▄▄▂▁▁▁▁▁▄▂▂▃▃▅▄▄▅█▇</td></tr></table><br/></div><div class=\"wandb-col\"><h3>Run summary:</h3><br/><table class=\"wandb\"><tr><td>action train acc</td><td>40.44155</td></tr><tr><td>action val acc</td><td>57.81991</td></tr><tr><td>cross train acc</td><td>97.34069</td></tr><tr><td>cross val acc</td><td>93.36493</td></tr><tr><td>gender train acc</td><td>49.27245</td></tr><tr><td>gender val acc</td><td>55.92417</td></tr><tr><td>look train acc</td><td>60.36126</td></tr><tr><td>look val acc</td><td>94.78673</td></tr><tr><td>train loss</td><td>0.58029</td></tr><tr><td>val_loss</td><td>3.36407</td></tr></table><br/></div></div>"
      ],
      "text/plain": [
       "<IPython.core.display.HTML object>"
      ]
     },
     "metadata": {},
     "output_type": "display_data"
    },
    {
     "data": {
      "text/html": [
       " View run <strong style=\"color:#cdcd00\">wobbly-sweep-4</strong> at: <a href='https://wandb.ai/xmatovice/uncategorized/runs/hn8whwv4' target=\"_blank\">https://wandb.ai/xmatovice/uncategorized/runs/hn8whwv4</a><br/>Synced 6 W&B file(s), 0 media file(s), 0 artifact file(s) and 0 other file(s)"
      ],
      "text/plain": [
       "<IPython.core.display.HTML object>"
      ]
     },
     "metadata": {},
     "output_type": "display_data"
    },
    {
     "data": {
      "text/html": [
       "Find logs at: <code>./wandb/run-20230411_145410-hn8whwv4/logs</code>"
      ],
      "text/plain": [
       "<IPython.core.display.HTML object>"
      ]
     },
     "metadata": {},
     "output_type": "display_data"
    },
    {
     "name": "stderr",
     "output_type": "stream",
     "text": [
      "\u001b[34m\u001b[1mwandb\u001b[0m: Agent Starting Run: jdytgb1n with config:\n",
      "\u001b[34m\u001b[1mwandb\u001b[0m: \tbatch_size: 64\n",
      "\u001b[34m\u001b[1mwandb\u001b[0m: \tepochs: 10\n",
      "\u001b[34m\u001b[1mwandb\u001b[0m: \tlearning_rate: 0.01601853437205225\n",
      "\u001b[34m\u001b[1mwandb\u001b[0m: \tmomentum: 0.938643465585662\n",
      "\u001b[34m\u001b[1mwandb\u001b[0m: \tn_features: 512\n",
      "Failed to detect the name of this notebook, you can set it manually with the WANDB_NOTEBOOK_NAME environment variable to enable code saving.\n",
      "\u001b[34m\u001b[1mwandb\u001b[0m: \u001b[33mWARNING\u001b[0m Ignored wandb.init() arg project when running a sweep.\n"
     ]
    },
    {
     "data": {
      "text/html": [
       "wandb version 0.14.2 is available!  To upgrade, please run:\n",
       " $ pip install wandb --upgrade"
      ],
      "text/plain": [
       "<IPython.core.display.HTML object>"
      ]
     },
     "metadata": {},
     "output_type": "display_data"
    },
    {
     "data": {
      "text/html": [
       "Tracking run with wandb version 0.13.10"
      ],
      "text/plain": [
       "<IPython.core.display.HTML object>"
      ]
     },
     "metadata": {},
     "output_type": "display_data"
    },
    {
     "data": {
      "text/html": [
       "Run data is saved locally in <code>/home/erik/FIIT/2_Ing/2_semester/NSIETE/cvicenia/zadanie2/src/wandb/run-20230411_145959-jdytgb1n</code>"
      ],
      "text/plain": [
       "<IPython.core.display.HTML object>"
      ]
     },
     "metadata": {},
     "output_type": "display_data"
    },
    {
     "data": {
      "text/html": [
       "Syncing run <strong><a href='https://wandb.ai/xmatovice/uncategorized/runs/jdytgb1n' target=\"_blank\">treasured-sweep-5</a></strong> to <a href='https://wandb.ai/xmatovice/uncategorized' target=\"_blank\">Weights & Biases</a> (<a href='https://wandb.me/run' target=\"_blank\">docs</a>)<br/>Sweep page: <a href='https://wandb.ai/xmatovice/uncategorized/sweeps/6erje4vd' target=\"_blank\">https://wandb.ai/xmatovice/uncategorized/sweeps/6erje4vd</a>"
      ],
      "text/plain": [
       "<IPython.core.display.HTML object>"
      ]
     },
     "metadata": {},
     "output_type": "display_data"
    },
    {
     "data": {
      "text/html": [
       " View project at <a href='https://wandb.ai/xmatovice/uncategorized' target=\"_blank\">https://wandb.ai/xmatovice/uncategorized</a>"
      ],
      "text/plain": [
       "<IPython.core.display.HTML object>"
      ]
     },
     "metadata": {},
     "output_type": "display_data"
    },
    {
     "data": {
      "text/html": [
       " View sweep at <a href='https://wandb.ai/xmatovice/uncategorized/sweeps/6erje4vd' target=\"_blank\">https://wandb.ai/xmatovice/uncategorized/sweeps/6erje4vd</a>"
      ],
      "text/plain": [
       "<IPython.core.display.HTML object>"
      ]
     },
     "metadata": {},
     "output_type": "display_data"
    },
    {
     "data": {
      "text/html": [
       " View run at <a href='https://wandb.ai/xmatovice/uncategorized/runs/jdytgb1n' target=\"_blank\">https://wandb.ai/xmatovice/uncategorized/runs/jdytgb1n</a>"
      ],
      "text/plain": [
       "<IPython.core.display.HTML object>"
      ]
     },
     "metadata": {},
     "output_type": "display_data"
    },
    {
     "name": "stdout",
     "output_type": "stream",
     "text": [
      "[INFO] initializing the CNN model...\n",
      "Epoch 0/10:                 train loss 2.996231982532124,                 val loss 2.916203214093972,                 action train acc 40.44154540893126,                 gender train acc 49.27245358755645,                 look train acc 60.36126442548921,                 cross train acc 65.12794781736076,                 action val acc 57.81990521327014,                 gender val acc 55.92417061611374,                 look val acc 94.7867298578199,                 cross val acc 94.7867298578199\n",
      "Epoch 1/10:                 train loss 2.7885338706223735,                 val loss 3.162280186657657,                 action train acc 40.44154540893126,                 gender train acc 49.27245358755645,                 look train acc 60.36126442548921,                 cross train acc 64.72654290015053,                 action val acc 57.81990521327014,                 gender val acc 55.92417061611374,                 look val acc 94.7867298578199,                 cross val acc 76.77725118483413\n",
      "Epoch 2/10:                 train loss 2.799349128811191,                 val loss 2.873382496042839,                 action train acc 40.44154540893126,                 gender train acc 49.27245358755645,                 look train acc 60.36126442548921,                 cross train acc 64.92724535875564,                 action val acc 57.81990521327014,                 gender val acc 55.92417061611374,                 look val acc 94.7867298578199,                 cross val acc 94.7867298578199\n",
      "Epoch 3/10:                 train loss 2.777695261050395,                 val loss 2.8735882365873073,                 action train acc 40.44154540893126,                 gender train acc 49.27245358755645,                 look train acc 60.36126442548921,                 cross train acc 66.2318113396889,                 action val acc 57.81990521327014,                 gender val acc 55.92417061611374,                 look val acc 94.7867298578199,                 cross val acc 92.89099526066352\n",
      "Epoch 4/10:                 train loss 2.7208601611377126,                 val loss 2.6875111367465196,                 action train acc 40.44154540893126,                 gender train acc 49.27245358755645,                 look train acc 60.36126442548921,                 cross train acc 68.74059207225288,                 action val acc 57.81990521327014,                 gender val acc 55.92417061611374,                 look val acc 94.7867298578199,                 cross val acc 95.73459715639811\n"
     ]
    },
    {
     "data": {
      "text/html": [
       "Waiting for W&B process to finish... <strong style=\"color:red\">(failed 1).</strong> Press Control-C to abort syncing."
      ],
      "text/plain": [
       "<IPython.core.display.HTML object>"
      ]
     },
     "metadata": {},
     "output_type": "display_data"
    },
    {
     "data": {
      "application/vnd.jupyter.widget-view+json": {
       "model_id": "a7a0757571af41fca2b543347ac73cb0",
       "version_major": 2,
       "version_minor": 0
      },
      "text/plain": [
       "VBox(children=(Label(value='0.003 MB of 0.020 MB uploaded (0.000 MB deduped)\\r'), FloatProgress(value=0.140106…"
      ]
     },
     "metadata": {},
     "output_type": "display_data"
    },
    {
     "data": {
      "text/html": [
       "<style>\n",
       "    table.wandb td:nth-child(1) { padding: 0 10px; text-align: left ; width: auto;} td:nth-child(2) {text-align: left ; width: 100%}\n",
       "    .wandb-row { display: flex; flex-direction: row; flex-wrap: wrap; justify-content: flex-start; width: 100% }\n",
       "    .wandb-col { display: flex; flex-direction: column; flex-basis: 100%; flex: 1; padding: 10px; }\n",
       "    </style>\n",
       "<div class=\"wandb-row\"><div class=\"wandb-col\"><h3>Run history:</h3><br/><table class=\"wandb\"><tr><td>action train acc</td><td>▁▁▁▁▁</td></tr><tr><td>action val acc</td><td>▁▁▁▁▁</td></tr><tr><td>cross train acc</td><td>▂▁▁▄█</td></tr><tr><td>cross val acc</td><td>█▁█▇█</td></tr><tr><td>gender train acc</td><td>▁▁▁▁▁</td></tr><tr><td>gender val acc</td><td>▁▁▁▁▁</td></tr><tr><td>look train acc</td><td>▁▁▁▁▁</td></tr><tr><td>look val acc</td><td>▁▁▁▁▁</td></tr><tr><td>train loss</td><td>█▃▃▂▁</td></tr><tr><td>val_loss</td><td>▄█▄▄▁</td></tr></table><br/></div><div class=\"wandb-col\"><h3>Run summary:</h3><br/><table class=\"wandb\"><tr><td>action train acc</td><td>40.44155</td></tr><tr><td>action val acc</td><td>57.81991</td></tr><tr><td>cross train acc</td><td>68.74059</td></tr><tr><td>cross val acc</td><td>95.7346</td></tr><tr><td>gender train acc</td><td>49.27245</td></tr><tr><td>gender val acc</td><td>55.92417</td></tr><tr><td>look train acc</td><td>60.36126</td></tr><tr><td>look val acc</td><td>94.78673</td></tr><tr><td>train loss</td><td>2.72086</td></tr><tr><td>val_loss</td><td>2.68751</td></tr></table><br/></div></div>"
      ],
      "text/plain": [
       "<IPython.core.display.HTML object>"
      ]
     },
     "metadata": {},
     "output_type": "display_data"
    },
    {
     "data": {
      "text/html": [
       " View run <strong style=\"color:#cdcd00\">treasured-sweep-5</strong> at: <a href='https://wandb.ai/xmatovice/uncategorized/runs/jdytgb1n' target=\"_blank\">https://wandb.ai/xmatovice/uncategorized/runs/jdytgb1n</a><br/>Synced 6 W&B file(s), 0 media file(s), 0 artifact file(s) and 0 other file(s)"
      ],
      "text/plain": [
       "<IPython.core.display.HTML object>"
      ]
     },
     "metadata": {},
     "output_type": "display_data"
    },
    {
     "data": {
      "text/html": [
       "Find logs at: <code>./wandb/run-20230411_145959-jdytgb1n/logs</code>"
      ],
      "text/plain": [
       "<IPython.core.display.HTML object>"
      ]
     },
     "metadata": {},
     "output_type": "display_data"
    },
    {
     "name": "stderr",
     "output_type": "stream",
     "text": [
      "\u001b[34m\u001b[1mwandb\u001b[0m: Agent Starting Run: g31yym09 with config:\n",
      "\u001b[34m\u001b[1mwandb\u001b[0m: \tbatch_size: 128\n",
      "\u001b[34m\u001b[1mwandb\u001b[0m: \tepochs: 100\n",
      "\u001b[34m\u001b[1mwandb\u001b[0m: \tlearning_rate: 0.008820380988462544\n",
      "\u001b[34m\u001b[1mwandb\u001b[0m: \tmomentum: 0.8097570561210439\n",
      "\u001b[34m\u001b[1mwandb\u001b[0m: \tn_features: 64\n",
      "Failed to detect the name of this notebook, you can set it manually with the WANDB_NOTEBOOK_NAME environment variable to enable code saving.\n",
      "\u001b[34m\u001b[1mwandb\u001b[0m: \u001b[33mWARNING\u001b[0m Ignored wandb.init() arg project when running a sweep.\n"
     ]
    },
    {
     "data": {
      "text/html": [
       "wandb version 0.14.2 is available!  To upgrade, please run:\n",
       " $ pip install wandb --upgrade"
      ],
      "text/plain": [
       "<IPython.core.display.HTML object>"
      ]
     },
     "metadata": {},
     "output_type": "display_data"
    },
    {
     "data": {
      "text/html": [
       "Tracking run with wandb version 0.13.10"
      ],
      "text/plain": [
       "<IPython.core.display.HTML object>"
      ]
     },
     "metadata": {},
     "output_type": "display_data"
    },
    {
     "data": {
      "text/html": [
       "Run data is saved locally in <code>/home/erik/FIIT/2_Ing/2_semester/NSIETE/cvicenia/zadanie2/src/wandb/run-20230411_150111-g31yym09</code>"
      ],
      "text/plain": [
       "<IPython.core.display.HTML object>"
      ]
     },
     "metadata": {},
     "output_type": "display_data"
    },
    {
     "data": {
      "text/html": [
       "Syncing run <strong><a href='https://wandb.ai/xmatovice/uncategorized/runs/g31yym09' target=\"_blank\">olive-sweep-6</a></strong> to <a href='https://wandb.ai/xmatovice/uncategorized' target=\"_blank\">Weights & Biases</a> (<a href='https://wandb.me/run' target=\"_blank\">docs</a>)<br/>Sweep page: <a href='https://wandb.ai/xmatovice/uncategorized/sweeps/6erje4vd' target=\"_blank\">https://wandb.ai/xmatovice/uncategorized/sweeps/6erje4vd</a>"
      ],
      "text/plain": [
       "<IPython.core.display.HTML object>"
      ]
     },
     "metadata": {},
     "output_type": "display_data"
    },
    {
     "data": {
      "text/html": [
       " View project at <a href='https://wandb.ai/xmatovice/uncategorized' target=\"_blank\">https://wandb.ai/xmatovice/uncategorized</a>"
      ],
      "text/plain": [
       "<IPython.core.display.HTML object>"
      ]
     },
     "metadata": {},
     "output_type": "display_data"
    },
    {
     "data": {
      "text/html": [
       " View sweep at <a href='https://wandb.ai/xmatovice/uncategorized/sweeps/6erje4vd' target=\"_blank\">https://wandb.ai/xmatovice/uncategorized/sweeps/6erje4vd</a>"
      ],
      "text/plain": [
       "<IPython.core.display.HTML object>"
      ]
     },
     "metadata": {},
     "output_type": "display_data"
    },
    {
     "data": {
      "text/html": [
       " View run at <a href='https://wandb.ai/xmatovice/uncategorized/runs/g31yym09' target=\"_blank\">https://wandb.ai/xmatovice/uncategorized/runs/g31yym09</a>"
      ],
      "text/plain": [
       "<IPython.core.display.HTML object>"
      ]
     },
     "metadata": {},
     "output_type": "display_data"
    },
    {
     "name": "stdout",
     "output_type": "stream",
     "text": [
      "[INFO] initializing the CNN model...\n",
      "Epoch 0/100:                 train loss 3.2195103669728815,                 val loss 3.601612543042802,                 action train acc 40.44154540893126,                 gender train acc 49.27245358755645,                 look train acc 60.36126442548921,                 cross train acc 49.52333166081285,                 action val acc 57.81990521327014,                 gender val acc 55.92417061611374,                 look val acc 94.7867298578199,                 cross val acc 94.7867298578199\n",
      "Epoch 1/100:                 train loss 3.045633395473023,                 val loss 3.3106271463547836,                 action train acc 40.44154540893126,                 gender train acc 49.27245358755645,                 look train acc 60.36126442548921,                 cross train acc 65.12794781736076,                 action val acc 57.81990521327014,                 gender val acc 55.92417061611374,                 look val acc 94.7867298578199,                 cross val acc 94.7867298578199\n",
      "Epoch 2/100:                 train loss 2.933946623852429,                 val loss 3.074273855200311,                 action train acc 40.44154540893126,                 gender train acc 49.27245358755645,                 look train acc 60.36126442548921,                 cross train acc 65.12794781736076,                 action val acc 57.81990521327014,                 gender val acc 55.92417061611374,                 look val acc 94.7867298578199,                 cross val acc 94.7867298578199\n",
      "Epoch 3/100:                 train loss 2.8633199137655625,                 val loss 2.9886363241909804,                 action train acc 40.44154540893126,                 gender train acc 49.27245358755645,                 look train acc 60.36126442548921,                 cross train acc 65.12794781736076,                 action val acc 57.81990521327014,                 gender val acc 55.92417061611374,                 look val acc 94.7867298578199,                 cross val acc 94.7867298578199\n",
      "Epoch 4/100:                 train loss 2.8255989622124704,                 val loss 3.0375176741613594,                 action train acc 40.44154540893126,                 gender train acc 49.27245358755645,                 look train acc 60.36126442548921,                 cross train acc 65.0275965880582,                 action val acc 57.81990521327014,                 gender val acc 55.92417061611374,                 look val acc 94.7867298578199,                 cross val acc 94.7867298578199\n",
      "Epoch 5/100:                 train loss 2.807913390225163,                 val loss 3.0110820752184537,                 action train acc 40.44154540893126,                 gender train acc 49.27245358755645,                 look train acc 60.36126442548921,                 cross train acc 65.22829904666332,                 action val acc 57.81990521327014,                 gender val acc 55.92417061611374,                 look val acc 94.7867298578199,                 cross val acc 94.3127962085308\n"
     ]
    },
    {
     "data": {
      "text/html": [
       "Waiting for W&B process to finish... <strong style=\"color:red\">(failed 1).</strong> Press Control-C to abort syncing."
      ],
      "text/plain": [
       "<IPython.core.display.HTML object>"
      ]
     },
     "metadata": {},
     "output_type": "display_data"
    },
    {
     "data": {
      "text/html": [
       "<style>\n",
       "    table.wandb td:nth-child(1) { padding: 0 10px; text-align: left ; width: auto;} td:nth-child(2) {text-align: left ; width: 100%}\n",
       "    .wandb-row { display: flex; flex-direction: row; flex-wrap: wrap; justify-content: flex-start; width: 100% }\n",
       "    .wandb-col { display: flex; flex-direction: column; flex-basis: 100%; flex: 1; padding: 10px; }\n",
       "    </style>\n",
       "<div class=\"wandb-row\"><div class=\"wandb-col\"><h3>Run history:</h3><br/><table class=\"wandb\"><tr><td>action train acc</td><td>▁▁▁▁▁▁</td></tr><tr><td>action val acc</td><td>▁▁▁▁▁▁</td></tr><tr><td>cross train acc</td><td>▁█████</td></tr><tr><td>cross val acc</td><td>█████▁</td></tr><tr><td>gender train acc</td><td>▁▁▁▁▁▁</td></tr><tr><td>gender val acc</td><td>▁▁▁▁▁▁</td></tr><tr><td>look train acc</td><td>▁▁▁▁▁▁</td></tr><tr><td>look val acc</td><td>▁▁▁▁▁▁</td></tr><tr><td>train loss</td><td>█▅▃▂▁▁</td></tr><tr><td>val_loss</td><td>█▅▂▁▂▁</td></tr></table><br/></div><div class=\"wandb-col\"><h3>Run summary:</h3><br/><table class=\"wandb\"><tr><td>action train acc</td><td>40.44155</td></tr><tr><td>action val acc</td><td>57.81991</td></tr><tr><td>cross train acc</td><td>65.2283</td></tr><tr><td>cross val acc</td><td>94.3128</td></tr><tr><td>gender train acc</td><td>49.27245</td></tr><tr><td>gender val acc</td><td>55.92417</td></tr><tr><td>look train acc</td><td>60.36126</td></tr><tr><td>look val acc</td><td>94.78673</td></tr><tr><td>train loss</td><td>2.80791</td></tr><tr><td>val_loss</td><td>3.01108</td></tr></table><br/></div></div>"
      ],
      "text/plain": [
       "<IPython.core.display.HTML object>"
      ]
     },
     "metadata": {},
     "output_type": "display_data"
    },
    {
     "data": {
      "text/html": [
       " View run <strong style=\"color:#cdcd00\">olive-sweep-6</strong> at: <a href='https://wandb.ai/xmatovice/uncategorized/runs/g31yym09' target=\"_blank\">https://wandb.ai/xmatovice/uncategorized/runs/g31yym09</a><br/>Synced 6 W&B file(s), 0 media file(s), 0 artifact file(s) and 0 other file(s)"
      ],
      "text/plain": [
       "<IPython.core.display.HTML object>"
      ]
     },
     "metadata": {},
     "output_type": "display_data"
    },
    {
     "data": {
      "text/html": [
       "Find logs at: <code>./wandb/run-20230411_150111-g31yym09/logs</code>"
      ],
      "text/plain": [
       "<IPython.core.display.HTML object>"
      ]
     },
     "metadata": {},
     "output_type": "display_data"
    },
    {
     "name": "stderr",
     "output_type": "stream",
     "text": [
      "\u001b[34m\u001b[1mwandb\u001b[0m: Agent Starting Run: 0g18yl0b with config:\n",
      "\u001b[34m\u001b[1mwandb\u001b[0m: \tbatch_size: 64\n",
      "\u001b[34m\u001b[1mwandb\u001b[0m: \tepochs: 100\n",
      "\u001b[34m\u001b[1mwandb\u001b[0m: \tlearning_rate: 0.09904692857651048\n",
      "\u001b[34m\u001b[1mwandb\u001b[0m: \tmomentum: 0.4125542118644741\n",
      "\u001b[34m\u001b[1mwandb\u001b[0m: \tn_features: 32\n",
      "Failed to detect the name of this notebook, you can set it manually with the WANDB_NOTEBOOK_NAME environment variable to enable code saving.\n",
      "\u001b[34m\u001b[1mwandb\u001b[0m: \u001b[33mWARNING\u001b[0m Ignored wandb.init() arg project when running a sweep.\n"
     ]
    },
    {
     "data": {
      "text/html": [
       "wandb version 0.14.2 is available!  To upgrade, please run:\n",
       " $ pip install wandb --upgrade"
      ],
      "text/plain": [
       "<IPython.core.display.HTML object>"
      ]
     },
     "metadata": {},
     "output_type": "display_data"
    },
    {
     "data": {
      "text/html": [
       "Tracking run with wandb version 0.13.10"
      ],
      "text/plain": [
       "<IPython.core.display.HTML object>"
      ]
     },
     "metadata": {},
     "output_type": "display_data"
    },
    {
     "data": {
      "text/html": [
       "Run data is saved locally in <code>/home/erik/FIIT/2_Ing/2_semester/NSIETE/cvicenia/zadanie2/src/wandb/run-20230411_150214-0g18yl0b</code>"
      ],
      "text/plain": [
       "<IPython.core.display.HTML object>"
      ]
     },
     "metadata": {},
     "output_type": "display_data"
    },
    {
     "data": {
      "text/html": [
       "Syncing run <strong><a href='https://wandb.ai/xmatovice/uncategorized/runs/0g18yl0b' target=\"_blank\">chocolate-sweep-7</a></strong> to <a href='https://wandb.ai/xmatovice/uncategorized' target=\"_blank\">Weights & Biases</a> (<a href='https://wandb.me/run' target=\"_blank\">docs</a>)<br/>Sweep page: <a href='https://wandb.ai/xmatovice/uncategorized/sweeps/6erje4vd' target=\"_blank\">https://wandb.ai/xmatovice/uncategorized/sweeps/6erje4vd</a>"
      ],
      "text/plain": [
       "<IPython.core.display.HTML object>"
      ]
     },
     "metadata": {},
     "output_type": "display_data"
    },
    {
     "data": {
      "text/html": [
       " View project at <a href='https://wandb.ai/xmatovice/uncategorized' target=\"_blank\">https://wandb.ai/xmatovice/uncategorized</a>"
      ],
      "text/plain": [
       "<IPython.core.display.HTML object>"
      ]
     },
     "metadata": {},
     "output_type": "display_data"
    },
    {
     "data": {
      "text/html": [
       " View sweep at <a href='https://wandb.ai/xmatovice/uncategorized/sweeps/6erje4vd' target=\"_blank\">https://wandb.ai/xmatovice/uncategorized/sweeps/6erje4vd</a>"
      ],
      "text/plain": [
       "<IPython.core.display.HTML object>"
      ]
     },
     "metadata": {},
     "output_type": "display_data"
    },
    {
     "data": {
      "text/html": [
       " View run at <a href='https://wandb.ai/xmatovice/uncategorized/runs/0g18yl0b' target=\"_blank\">https://wandb.ai/xmatovice/uncategorized/runs/0g18yl0b</a>"
      ],
      "text/plain": [
       "<IPython.core.display.HTML object>"
      ]
     },
     "metadata": {},
     "output_type": "display_data"
    },
    {
     "name": "stdout",
     "output_type": "stream",
     "text": [
      "[INFO] initializing the CNN model...\n",
      "Epoch 0/100:                 train loss 2.9063596443141817,                 val loss 2.898079026931835,                 action train acc 40.44154540893126,                 gender train acc 49.27245358755645,                 look train acc 60.36126442548921,                 cross train acc 63.37180130456598,                 action val acc 57.81990521327014,                 gender val acc 55.92417061611374,                 look val acc 94.7867298578199,                 cross val acc 94.7867298578199\n",
      "Epoch 1/100:                 train loss 2.8343841813044874,                 val loss 2.8858803120834566,                 action train acc 40.44154540893126,                 gender train acc 49.27245358755645,                 look train acc 60.36126442548921,                 cross train acc 64.17461113898645,                 action val acc 57.81990521327014,                 gender val acc 55.92417061611374,                 look val acc 94.7867298578199,                 cross val acc 94.7867298578199\n",
      "Epoch 2/100:                 train loss 2.8408266824510786,                 val loss 2.9914871866669137,                 action train acc 40.44154540893126,                 gender train acc 49.27245358755645,                 look train acc 60.36126442548921,                 cross train acc 65.12794781736076,                 action val acc 57.81990521327014,                 gender val acc 55.92417061611374,                 look val acc 94.7867298578199,                 cross val acc 94.7867298578199\n",
      "Epoch 3/100:                 train loss 2.8237922006196494,                 val loss 2.8230948787164913,                 action train acc 40.44154540893126,                 gender train acc 49.27245358755645,                 look train acc 60.36126442548921,                 cross train acc 65.12794781736076,                 action val acc 57.81990521327014,                 gender val acc 55.92417061611374,                 look val acc 94.7867298578199,                 cross val acc 94.7867298578199\n",
      "Epoch 4/100:                 train loss 2.808805168063809,                 val loss 2.963054132687537,                 action train acc 40.44154540893126,                 gender train acc 49.27245358755645,                 look train acc 60.36126442548921,                 cross train acc 65.12794781736076,                 action val acc 57.81990521327014,                 gender val acc 55.92417061611374,                 look val acc 94.7867298578199,                 cross val acc 94.7867298578199\n",
      "Epoch 5/100:                 train loss 2.749245490013387,                 val loss 4.234551958563204,                 action train acc 40.44154540893126,                 gender train acc 49.27245358755645,                 look train acc 60.36126442548921,                 cross train acc 65.47917711991971,                 action val acc 57.81990521327014,                 gender val acc 55.92417061611374,                 look val acc 94.7867298578199,                 cross val acc 35.54502369668246\n"
     ]
    },
    {
     "data": {
      "text/html": [
       "Waiting for W&B process to finish... <strong style=\"color:red\">(failed 1).</strong> Press Control-C to abort syncing."
      ],
      "text/plain": [
       "<IPython.core.display.HTML object>"
      ]
     },
     "metadata": {},
     "output_type": "display_data"
    },
    {
     "data": {
      "application/vnd.jupyter.widget-view+json": {
       "model_id": "40b76ab630eb4b18aa3899595c6d4585",
       "version_major": 2,
       "version_minor": 0
      },
      "text/plain": [
       "VBox(children=(Label(value='0.003 MB of 0.015 MB uploaded (0.000 MB deduped)\\r'), FloatProgress(value=0.179355…"
      ]
     },
     "metadata": {},
     "output_type": "display_data"
    },
    {
     "data": {
      "text/html": [
       "<style>\n",
       "    table.wandb td:nth-child(1) { padding: 0 10px; text-align: left ; width: auto;} td:nth-child(2) {text-align: left ; width: 100%}\n",
       "    .wandb-row { display: flex; flex-direction: row; flex-wrap: wrap; justify-content: flex-start; width: 100% }\n",
       "    .wandb-col { display: flex; flex-direction: column; flex-basis: 100%; flex: 1; padding: 10px; }\n",
       "    </style>\n",
       "<div class=\"wandb-row\"><div class=\"wandb-col\"><h3>Run history:</h3><br/><table class=\"wandb\"><tr><td>action train acc</td><td>▁▁▁▁▁▁</td></tr><tr><td>action val acc</td><td>▁▁▁▁▁▁</td></tr><tr><td>cross train acc</td><td>▁▄▇▇▇█</td></tr><tr><td>cross val acc</td><td>█████▁</td></tr><tr><td>gender train acc</td><td>▁▁▁▁▁▁</td></tr><tr><td>gender val acc</td><td>▁▁▁▁▁▁</td></tr><tr><td>look train acc</td><td>▁▁▁▁▁▁</td></tr><tr><td>look val acc</td><td>▁▁▁▁▁▁</td></tr><tr><td>train loss</td><td>█▅▅▄▄▁</td></tr><tr><td>val_loss</td><td>▁▁▂▁▂█</td></tr></table><br/></div><div class=\"wandb-col\"><h3>Run summary:</h3><br/><table class=\"wandb\"><tr><td>action train acc</td><td>40.44155</td></tr><tr><td>action val acc</td><td>57.81991</td></tr><tr><td>cross train acc</td><td>65.47918</td></tr><tr><td>cross val acc</td><td>35.54502</td></tr><tr><td>gender train acc</td><td>49.27245</td></tr><tr><td>gender val acc</td><td>55.92417</td></tr><tr><td>look train acc</td><td>60.36126</td></tr><tr><td>look val acc</td><td>94.78673</td></tr><tr><td>train loss</td><td>2.74925</td></tr><tr><td>val_loss</td><td>4.23455</td></tr></table><br/></div></div>"
      ],
      "text/plain": [
       "<IPython.core.display.HTML object>"
      ]
     },
     "metadata": {},
     "output_type": "display_data"
    },
    {
     "data": {
      "text/html": [
       " View run <strong style=\"color:#cdcd00\">chocolate-sweep-7</strong> at: <a href='https://wandb.ai/xmatovice/uncategorized/runs/0g18yl0b' target=\"_blank\">https://wandb.ai/xmatovice/uncategorized/runs/0g18yl0b</a><br/>Synced 6 W&B file(s), 0 media file(s), 0 artifact file(s) and 0 other file(s)"
      ],
      "text/plain": [
       "<IPython.core.display.HTML object>"
      ]
     },
     "metadata": {},
     "output_type": "display_data"
    },
    {
     "data": {
      "text/html": [
       "Find logs at: <code>./wandb/run-20230411_150214-0g18yl0b/logs</code>"
      ],
      "text/plain": [
       "<IPython.core.display.HTML object>"
      ]
     },
     "metadata": {},
     "output_type": "display_data"
    },
    {
     "name": "stderr",
     "output_type": "stream",
     "text": [
      "\u001b[34m\u001b[1mwandb\u001b[0m: Agent Starting Run: ujikjxd4 with config:\n",
      "\u001b[34m\u001b[1mwandb\u001b[0m: \tbatch_size: 16\n",
      "\u001b[34m\u001b[1mwandb\u001b[0m: \tepochs: 10\n",
      "\u001b[34m\u001b[1mwandb\u001b[0m: \tlearning_rate: 0.043400959823044906\n",
      "\u001b[34m\u001b[1mwandb\u001b[0m: \tmomentum: 0.1547824130129225\n",
      "\u001b[34m\u001b[1mwandb\u001b[0m: \tn_features: 256\n",
      "Failed to detect the name of this notebook, you can set it manually with the WANDB_NOTEBOOK_NAME environment variable to enable code saving.\n",
      "\u001b[34m\u001b[1mwandb\u001b[0m: \u001b[33mWARNING\u001b[0m Ignored wandb.init() arg project when running a sweep.\n"
     ]
    },
    {
     "data": {
      "text/html": [
       "wandb version 0.14.2 is available!  To upgrade, please run:\n",
       " $ pip install wandb --upgrade"
      ],
      "text/plain": [
       "<IPython.core.display.HTML object>"
      ]
     },
     "metadata": {},
     "output_type": "display_data"
    },
    {
     "data": {
      "text/html": [
       "Tracking run with wandb version 0.13.10"
      ],
      "text/plain": [
       "<IPython.core.display.HTML object>"
      ]
     },
     "metadata": {},
     "output_type": "display_data"
    },
    {
     "data": {
      "text/html": [
       "Run data is saved locally in <code>/home/erik/FIIT/2_Ing/2_semester/NSIETE/cvicenia/zadanie2/src/wandb/run-20230411_150317-ujikjxd4</code>"
      ],
      "text/plain": [
       "<IPython.core.display.HTML object>"
      ]
     },
     "metadata": {},
     "output_type": "display_data"
    },
    {
     "data": {
      "text/html": [
       "Syncing run <strong><a href='https://wandb.ai/xmatovice/uncategorized/runs/ujikjxd4' target=\"_blank\">ruby-sweep-8</a></strong> to <a href='https://wandb.ai/xmatovice/uncategorized' target=\"_blank\">Weights & Biases</a> (<a href='https://wandb.me/run' target=\"_blank\">docs</a>)<br/>Sweep page: <a href='https://wandb.ai/xmatovice/uncategorized/sweeps/6erje4vd' target=\"_blank\">https://wandb.ai/xmatovice/uncategorized/sweeps/6erje4vd</a>"
      ],
      "text/plain": [
       "<IPython.core.display.HTML object>"
      ]
     },
     "metadata": {},
     "output_type": "display_data"
    },
    {
     "data": {
      "text/html": [
       " View project at <a href='https://wandb.ai/xmatovice/uncategorized' target=\"_blank\">https://wandb.ai/xmatovice/uncategorized</a>"
      ],
      "text/plain": [
       "<IPython.core.display.HTML object>"
      ]
     },
     "metadata": {},
     "output_type": "display_data"
    },
    {
     "data": {
      "text/html": [
       " View sweep at <a href='https://wandb.ai/xmatovice/uncategorized/sweeps/6erje4vd' target=\"_blank\">https://wandb.ai/xmatovice/uncategorized/sweeps/6erje4vd</a>"
      ],
      "text/plain": [
       "<IPython.core.display.HTML object>"
      ]
     },
     "metadata": {},
     "output_type": "display_data"
    },
    {
     "data": {
      "text/html": [
       " View run at <a href='https://wandb.ai/xmatovice/uncategorized/runs/ujikjxd4' target=\"_blank\">https://wandb.ai/xmatovice/uncategorized/runs/ujikjxd4</a>"
      ],
      "text/plain": [
       "<IPython.core.display.HTML object>"
      ]
     },
     "metadata": {},
     "output_type": "display_data"
    },
    {
     "name": "stdout",
     "output_type": "stream",
     "text": [
      "[INFO] initializing the CNN model...\n",
      "Epoch 0/10:                 train loss 2.8361270538957886,                 val loss 2.6694488886973304,                 action train acc 40.44154540893126,                 gender train acc 49.27245358755645,                 look train acc 60.36126442548921,                 cross train acc 63.522328148519826,                 action val acc 57.81990521327014,                 gender val acc 55.92417061611374,                 look val acc 94.7867298578199,                 cross val acc 94.7867298578199\n",
      "Epoch 1/10:                 train loss 2.735641131135488,                 val loss 2.596279469711521,                 action train acc 40.44154540893126,                 gender train acc 49.27245358755645,                 look train acc 60.36126442548921,                 cross train acc 65.0275965880582,                 action val acc 57.81990521327014,                 gender val acc 55.92417061611374,                 look val acc 94.7867298578199,                 cross val acc 94.3127962085308\n",
      "Epoch 2/10:                 train loss 2.682328353858867,                 val loss 2.4535550302803797,                 action train acc 40.44154540893126,                 gender train acc 49.27245358755645,                 look train acc 60.36126442548921,                 cross train acc 66.33216256899146,                 action val acc 57.81990521327014,                 gender val acc 55.92417061611374,                 look val acc 94.7867298578199,                 cross val acc 94.7867298578199\n",
      "Epoch 3/10:                 train loss 2.592658826231777,                 val loss 2.187265938492183,                 action train acc 40.44154540893126,                 gender train acc 49.27245358755645,                 look train acc 60.36126442548921,                 cross train acc 69.94480682388358,                 action val acc 57.81990521327014,                 gender val acc 55.92417061611374,                 look val acc 94.7867298578199,                 cross val acc 94.3127962085308\n",
      "Epoch 4/10:                 train loss 2.5074948140023285,                 val loss 2.094473165358412,                 action train acc 40.44154540893126,                 gender train acc 49.27245358755645,                 look train acc 60.36126442548921,                 cross train acc 71.85148018063221,                 action val acc 57.81990521327014,                 gender val acc 55.92417061611374,                 look val acc 94.7867298578199,                 cross val acc 94.7867298578199\n",
      "Epoch 5/10:                 train loss 2.408224221634853,                 val loss 2.119121831740248,                 action train acc 40.44154540893126,                 gender train acc 49.27245358755645,                 look train acc 60.36126442548921,                 cross train acc 74.46061214249875,                 action val acc 57.81990521327014,                 gender val acc 55.92417061611374,                 look val acc 94.7867298578199,                 cross val acc 88.15165876777252\n",
      "Epoch 6/10:                 train loss 2.2862447871673783,                 val loss 1.8485152077335882,                 action train acc 40.44154540893126,                 gender train acc 49.27245358755645,                 look train acc 60.36126442548921,                 cross train acc 78.42448569994983,                 action val acc 57.81990521327014,                 gender val acc 55.92417061611374,                 look val acc 94.7867298578199,                 cross val acc 95.260663507109\n",
      "Epoch 7/10:                 train loss 2.1121615569195553,                 val loss 2.128189801039854,                 action train acc 40.44154540893126,                 gender train acc 49.27245358755645,                 look train acc 60.36126442548921,                 cross train acc 82.68941294530859,                 action val acc 57.81990521327014,                 gender val acc 55.92417061611374,                 look val acc 94.7867298578199,                 cross val acc 94.3127962085308\n",
      "Epoch 8/10:                 train loss 1.9235483591603204,                 val loss 2.530939753021674,                 action train acc 40.44154540893126,                 gender train acc 49.27245358755645,                 look train acc 60.36126442548921,                 cross train acc 85.44907175112894,                 action val acc 57.81990521327014,                 gender val acc 55.92417061611374,                 look val acc 94.7867298578199,                 cross val acc 87.67772511848341\n",
      "Epoch 9/10:                 train loss 1.6560307018013978,                 val loss 2.2449084910171293,                 action train acc 40.44154540893126,                 gender train acc 49.27245358755645,                 look train acc 60.36126442548921,                 cross train acc 90.31610637230307,                 action val acc 57.81990521327014,                 gender val acc 55.92417061611374,                 look val acc 94.7867298578199,                 cross val acc 90.04739336492891\n",
      "('              precision    recall  f1-score   support\\n'\n",
      " '\\n'\n",
      " '           0       0.55      1.00      0.71       316\\n'\n",
      " '           1       0.00      0.00      0.00       263\\n'\n",
      " '\\n'\n",
      " '    accuracy                           0.55       579\\n'\n",
      " '   macro avg       0.27      0.50      0.35       579\\n'\n",
      " 'weighted avg       0.30      0.55      0.39       579\\n')\n",
      "('              precision    recall  f1-score   support\\n'\n",
      " '\\n'\n",
      " '           0       0.55      1.00      0.71       321\\n'\n",
      " '           1       0.00      0.00      0.00       258\\n'\n",
      " '\\n'\n",
      " '    accuracy                           0.55       579\\n'\n",
      " '   macro avg       0.28      0.50      0.36       579\\n'\n",
      " 'weighted avg       0.31      0.55      0.40       579\\n')\n",
      "('              precision    recall  f1-score   support\\n'\n",
      " '\\n'\n",
      " '           0       0.91      1.00      0.95       529\\n'\n",
      " '           1       0.00      0.00      0.00        50\\n'\n",
      " '\\n'\n",
      " '    accuracy                           0.91       579\\n'\n",
      " '   macro avg       0.46      0.50      0.48       579\\n'\n",
      " 'weighted avg       0.83      0.91      0.87       579\\n')\n",
      "('              precision    recall  f1-score   support\\n'\n",
      " '\\n'\n",
      " '           0       0.94      0.88      0.91       517\\n'\n",
      " '           1       0.32      0.57      0.41        54\\n'\n",
      " '           2       0.00      0.00      0.00         8\\n'\n",
      " '\\n'\n",
      " '    accuracy                           0.84       579\\n'\n",
      " '   macro avg       0.42      0.48      0.44       579\\n'\n",
      " 'weighted avg       0.87      0.84      0.85       579\\n')\n"
     ]
    },
    {
     "data": {
      "text/html": [
       "Waiting for W&B process to finish... <strong style=\"color:green\">(success).</strong>"
      ],
      "text/plain": [
       "<IPython.core.display.HTML object>"
      ]
     },
     "metadata": {},
     "output_type": "display_data"
    },
    {
     "data": {
      "text/html": [
       "<style>\n",
       "    table.wandb td:nth-child(1) { padding: 0 10px; text-align: left ; width: auto;} td:nth-child(2) {text-align: left ; width: 100%}\n",
       "    .wandb-row { display: flex; flex-direction: row; flex-wrap: wrap; justify-content: flex-start; width: 100% }\n",
       "    .wandb-col { display: flex; flex-direction: column; flex-basis: 100%; flex: 1; padding: 10px; }\n",
       "    </style>\n",
       "<div class=\"wandb-row\"><div class=\"wandb-col\"><h3>Run history:</h3><br/><table class=\"wandb\"><tr><td>action train acc</td><td>▁▁▁▁▁▁▁▁▁▁</td></tr><tr><td>action val acc</td><td>▁▁▁▁▁▁▁▁▁▁</td></tr><tr><td>cross train acc</td><td>▁▁▂▃▃▄▅▆▇█</td></tr><tr><td>cross val acc</td><td>█▇█▇█▁█▇▁▃</td></tr><tr><td>gender train acc</td><td>▁▁▁▁▁▁▁▁▁▁</td></tr><tr><td>gender val acc</td><td>▁▁▁▁▁▁▁▁▁▁</td></tr><tr><td>look train acc</td><td>▁▁▁▁▁▁▁▁▁▁</td></tr><tr><td>look val acc</td><td>▁▁▁▁▁▁▁▁▁▁</td></tr><tr><td>train loss</td><td>█▇▇▇▆▅▅▄▃▁</td></tr><tr><td>val_loss</td><td>█▇▆▄▃▃▁▃▇▄</td></tr></table><br/></div><div class=\"wandb-col\"><h3>Run summary:</h3><br/><table class=\"wandb\"><tr><td>action train acc</td><td>40.44155</td></tr><tr><td>action val acc</td><td>57.81991</td></tr><tr><td>cross train acc</td><td>90.31611</td></tr><tr><td>cross val acc</td><td>90.04739</td></tr><tr><td>gender train acc</td><td>49.27245</td></tr><tr><td>gender val acc</td><td>55.92417</td></tr><tr><td>look train acc</td><td>60.36126</td></tr><tr><td>look val acc</td><td>94.78673</td></tr><tr><td>train loss</td><td>1.65603</td></tr><tr><td>val_loss</td><td>2.24491</td></tr></table><br/></div></div>"
      ],
      "text/plain": [
       "<IPython.core.display.HTML object>"
      ]
     },
     "metadata": {},
     "output_type": "display_data"
    },
    {
     "data": {
      "text/html": [
       " View run <strong style=\"color:#cdcd00\">ruby-sweep-8</strong> at: <a href='https://wandb.ai/xmatovice/uncategorized/runs/ujikjxd4' target=\"_blank\">https://wandb.ai/xmatovice/uncategorized/runs/ujikjxd4</a><br/>Synced 6 W&B file(s), 0 media file(s), 0 artifact file(s) and 0 other file(s)"
      ],
      "text/plain": [
       "<IPython.core.display.HTML object>"
      ]
     },
     "metadata": {},
     "output_type": "display_data"
    },
    {
     "data": {
      "text/html": [
       "Find logs at: <code>./wandb/run-20230411_150317-ujikjxd4/logs</code>"
      ],
      "text/plain": [
       "<IPython.core.display.HTML object>"
      ]
     },
     "metadata": {},
     "output_type": "display_data"
    },
    {
     "name": "stderr",
     "output_type": "stream",
     "text": [
      "\u001b[34m\u001b[1mwandb\u001b[0m: Agent Starting Run: hkqyc2hk with config:\n",
      "\u001b[34m\u001b[1mwandb\u001b[0m: \tbatch_size: 64\n",
      "\u001b[34m\u001b[1mwandb\u001b[0m: \tepochs: 10\n",
      "\u001b[34m\u001b[1mwandb\u001b[0m: \tlearning_rate: 0.0375977150304802\n",
      "\u001b[34m\u001b[1mwandb\u001b[0m: \tmomentum: 0.16032908700427204\n",
      "\u001b[34m\u001b[1mwandb\u001b[0m: \tn_features: 256\n",
      "Failed to detect the name of this notebook, you can set it manually with the WANDB_NOTEBOOK_NAME environment variable to enable code saving.\n",
      "\u001b[34m\u001b[1mwandb\u001b[0m: \u001b[33mWARNING\u001b[0m Ignored wandb.init() arg project when running a sweep.\n"
     ]
    },
    {
     "data": {
      "text/html": [
       "wandb version 0.14.2 is available!  To upgrade, please run:\n",
       " $ pip install wandb --upgrade"
      ],
      "text/plain": [
       "<IPython.core.display.HTML object>"
      ]
     },
     "metadata": {},
     "output_type": "display_data"
    },
    {
     "data": {
      "text/html": [
       "Tracking run with wandb version 0.13.10"
      ],
      "text/plain": [
       "<IPython.core.display.HTML object>"
      ]
     },
     "metadata": {},
     "output_type": "display_data"
    },
    {
     "data": {
      "text/html": [
       "Run data is saved locally in <code>/home/erik/FIIT/2_Ing/2_semester/NSIETE/cvicenia/zadanie2/src/wandb/run-20230411_150554-hkqyc2hk</code>"
      ],
      "text/plain": [
       "<IPython.core.display.HTML object>"
      ]
     },
     "metadata": {},
     "output_type": "display_data"
    },
    {
     "data": {
      "text/html": [
       "Syncing run <strong><a href='https://wandb.ai/xmatovice/uncategorized/runs/hkqyc2hk' target=\"_blank\">sunny-sweep-9</a></strong> to <a href='https://wandb.ai/xmatovice/uncategorized' target=\"_blank\">Weights & Biases</a> (<a href='https://wandb.me/run' target=\"_blank\">docs</a>)<br/>Sweep page: <a href='https://wandb.ai/xmatovice/uncategorized/sweeps/6erje4vd' target=\"_blank\">https://wandb.ai/xmatovice/uncategorized/sweeps/6erje4vd</a>"
      ],
      "text/plain": [
       "<IPython.core.display.HTML object>"
      ]
     },
     "metadata": {},
     "output_type": "display_data"
    },
    {
     "data": {
      "text/html": [
       " View project at <a href='https://wandb.ai/xmatovice/uncategorized' target=\"_blank\">https://wandb.ai/xmatovice/uncategorized</a>"
      ],
      "text/plain": [
       "<IPython.core.display.HTML object>"
      ]
     },
     "metadata": {},
     "output_type": "display_data"
    },
    {
     "data": {
      "text/html": [
       " View sweep at <a href='https://wandb.ai/xmatovice/uncategorized/sweeps/6erje4vd' target=\"_blank\">https://wandb.ai/xmatovice/uncategorized/sweeps/6erje4vd</a>"
      ],
      "text/plain": [
       "<IPython.core.display.HTML object>"
      ]
     },
     "metadata": {},
     "output_type": "display_data"
    },
    {
     "data": {
      "text/html": [
       " View run at <a href='https://wandb.ai/xmatovice/uncategorized/runs/hkqyc2hk' target=\"_blank\">https://wandb.ai/xmatovice/uncategorized/runs/hkqyc2hk</a>"
      ],
      "text/plain": [
       "<IPython.core.display.HTML object>"
      ]
     },
     "metadata": {},
     "output_type": "display_data"
    },
    {
     "name": "stdout",
     "output_type": "stream",
     "text": [
      "[INFO] initializing the CNN model...\n",
      "Epoch 0/10:                 train loss 3.087529758083958,                 val loss 3.2097452172735856,                 action train acc 40.44154540893126,                 gender train acc 49.27245358755645,                 look train acc 60.36126442548921,                 cross train acc 62.16758655293527,                 action val acc 57.81990521327014,                 gender val acc 55.92417061611374,                 look val acc 94.7867298578199,                 cross val acc 94.7867298578199\n",
      "Epoch 1/10:                 train loss 2.846299297296397,                 val loss 3.1817277664256887,                 action train acc 40.44154540893126,                 gender train acc 49.27245358755645,                 look train acc 60.36126442548921,                 cross train acc 64.97742097340694,                 action val acc 57.81990521327014,                 gender val acc 55.92417061611374,                 look val acc 94.7867298578199,                 cross val acc 83.41232227488152\n",
      "Epoch 2/10:                 train loss 2.821702588699119,                 val loss 2.922912525339714,                 action train acc 40.44154540893126,                 gender train acc 49.27245358755645,                 look train acc 60.36126442548921,                 cross train acc 64.37531359759157,                 action val acc 57.81990521327014,                 gender val acc 55.92417061611374,                 look val acc 94.7867298578199,                 cross val acc 94.7867298578199\n",
      "Epoch 3/10:                 train loss 2.8160659246449486,                 val loss 3.114819422717343,                 action train acc 40.44154540893126,                 gender train acc 49.27245358755645,                 look train acc 60.36126442548921,                 cross train acc 65.2784746613146,                 action val acc 57.81990521327014,                 gender val acc 55.92417061611374,                 look val acc 94.7867298578199,                 cross val acc 93.36492890995261\n",
      "Epoch 4/10:                 train loss 2.786950792311665,                 val loss 3.0016158406768363,                 action train acc 40.44154540893126,                 gender train acc 49.27245358755645,                 look train acc 60.36126442548921,                 cross train acc 64.42548921224285,                 action val acc 57.81990521327014,                 gender val acc 55.92417061611374,                 look val acc 94.7867298578199,                 cross val acc 92.89099526066352\n",
      "Epoch 5/10:                 train loss 2.7634788700760278,                 val loss 2.8648242679252442,                 action train acc 40.44154540893126,                 gender train acc 49.27245358755645,                 look train acc 60.36126442548921,                 cross train acc 65.2784746613146,                 action val acc 57.81990521327014,                 gender val acc 55.92417061611374,                 look val acc 94.7867298578199,                 cross val acc 94.7867298578199\n",
      "Epoch 6/10:                 train loss 2.7205415028037585,                 val loss 3.2964866602025324,                 action train acc 40.44154540893126,                 gender train acc 49.27245358755645,                 look train acc 60.36126442548921,                 cross train acc 67.4862017059709,                 action val acc 57.81990521327014,                 gender val acc 55.92417061611374,                 look val acc 94.7867298578199,                 cross val acc 81.51658767772511\n",
      "Epoch 7/10:                 train loss 2.7176939049858095,                 val loss 2.7617922959169507,                 action train acc 40.44154540893126,                 gender train acc 49.27245358755645,                 look train acc 60.36126442548921,                 cross train acc 66.68339187155043,                 action val acc 57.81990521327014,                 gender val acc 55.92417061611374,                 look val acc 94.7867298578199,                 cross val acc 90.04739336492891\n"
     ]
    },
    {
     "data": {
      "text/html": [
       "Waiting for W&B process to finish... <strong style=\"color:red\">(failed 1).</strong> Press Control-C to abort syncing."
      ],
      "text/plain": [
       "<IPython.core.display.HTML object>"
      ]
     },
     "metadata": {},
     "output_type": "display_data"
    },
    {
     "data": {
      "text/html": [
       "<style>\n",
       "    table.wandb td:nth-child(1) { padding: 0 10px; text-align: left ; width: auto;} td:nth-child(2) {text-align: left ; width: 100%}\n",
       "    .wandb-row { display: flex; flex-direction: row; flex-wrap: wrap; justify-content: flex-start; width: 100% }\n",
       "    .wandb-col { display: flex; flex-direction: column; flex-basis: 100%; flex: 1; padding: 10px; }\n",
       "    </style>\n",
       "<div class=\"wandb-row\"><div class=\"wandb-col\"><h3>Run history:</h3><br/><table class=\"wandb\"><tr><td>action train acc</td><td>▁▁▁▁▁▁▁▁</td></tr><tr><td>action val acc</td><td>▁▁▁▁▁▁▁▁</td></tr><tr><td>cross train acc</td><td>▁▅▄▅▄▅█▇</td></tr><tr><td>cross val acc</td><td>█▂█▇▇█▁▆</td></tr><tr><td>gender train acc</td><td>▁▁▁▁▁▁▁▁</td></tr><tr><td>gender val acc</td><td>▁▁▁▁▁▁▁▁</td></tr><tr><td>look train acc</td><td>▁▁▁▁▁▁▁▁</td></tr><tr><td>look val acc</td><td>▁▁▁▁▁▁▁▁</td></tr><tr><td>train loss</td><td>█▃▃▃▂▂▁▁</td></tr><tr><td>val_loss</td><td>▇▆▃▆▄▂█▁</td></tr></table><br/></div><div class=\"wandb-col\"><h3>Run summary:</h3><br/><table class=\"wandb\"><tr><td>action train acc</td><td>40.44155</td></tr><tr><td>action val acc</td><td>57.81991</td></tr><tr><td>cross train acc</td><td>66.68339</td></tr><tr><td>cross val acc</td><td>90.04739</td></tr><tr><td>gender train acc</td><td>49.27245</td></tr><tr><td>gender val acc</td><td>55.92417</td></tr><tr><td>look train acc</td><td>60.36126</td></tr><tr><td>look val acc</td><td>94.78673</td></tr><tr><td>train loss</td><td>2.71769</td></tr><tr><td>val_loss</td><td>2.76179</td></tr></table><br/></div></div>"
      ],
      "text/plain": [
       "<IPython.core.display.HTML object>"
      ]
     },
     "metadata": {},
     "output_type": "display_data"
    },
    {
     "data": {
      "text/html": [
       " View run <strong style=\"color:#cdcd00\">sunny-sweep-9</strong> at: <a href='https://wandb.ai/xmatovice/uncategorized/runs/hkqyc2hk' target=\"_blank\">https://wandb.ai/xmatovice/uncategorized/runs/hkqyc2hk</a><br/>Synced 6 W&B file(s), 0 media file(s), 0 artifact file(s) and 0 other file(s)"
      ],
      "text/plain": [
       "<IPython.core.display.HTML object>"
      ]
     },
     "metadata": {},
     "output_type": "display_data"
    },
    {
     "data": {
      "text/html": [
       "Find logs at: <code>./wandb/run-20230411_150554-hkqyc2hk/logs</code>"
      ],
      "text/plain": [
       "<IPython.core.display.HTML object>"
      ]
     },
     "metadata": {},
     "output_type": "display_data"
    },
    {
     "name": "stderr",
     "output_type": "stream",
     "text": [
      "\u001b[34m\u001b[1mwandb\u001b[0m: Agent Starting Run: 8480i9mb with config:\n",
      "\u001b[34m\u001b[1mwandb\u001b[0m: \tbatch_size: 8\n",
      "\u001b[34m\u001b[1mwandb\u001b[0m: \tepochs: 10\n",
      "\u001b[34m\u001b[1mwandb\u001b[0m: \tlearning_rate: 0.05657808132757078\n",
      "\u001b[34m\u001b[1mwandb\u001b[0m: \tmomentum: 0.7500727372948774\n",
      "\u001b[34m\u001b[1mwandb\u001b[0m: \tn_features: 256\n",
      "Failed to detect the name of this notebook, you can set it manually with the WANDB_NOTEBOOK_NAME environment variable to enable code saving.\n",
      "\u001b[34m\u001b[1mwandb\u001b[0m: \u001b[33mWARNING\u001b[0m Ignored wandb.init() arg project when running a sweep.\n"
     ]
    },
    {
     "data": {
      "text/html": [
       "wandb version 0.14.2 is available!  To upgrade, please run:\n",
       " $ pip install wandb --upgrade"
      ],
      "text/plain": [
       "<IPython.core.display.HTML object>"
      ]
     },
     "metadata": {},
     "output_type": "display_data"
    },
    {
     "data": {
      "text/html": [
       "Tracking run with wandb version 0.13.10"
      ],
      "text/plain": [
       "<IPython.core.display.HTML object>"
      ]
     },
     "metadata": {},
     "output_type": "display_data"
    },
    {
     "data": {
      "text/html": [
       "Run data is saved locally in <code>/home/erik/FIIT/2_Ing/2_semester/NSIETE/cvicenia/zadanie2/src/wandb/run-20230411_150718-8480i9mb</code>"
      ],
      "text/plain": [
       "<IPython.core.display.HTML object>"
      ]
     },
     "metadata": {},
     "output_type": "display_data"
    },
    {
     "data": {
      "text/html": [
       "Syncing run <strong><a href='https://wandb.ai/xmatovice/uncategorized/runs/8480i9mb' target=\"_blank\">toasty-sweep-10</a></strong> to <a href='https://wandb.ai/xmatovice/uncategorized' target=\"_blank\">Weights & Biases</a> (<a href='https://wandb.me/run' target=\"_blank\">docs</a>)<br/>Sweep page: <a href='https://wandb.ai/xmatovice/uncategorized/sweeps/6erje4vd' target=\"_blank\">https://wandb.ai/xmatovice/uncategorized/sweeps/6erje4vd</a>"
      ],
      "text/plain": [
       "<IPython.core.display.HTML object>"
      ]
     },
     "metadata": {},
     "output_type": "display_data"
    },
    {
     "data": {
      "text/html": [
       " View project at <a href='https://wandb.ai/xmatovice/uncategorized' target=\"_blank\">https://wandb.ai/xmatovice/uncategorized</a>"
      ],
      "text/plain": [
       "<IPython.core.display.HTML object>"
      ]
     },
     "metadata": {},
     "output_type": "display_data"
    },
    {
     "data": {
      "text/html": [
       " View sweep at <a href='https://wandb.ai/xmatovice/uncategorized/sweeps/6erje4vd' target=\"_blank\">https://wandb.ai/xmatovice/uncategorized/sweeps/6erje4vd</a>"
      ],
      "text/plain": [
       "<IPython.core.display.HTML object>"
      ]
     },
     "metadata": {},
     "output_type": "display_data"
    },
    {
     "data": {
      "text/html": [
       " View run at <a href='https://wandb.ai/xmatovice/uncategorized/runs/8480i9mb' target=\"_blank\">https://wandb.ai/xmatovice/uncategorized/runs/8480i9mb</a>"
      ],
      "text/plain": [
       "<IPython.core.display.HTML object>"
      ]
     },
     "metadata": {},
     "output_type": "display_data"
    },
    {
     "name": "stdout",
     "output_type": "stream",
     "text": [
      "[INFO] initializing the CNN model...\n",
      "Epoch 0/10:                 train loss 2.7859016137092003,                 val loss 2.539187472013501,                 action train acc 40.44154540893126,                 gender train acc 49.27245358755645,                 look train acc 60.36126442548921,                 cross train acc 64.52584044154541,                 action val acc 57.81990521327014,                 gender val acc 55.92417061611374,                 look val acc 94.7867298578199,                 cross val acc 94.7867298578199\n",
      "Epoch 1/10:                 train loss 2.735265125058371,                 val loss 2.0708478412356985,                 action train acc 40.44154540893126,                 gender train acc 49.27245358755645,                 look train acc 60.36126442548921,                 cross train acc 64.7767185148018,                 action val acc 57.81990521327014,                 gender val acc 55.92417061611374,                 look val acc 94.7867298578199,                 cross val acc 94.7867298578199\n",
      "Epoch 2/10:                 train loss 2.630761111135526,                 val loss 1.86040096825333,                 action train acc 40.44154540893126,                 gender train acc 49.27245358755645,                 look train acc 60.36126442548921,                 cross train acc 64.27496236828901,                 action val acc 57.81990521327014,                 gender val acc 55.92417061611374,                 look val acc 94.7867298578199,                 cross val acc 94.7867298578199\n",
      "Epoch 3/10:                 train loss 2.5623383873739973,                 val loss 2.6996000750934908,                 action train acc 40.44154540893126,                 gender train acc 49.27245358755645,                 look train acc 60.36126442548921,                 cross train acc 65.47917711991971,                 action val acc 57.81990521327014,                 gender val acc 55.92417061611374,                 look val acc 94.7867298578199,                 cross val acc 91.4691943127962\n",
      "Epoch 4/10:                 train loss 2.5568672118926252,                 val loss 2.6700651159783675,                 action train acc 40.44154540893126,                 gender train acc 49.27245358755645,                 look train acc 60.36126442548921,                 cross train acc 65.17812343201204,                 action val acc 57.81990521327014,                 gender val acc 55.92417061611374,                 look val acc 94.7867298578199,                 cross val acc 94.7867298578199\n",
      "Epoch 5/10:                 train loss 2.526004973094307,                 val loss 1.8403838957655487,                 action train acc 40.44154540893126,                 gender train acc 49.27245358755645,                 look train acc 60.36126442548921,                 cross train acc 64.57601605619668,                 action val acc 57.81990521327014,                 gender val acc 55.92417061611374,                 look val acc 94.7867298578199,                 cross val acc 94.7867298578199\n",
      "Epoch 6/10:                 train loss 2.515989057155213,                 val loss 1.8009816120021152,                 action train acc 40.44154540893126,                 gender train acc 49.27245358755645,                 look train acc 60.36126442548921,                 cross train acc 65.17812343201204,                 action val acc 57.81990521327014,                 gender val acc 55.92417061611374,                 look val acc 94.7867298578199,                 cross val acc 94.7867298578199\n",
      "Epoch 7/10:                 train loss 2.48113737618331,                 val loss 1.8432190610334207,                 action train acc 40.44154540893126,                 gender train acc 49.27245358755645,                 look train acc 60.36126442548921,                 cross train acc 65.0275965880582,                 action val acc 57.81990521327014,                 gender val acc 55.92417061611374,                 look val acc 94.7867298578199,                 cross val acc 94.7867298578199\n",
      "Epoch 8/10:                 train loss 2.492505210401781,                 val loss 1.8821138996648563,                 action train acc 40.44154540893126,                 gender train acc 49.27245358755645,                 look train acc 60.36126442548921,                 cross train acc 66.53286502759659,                 action val acc 57.81990521327014,                 gender val acc 55.92417061611374,                 look val acc 94.7867298578199,                 cross val acc 94.3127962085308\n",
      "Epoch 9/10:                 train loss 2.4664897287065397,                 val loss 1.89119344412998,                 action train acc 40.44154540893126,                 gender train acc 49.27245358755645,                 look train acc 60.36126442548921,                 cross train acc 67.686904164576,                 action val acc 57.81990521327014,                 gender val acc 55.92417061611374,                 look val acc 94.7867298578199,                 cross val acc 95.260663507109\n",
      "('              precision    recall  f1-score   support\\n'\n",
      " '\\n'\n",
      " '           0       0.55      1.00      0.71       316\\n'\n",
      " '           1       0.00      0.00      0.00       263\\n'\n",
      " '\\n'\n",
      " '    accuracy                           0.55       579\\n'\n",
      " '   macro avg       0.27      0.50      0.35       579\\n'\n",
      " 'weighted avg       0.30      0.55      0.39       579\\n')\n",
      "('              precision    recall  f1-score   support\\n'\n",
      " '\\n'\n",
      " '           0       0.55      1.00      0.71       321\\n'\n",
      " '           1       0.00      0.00      0.00       258\\n'\n",
      " '\\n'\n",
      " '    accuracy                           0.55       579\\n'\n",
      " '   macro avg       0.28      0.50      0.36       579\\n'\n",
      " 'weighted avg       0.31      0.55      0.40       579\\n')\n",
      "('              precision    recall  f1-score   support\\n'\n",
      " '\\n'\n",
      " '           0       0.91      1.00      0.95       529\\n'\n",
      " '           1       0.00      0.00      0.00        50\\n'\n",
      " '\\n'\n",
      " '    accuracy                           0.91       579\\n'\n",
      " '   macro avg       0.46      0.50      0.48       579\\n'\n",
      " 'weighted avg       0.83      0.91      0.87       579\\n')\n",
      "('              precision    recall  f1-score   support\\n'\n",
      " '\\n'\n",
      " '           0       0.91      0.95      0.93       517\\n'\n",
      " '           1       0.35      0.26      0.30        54\\n'\n",
      " '           2       0.00      0.00      0.00         8\\n'\n",
      " '\\n'\n",
      " '    accuracy                           0.87       579\\n'\n",
      " '   macro avg       0.42      0.40      0.41       579\\n'\n",
      " 'weighted avg       0.85      0.87      0.86       579\\n')\n"
     ]
    },
    {
     "data": {
      "text/html": [
       "Waiting for W&B process to finish... <strong style=\"color:green\">(success).</strong>"
      ],
      "text/plain": [
       "<IPython.core.display.HTML object>"
      ]
     },
     "metadata": {},
     "output_type": "display_data"
    },
    {
     "data": {
      "application/vnd.jupyter.widget-view+json": {
       "model_id": "63d8f26887374bc8b8b560bf5b9b9775",
       "version_major": 2,
       "version_minor": 0
      },
      "text/plain": [
       "VBox(children=(Label(value='0.003 MB of 0.019 MB uploaded (0.000 MB deduped)\\r'), FloatProgress(value=0.147162…"
      ]
     },
     "metadata": {},
     "output_type": "display_data"
    },
    {
     "data": {
      "text/html": [
       "<style>\n",
       "    table.wandb td:nth-child(1) { padding: 0 10px; text-align: left ; width: auto;} td:nth-child(2) {text-align: left ; width: 100%}\n",
       "    .wandb-row { display: flex; flex-direction: row; flex-wrap: wrap; justify-content: flex-start; width: 100% }\n",
       "    .wandb-col { display: flex; flex-direction: column; flex-basis: 100%; flex: 1; padding: 10px; }\n",
       "    </style>\n",
       "<div class=\"wandb-row\"><div class=\"wandb-col\"><h3>Run history:</h3><br/><table class=\"wandb\"><tr><td>action train acc</td><td>▁▁▁▁▁▁▁▁▁▁</td></tr><tr><td>action val acc</td><td>▁▁▁▁▁▁▁▁▁▁</td></tr><tr><td>cross train acc</td><td>▂▂▁▃▃▂▃▃▆█</td></tr><tr><td>cross val acc</td><td>▇▇▇▁▇▇▇▇▆█</td></tr><tr><td>gender train acc</td><td>▁▁▁▁▁▁▁▁▁▁</td></tr><tr><td>gender val acc</td><td>▁▁▁▁▁▁▁▁▁▁</td></tr><tr><td>look train acc</td><td>▁▁▁▁▁▁▁▁▁▁</td></tr><tr><td>look val acc</td><td>▁▁▁▁▁▁▁▁▁▁</td></tr><tr><td>train loss</td><td>█▇▅▃▃▂▂▁▂▁</td></tr><tr><td>val_loss</td><td>▇▃▁██▁▁▁▂▂</td></tr></table><br/></div><div class=\"wandb-col\"><h3>Run summary:</h3><br/><table class=\"wandb\"><tr><td>action train acc</td><td>40.44155</td></tr><tr><td>action val acc</td><td>57.81991</td></tr><tr><td>cross train acc</td><td>67.6869</td></tr><tr><td>cross val acc</td><td>95.26066</td></tr><tr><td>gender train acc</td><td>49.27245</td></tr><tr><td>gender val acc</td><td>55.92417</td></tr><tr><td>look train acc</td><td>60.36126</td></tr><tr><td>look val acc</td><td>94.78673</td></tr><tr><td>train loss</td><td>2.46649</td></tr><tr><td>val_loss</td><td>1.89119</td></tr></table><br/></div></div>"
      ],
      "text/plain": [
       "<IPython.core.display.HTML object>"
      ]
     },
     "metadata": {},
     "output_type": "display_data"
    },
    {
     "data": {
      "text/html": [
       " View run <strong style=\"color:#cdcd00\">toasty-sweep-10</strong> at: <a href='https://wandb.ai/xmatovice/uncategorized/runs/8480i9mb' target=\"_blank\">https://wandb.ai/xmatovice/uncategorized/runs/8480i9mb</a><br/>Synced 6 W&B file(s), 0 media file(s), 0 artifact file(s) and 0 other file(s)"
      ],
      "text/plain": [
       "<IPython.core.display.HTML object>"
      ]
     },
     "metadata": {},
     "output_type": "display_data"
    },
    {
     "data": {
      "text/html": [
       "Find logs at: <code>./wandb/run-20230411_150718-8480i9mb/logs</code>"
      ],
      "text/plain": [
       "<IPython.core.display.HTML object>"
      ]
     },
     "metadata": {},
     "output_type": "display_data"
    },
    {
     "name": "stderr",
     "output_type": "stream",
     "text": [
      "\u001b[34m\u001b[1mwandb\u001b[0m: Agent Starting Run: 5a2j0bfj with config:\n",
      "\u001b[34m\u001b[1mwandb\u001b[0m: \tbatch_size: 8\n",
      "\u001b[34m\u001b[1mwandb\u001b[0m: \tepochs: 100\n",
      "\u001b[34m\u001b[1mwandb\u001b[0m: \tlearning_rate: 0.041098329200324\n",
      "\u001b[34m\u001b[1mwandb\u001b[0m: \tmomentum: 0.6332091578369446\n",
      "\u001b[34m\u001b[1mwandb\u001b[0m: \tn_features: 64\n",
      "Failed to detect the name of this notebook, you can set it manually with the WANDB_NOTEBOOK_NAME environment variable to enable code saving.\n",
      "\u001b[34m\u001b[1mwandb\u001b[0m: \u001b[33mWARNING\u001b[0m Ignored wandb.init() arg project when running a sweep.\n"
     ]
    },
    {
     "data": {
      "text/html": [
       "wandb version 0.14.2 is available!  To upgrade, please run:\n",
       " $ pip install wandb --upgrade"
      ],
      "text/plain": [
       "<IPython.core.display.HTML object>"
      ]
     },
     "metadata": {},
     "output_type": "display_data"
    },
    {
     "data": {
      "text/html": [
       "Tracking run with wandb version 0.13.10"
      ],
      "text/plain": [
       "<IPython.core.display.HTML object>"
      ]
     },
     "metadata": {},
     "output_type": "display_data"
    },
    {
     "data": {
      "text/html": [
       "Run data is saved locally in <code>/home/erik/FIIT/2_Ing/2_semester/NSIETE/cvicenia/zadanie2/src/wandb/run-20230411_151106-5a2j0bfj</code>"
      ],
      "text/plain": [
       "<IPython.core.display.HTML object>"
      ]
     },
     "metadata": {},
     "output_type": "display_data"
    },
    {
     "data": {
      "text/html": [
       "Syncing run <strong><a href='https://wandb.ai/xmatovice/uncategorized/runs/5a2j0bfj' target=\"_blank\">vital-sweep-11</a></strong> to <a href='https://wandb.ai/xmatovice/uncategorized' target=\"_blank\">Weights & Biases</a> (<a href='https://wandb.me/run' target=\"_blank\">docs</a>)<br/>Sweep page: <a href='https://wandb.ai/xmatovice/uncategorized/sweeps/6erje4vd' target=\"_blank\">https://wandb.ai/xmatovice/uncategorized/sweeps/6erje4vd</a>"
      ],
      "text/plain": [
       "<IPython.core.display.HTML object>"
      ]
     },
     "metadata": {},
     "output_type": "display_data"
    },
    {
     "data": {
      "text/html": [
       " View project at <a href='https://wandb.ai/xmatovice/uncategorized' target=\"_blank\">https://wandb.ai/xmatovice/uncategorized</a>"
      ],
      "text/plain": [
       "<IPython.core.display.HTML object>"
      ]
     },
     "metadata": {},
     "output_type": "display_data"
    },
    {
     "data": {
      "text/html": [
       " View sweep at <a href='https://wandb.ai/xmatovice/uncategorized/sweeps/6erje4vd' target=\"_blank\">https://wandb.ai/xmatovice/uncategorized/sweeps/6erje4vd</a>"
      ],
      "text/plain": [
       "<IPython.core.display.HTML object>"
      ]
     },
     "metadata": {},
     "output_type": "display_data"
    },
    {
     "data": {
      "text/html": [
       " View run at <a href='https://wandb.ai/xmatovice/uncategorized/runs/5a2j0bfj' target=\"_blank\">https://wandb.ai/xmatovice/uncategorized/runs/5a2j0bfj</a>"
      ],
      "text/plain": [
       "<IPython.core.display.HTML object>"
      ]
     },
     "metadata": {},
     "output_type": "display_data"
    },
    {
     "name": "stdout",
     "output_type": "stream",
     "text": [
      "[INFO] initializing the CNN model...\n",
      "Epoch 0/100:                 train loss 2.7959841265489396,                 val loss 2.460723904071826,                 action train acc 40.44154540893126,                 gender train acc 49.27245358755645,                 look train acc 60.36126442548921,                 cross train acc 64.62619167084796,                 action val acc 57.81990521327014,                 gender val acc 55.92417061611374,                 look val acc 94.7867298578199,                 cross val acc 94.7867298578199\n",
      "Epoch 1/100:                 train loss 2.7229037689193674,                 val loss 2.0781829345847758,                 action train acc 40.44154540893126,                 gender train acc 49.27245358755645,                 look train acc 60.36126442548921,                 cross train acc 65.2784746613146,                 action val acc 57.81990521327014,                 gender val acc 55.92417061611374,                 look val acc 94.7867298578199,                 cross val acc 94.7867298578199\n",
      "Epoch 2/100:                 train loss 2.6435824703823307,                 val loss 1.8781316721043881,                 action train acc 40.44154540893126,                 gender train acc 49.27245358755645,                 look train acc 60.36126442548921,                 cross train acc 66.28198695434018,                 action val acc 57.81990521327014,                 gender val acc 55.92417061611374,                 look val acc 94.7867298578199,                 cross val acc 94.7867298578199\n",
      "Epoch 3/100:                 train loss 2.5495699391075552,                 val loss 1.9493641695140098,                 action train acc 40.44154540893126,                 gender train acc 49.27245358755645,                 look train acc 60.36126442548921,                 cross train acc 69.89463120923232,                 action val acc 57.81990521327014,                 gender val acc 55.92417061611374,                 look val acc 94.7867298578199,                 cross val acc 94.7867298578199\n",
      "Epoch 4/100:                 train loss 2.4601077100348965,                 val loss 1.8887256378246144,                 action train acc 40.44154540893126,                 gender train acc 49.27245358755645,                 look train acc 60.36126442548921,                 cross train acc 72.45358755644756,                 action val acc 57.81990521327014,                 gender val acc 55.92417061611374,                 look val acc 94.7867298578199,                 cross val acc 95.73459715639811\n",
      "Epoch 5/100:                 train loss 2.3344604608944417,                 val loss 2.0041444968273288,                 action train acc 40.44154540893126,                 gender train acc 49.27245358755645,                 look train acc 60.36126442548921,                 cross train acc 77.92272955343704,                 action val acc 57.81990521327014,                 gender val acc 55.92417061611374,                 look val acc 94.7867298578199,                 cross val acc 92.89099526066352\n",
      "Epoch 6/100:                 train loss 2.179147923704493,                 val loss 1.9221010117734214,                 action train acc 40.44154540893126,                 gender train acc 49.27245358755645,                 look train acc 60.36126442548921,                 cross train acc 82.33818364274961,                 action val acc 57.81990521327014,                 gender val acc 55.92417061611374,                 look val acc 94.7867298578199,                 cross val acc 93.8388625592417\n",
      "Epoch 7/100:                 train loss 2.109459983722325,                 val loss 1.9878563948717163,                 action train acc 40.44154540893126,                 gender train acc 49.27245358755645,                 look train acc 60.36126442548921,                 cross train acc 84.44555945810336,                 action val acc 57.81990521327014,                 gender val acc 55.92417061611374,                 look val acc 94.7867298578199,                 cross val acc 90.52132701421802\n",
      "Epoch 8/100:                 train loss 2.033984384522388,                 val loss 1.936969571768955,                 action train acc 40.44154540893126,                 gender train acc 49.27245358755645,                 look train acc 60.36126442548921,                 cross train acc 85.5995985950828,                 action val acc 57.81990521327014,                 gender val acc 55.92417061611374,                 look val acc 94.7867298578199,                 cross val acc 89.57345971563981\n",
      "Epoch 9/100:                 train loss 1.818299172454543,                 val loss 2.0873792431365823,                 action train acc 40.44154540893126,                 gender train acc 49.27245358755645,                 look train acc 60.36126442548921,                 cross train acc 90.7175112895133,                 action val acc 57.81990521327014,                 gender val acc 55.92417061611374,                 look val acc 94.7867298578199,                 cross val acc 95.260663507109\n",
      "Epoch 10/100:                 train loss 1.7941062087936133,                 val loss 1.983573787020281,                 action train acc 40.44154540893126,                 gender train acc 49.27245358755645,                 look train acc 60.36126442548921,                 cross train acc 90.16557952834923,                 action val acc 57.81990521327014,                 gender val acc 55.92417061611374,                 look val acc 94.7867298578199,                 cross val acc 92.41706161137441\n",
      "Epoch 11/100:                 train loss 1.7083213543449283,                 val loss 2.0230668551548963,                 action train acc 40.44154540893126,                 gender train acc 49.27245358755645,                 look train acc 60.36126442548921,                 cross train acc 91.62067235323633,                 action val acc 57.81990521327014,                 gender val acc 55.92417061611374,                 look val acc 94.7867298578199,                 cross val acc 94.7867298578199\n",
      "Epoch 12/100:                 train loss 1.6494255388913535,                 val loss 2.184983172122901,                 action train acc 40.44154540893126,                 gender train acc 49.27245358755645,                 look train acc 60.36126442548921,                 cross train acc 92.37330657300552,                 action val acc 57.81990521327014,                 gender val acc 55.92417061611374,                 look val acc 94.7867298578199,                 cross val acc 93.36492890995261\n",
      "Epoch 13/100:                 train loss 1.6340707955023062,                 val loss 2.0991927232787506,                 action train acc 40.44154540893126,                 gender train acc 49.27245358755645,                 look train acc 60.36126442548921,                 cross train acc 92.57400903161064,                 action val acc 57.81990521327014,                 gender val acc 55.92417061611374,                 look val acc 94.7867298578199,                 cross val acc 95.260663507109\n",
      "Epoch 14/100:                 train loss 1.6244472423750613,                 val loss 2.2934317566207234,                 action train acc 40.44154540893126,                 gender train acc 49.27245358755645,                 look train acc 60.36126442548921,                 cross train acc 92.22277972905168,                 action val acc 57.81990521327014,                 gender val acc 55.92417061611374,                 look val acc 94.7867298578199,                 cross val acc 94.7867298578199\n",
      "Epoch 15/100:                 train loss 1.5706401172739384,                 val loss 2.1873604290858264,                 action train acc 40.44154540893126,                 gender train acc 49.27245358755645,                 look train acc 60.36126442548921,                 cross train acc 93.07576517812343,                 action val acc 57.81990521327014,                 gender val acc 55.92417061611374,                 look val acc 94.7867298578199,                 cross val acc 93.36492890995261\n",
      "Epoch 16/100:                 train loss 1.5429109725531058,                 val loss 2.204308098526363,                 action train acc 40.44154540893126,                 gender train acc 49.27245358755645,                 look train acc 60.36126442548921,                 cross train acc 94.27997992975415,                 action val acc 57.81990521327014,                 gender val acc 55.92417061611374,                 look val acc 94.7867298578199,                 cross val acc 92.89099526066352\n",
      "Epoch 17/100:                 train loss 1.4779919589875752,                 val loss 2.182442208601965,                 action train acc 40.44154540893126,                 gender train acc 49.27245358755645,                 look train acc 60.36126442548921,                 cross train acc 94.78173607626694,                 action val acc 57.81990521327014,                 gender val acc 55.92417061611374,                 look val acc 94.7867298578199,                 cross val acc 94.7867298578199\n",
      "Epoch 18/100:                 train loss 1.3802558623302899,                 val loss 2.1016792686064663,                 action train acc 40.44154540893126,                 gender train acc 49.27245358755645,                 look train acc 60.36126442548921,                 cross train acc 95.68489713998997,                 action val acc 57.81990521327014,                 gender val acc 55.92417061611374,                 look val acc 94.7867298578199,                 cross val acc 95.260663507109\n",
      "Epoch 19/100:                 train loss 1.4852223905916497,                 val loss 2.266161543498107,                 action train acc 40.44154540893126,                 gender train acc 49.27245358755645,                 look train acc 60.36126442548921,                 cross train acc 93.57752132463622,                 action val acc 57.81990521327014,                 gender val acc 55.92417061611374,                 look val acc 94.7867298578199,                 cross val acc 94.3127962085308\n",
      "Epoch 20/100:                 train loss 1.5120372298489966,                 val loss 2.0488237498495816,                 action train acc 40.44154540893126,                 gender train acc 49.27245358755645,                 look train acc 60.36126442548921,                 cross train acc 93.8785750125439,                 action val acc 57.81990521327014,                 gender val acc 55.92417061611374,                 look val acc 94.7867298578199,                 cross val acc 95.260663507109\n",
      "Epoch 21/100:                 train loss 1.7027721139455165,                 val loss 2.2935293523056246,                 action train acc 40.44154540893126,                 gender train acc 49.27245358755645,                 look train acc 60.36126442548921,                 cross train acc 92.37330657300552,                 action val acc 57.81990521327014,                 gender val acc 55.92417061611374,                 look val acc 94.7867298578199,                 cross val acc 95.73459715639811\n",
      "Epoch 22/100:                 train loss 1.7172870891990222,                 val loss 2.4549228252392807,                 action train acc 40.44154540893126,                 gender train acc 49.27245358755645,                 look train acc 60.36126442548921,                 cross train acc 91.52032112393377,                 action val acc 57.81990521327014,                 gender val acc 55.92417061611374,                 look val acc 94.7867298578199,                 cross val acc 69.66824644549763\n",
      "Epoch 23/100:                 train loss 1.9971835901554182,                 val loss 2.3838268976075954,                 action train acc 40.44154540893126,                 gender train acc 49.27245358755645,                 look train acc 60.36126442548921,                 cross train acc 88.45960863020572,                 action val acc 57.81990521327014,                 gender val acc 55.92417061611374,                 look val acc 94.7867298578199,                 cross val acc 93.8388625592417\n",
      "Epoch 24/100:                 train loss 2.190759250403527,                 val loss 2.680001566195375,                 action train acc 40.44154540893126,                 gender train acc 49.27245358755645,                 look train acc 60.36126442548921,                 cross train acc 83.89362769693929,                 action val acc 57.81990521327014,                 gender val acc 55.92417061611374,                 look val acc 94.7867298578199,                 cross val acc 95.260663507109\n",
      "Epoch 25/100:                 train loss 2.0176716733684628,                 val loss 1.9432440708033847,                 action train acc 40.44154540893126,                 gender train acc 49.27245358755645,                 look train acc 60.36126442548921,                 cross train acc 86.75363773206222,                 action val acc 57.81990521327014,                 gender val acc 55.92417061611374,                 look val acc 94.7867298578199,                 cross val acc 94.3127962085308\n",
      "Epoch 26/100:                 train loss 1.8291164992505202,                 val loss 1.972822044697983,                 action train acc 40.44154540893126,                 gender train acc 49.27245358755645,                 look train acc 60.36126442548921,                 cross train acc 88.71048670346212,                 action val acc 57.81990521327014,                 gender val acc 55.92417061611374,                 look val acc 94.7867298578199,                 cross val acc 93.8388625592417\n",
      "Epoch 27/100:                 train loss nan,                 val loss nan,                 action train acc 40.44154540893126,                 gender train acc 49.27245358755645,                 look train acc 60.36126442548921,                 cross train acc 74.56096337180131,                 action val acc 57.81990521327014,                 gender val acc 55.92417061611374,                 look val acc 94.7867298578199,                 cross val acc 94.7867298578199\n",
      "Epoch 28/100:                 train loss nan,                 val loss nan,                 action train acc 40.44154540893126,                 gender train acc 49.27245358755645,                 look train acc 60.36126442548921,                 cross train acc 65.12794781736076,                 action val acc 57.81990521327014,                 gender val acc 55.92417061611374,                 look val acc 94.7867298578199,                 cross val acc 94.7867298578199\n",
      "Epoch 29/100:                 train loss nan,                 val loss nan,                 action train acc 40.44154540893126,                 gender train acc 49.27245358755645,                 look train acc 60.36126442548921,                 cross train acc 65.12794781736076,                 action val acc 57.81990521327014,                 gender val acc 55.92417061611374,                 look val acc 94.7867298578199,                 cross val acc 94.7867298578199\n",
      "Epoch 30/100:                 train loss nan,                 val loss nan,                 action train acc 40.44154540893126,                 gender train acc 49.27245358755645,                 look train acc 60.36126442548921,                 cross train acc 65.12794781736076,                 action val acc 57.81990521327014,                 gender val acc 55.92417061611374,                 look val acc 94.7867298578199,                 cross val acc 94.7867298578199\n",
      "Epoch 31/100:                 train loss nan,                 val loss nan,                 action train acc 40.44154540893126,                 gender train acc 49.27245358755645,                 look train acc 60.36126442548921,                 cross train acc 65.12794781736076,                 action val acc 57.81990521327014,                 gender val acc 55.92417061611374,                 look val acc 94.7867298578199,                 cross val acc 94.7867298578199\n",
      "Epoch 32/100:                 train loss nan,                 val loss nan,                 action train acc 40.44154540893126,                 gender train acc 49.27245358755645,                 look train acc 60.36126442548921,                 cross train acc 65.12794781736076,                 action val acc 57.81990521327014,                 gender val acc 55.92417061611374,                 look val acc 94.7867298578199,                 cross val acc 94.7867298578199\n",
      "Epoch 33/100:                 train loss nan,                 val loss nan,                 action train acc 40.44154540893126,                 gender train acc 49.27245358755645,                 look train acc 60.36126442548921,                 cross train acc 65.12794781736076,                 action val acc 57.81990521327014,                 gender val acc 55.92417061611374,                 look val acc 94.7867298578199,                 cross val acc 94.7867298578199\n",
      "Epoch 34/100:                 train loss nan,                 val loss nan,                 action train acc 40.44154540893126,                 gender train acc 49.27245358755645,                 look train acc 60.36126442548921,                 cross train acc 65.12794781736076,                 action val acc 57.81990521327014,                 gender val acc 55.92417061611374,                 look val acc 94.7867298578199,                 cross val acc 94.7867298578199\n",
      "Epoch 35/100:                 train loss nan,                 val loss nan,                 action train acc 40.44154540893126,                 gender train acc 49.27245358755645,                 look train acc 60.36126442548921,                 cross train acc 65.12794781736076,                 action val acc 57.81990521327014,                 gender val acc 55.92417061611374,                 look val acc 94.7867298578199,                 cross val acc 94.7867298578199\n",
      "Epoch 36/100:                 train loss nan,                 val loss nan,                 action train acc 40.44154540893126,                 gender train acc 49.27245358755645,                 look train acc 60.36126442548921,                 cross train acc 65.12794781736076,                 action val acc 57.81990521327014,                 gender val acc 55.92417061611374,                 look val acc 94.7867298578199,                 cross val acc 94.7867298578199\n",
      "Epoch 37/100:                 train loss nan,                 val loss nan,                 action train acc 40.44154540893126,                 gender train acc 49.27245358755645,                 look train acc 60.36126442548921,                 cross train acc 65.12794781736076,                 action val acc 57.81990521327014,                 gender val acc 55.92417061611374,                 look val acc 94.7867298578199,                 cross val acc 94.7867298578199\n",
      "Epoch 38/100:                 train loss nan,                 val loss nan,                 action train acc 40.44154540893126,                 gender train acc 49.27245358755645,                 look train acc 60.36126442548921,                 cross train acc 65.12794781736076,                 action val acc 57.81990521327014,                 gender val acc 55.92417061611374,                 look val acc 94.7867298578199,                 cross val acc 94.7867298578199\n",
      "Epoch 39/100:                 train loss nan,                 val loss nan,                 action train acc 40.44154540893126,                 gender train acc 49.27245358755645,                 look train acc 60.36126442548921,                 cross train acc 65.12794781736076,                 action val acc 57.81990521327014,                 gender val acc 55.92417061611374,                 look val acc 94.7867298578199,                 cross val acc 94.7867298578199\n",
      "Epoch 40/100:                 train loss nan,                 val loss nan,                 action train acc 40.44154540893126,                 gender train acc 49.27245358755645,                 look train acc 60.36126442548921,                 cross train acc 65.12794781736076,                 action val acc 57.81990521327014,                 gender val acc 55.92417061611374,                 look val acc 94.7867298578199,                 cross val acc 94.7867298578199\n",
      "Epoch 41/100:                 train loss nan,                 val loss nan,                 action train acc 40.44154540893126,                 gender train acc 49.27245358755645,                 look train acc 60.36126442548921,                 cross train acc 65.12794781736076,                 action val acc 57.81990521327014,                 gender val acc 55.92417061611374,                 look val acc 94.7867298578199,                 cross val acc 94.7867298578199\n",
      "Epoch 42/100:                 train loss nan,                 val loss nan,                 action train acc 40.44154540893126,                 gender train acc 49.27245358755645,                 look train acc 60.36126442548921,                 cross train acc 65.12794781736076,                 action val acc 57.81990521327014,                 gender val acc 55.92417061611374,                 look val acc 94.7867298578199,                 cross val acc 94.7867298578199\n",
      "Epoch 43/100:                 train loss nan,                 val loss nan,                 action train acc 40.44154540893126,                 gender train acc 49.27245358755645,                 look train acc 60.36126442548921,                 cross train acc 65.12794781736076,                 action val acc 57.81990521327014,                 gender val acc 55.92417061611374,                 look val acc 94.7867298578199,                 cross val acc 94.7867298578199\n",
      "Epoch 44/100:                 train loss nan,                 val loss nan,                 action train acc 40.44154540893126,                 gender train acc 49.27245358755645,                 look train acc 60.36126442548921,                 cross train acc 65.12794781736076,                 action val acc 57.81990521327014,                 gender val acc 55.92417061611374,                 look val acc 94.7867298578199,                 cross val acc 94.7867298578199\n",
      "Epoch 45/100:                 train loss nan,                 val loss nan,                 action train acc 40.44154540893126,                 gender train acc 49.27245358755645,                 look train acc 60.36126442548921,                 cross train acc 65.12794781736076,                 action val acc 57.81990521327014,                 gender val acc 55.92417061611374,                 look val acc 94.7867298578199,                 cross val acc 94.7867298578199\n",
      "Epoch 46/100:                 train loss nan,                 val loss nan,                 action train acc 40.44154540893126,                 gender train acc 49.27245358755645,                 look train acc 60.36126442548921,                 cross train acc 65.12794781736076,                 action val acc 57.81990521327014,                 gender val acc 55.92417061611374,                 look val acc 94.7867298578199,                 cross val acc 94.7867298578199\n",
      "Epoch 47/100:                 train loss nan,                 val loss nan,                 action train acc 40.44154540893126,                 gender train acc 49.27245358755645,                 look train acc 60.36126442548921,                 cross train acc 65.12794781736076,                 action val acc 57.81990521327014,                 gender val acc 55.92417061611374,                 look val acc 94.7867298578199,                 cross val acc 94.7867298578199\n",
      "Epoch 48/100:                 train loss nan,                 val loss nan,                 action train acc 40.44154540893126,                 gender train acc 49.27245358755645,                 look train acc 60.36126442548921,                 cross train acc 65.12794781736076,                 action val acc 57.81990521327014,                 gender val acc 55.92417061611374,                 look val acc 94.7867298578199,                 cross val acc 94.7867298578199\n",
      "Epoch 49/100:                 train loss nan,                 val loss nan,                 action train acc 40.44154540893126,                 gender train acc 49.27245358755645,                 look train acc 60.36126442548921,                 cross train acc 65.12794781736076,                 action val acc 57.81990521327014,                 gender val acc 55.92417061611374,                 look val acc 94.7867298578199,                 cross val acc 94.7867298578199\n",
      "Epoch 50/100:                 train loss nan,                 val loss nan,                 action train acc 40.44154540893126,                 gender train acc 49.27245358755645,                 look train acc 60.36126442548921,                 cross train acc 65.12794781736076,                 action val acc 57.81990521327014,                 gender val acc 55.92417061611374,                 look val acc 94.7867298578199,                 cross val acc 94.7867298578199\n",
      "Epoch 51/100:                 train loss nan,                 val loss nan,                 action train acc 40.44154540893126,                 gender train acc 49.27245358755645,                 look train acc 60.36126442548921,                 cross train acc 65.12794781736076,                 action val acc 57.81990521327014,                 gender val acc 55.92417061611374,                 look val acc 94.7867298578199,                 cross val acc 94.7867298578199\n",
      "Epoch 52/100:                 train loss nan,                 val loss nan,                 action train acc 40.44154540893126,                 gender train acc 49.27245358755645,                 look train acc 60.36126442548921,                 cross train acc 65.12794781736076,                 action val acc 57.81990521327014,                 gender val acc 55.92417061611374,                 look val acc 94.7867298578199,                 cross val acc 94.7867298578199\n",
      "Epoch 53/100:                 train loss nan,                 val loss nan,                 action train acc 40.44154540893126,                 gender train acc 49.27245358755645,                 look train acc 60.36126442548921,                 cross train acc 65.12794781736076,                 action val acc 57.81990521327014,                 gender val acc 55.92417061611374,                 look val acc 94.7867298578199,                 cross val acc 94.7867298578199\n",
      "Epoch 54/100:                 train loss nan,                 val loss nan,                 action train acc 40.44154540893126,                 gender train acc 49.27245358755645,                 look train acc 60.36126442548921,                 cross train acc 65.12794781736076,                 action val acc 57.81990521327014,                 gender val acc 55.92417061611374,                 look val acc 94.7867298578199,                 cross val acc 94.7867298578199\n",
      "Epoch 55/100:                 train loss nan,                 val loss nan,                 action train acc 40.44154540893126,                 gender train acc 49.27245358755645,                 look train acc 60.36126442548921,                 cross train acc 65.12794781736076,                 action val acc 57.81990521327014,                 gender val acc 55.92417061611374,                 look val acc 94.7867298578199,                 cross val acc 94.7867298578199\n",
      "Epoch 56/100:                 train loss nan,                 val loss nan,                 action train acc 40.44154540893126,                 gender train acc 49.27245358755645,                 look train acc 60.36126442548921,                 cross train acc 65.12794781736076,                 action val acc 57.81990521327014,                 gender val acc 55.92417061611374,                 look val acc 94.7867298578199,                 cross val acc 94.7867298578199\n",
      "Epoch 57/100:                 train loss nan,                 val loss nan,                 action train acc 40.44154540893126,                 gender train acc 49.27245358755645,                 look train acc 60.36126442548921,                 cross train acc 65.12794781736076,                 action val acc 57.81990521327014,                 gender val acc 55.92417061611374,                 look val acc 94.7867298578199,                 cross val acc 94.7867298578199\n",
      "Epoch 58/100:                 train loss nan,                 val loss nan,                 action train acc 40.44154540893126,                 gender train acc 49.27245358755645,                 look train acc 60.36126442548921,                 cross train acc 65.12794781736076,                 action val acc 57.81990521327014,                 gender val acc 55.92417061611374,                 look val acc 94.7867298578199,                 cross val acc 94.7867298578199\n",
      "Epoch 59/100:                 train loss nan,                 val loss nan,                 action train acc 40.44154540893126,                 gender train acc 49.27245358755645,                 look train acc 60.36126442548921,                 cross train acc 65.12794781736076,                 action val acc 57.81990521327014,                 gender val acc 55.92417061611374,                 look val acc 94.7867298578199,                 cross val acc 94.7867298578199\n",
      "Epoch 60/100:                 train loss nan,                 val loss nan,                 action train acc 40.44154540893126,                 gender train acc 49.27245358755645,                 look train acc 60.36126442548921,                 cross train acc 65.12794781736076,                 action val acc 57.81990521327014,                 gender val acc 55.92417061611374,                 look val acc 94.7867298578199,                 cross val acc 94.7867298578199\n",
      "Epoch 61/100:                 train loss nan,                 val loss nan,                 action train acc 40.44154540893126,                 gender train acc 49.27245358755645,                 look train acc 60.36126442548921,                 cross train acc 65.12794781736076,                 action val acc 57.81990521327014,                 gender val acc 55.92417061611374,                 look val acc 94.7867298578199,                 cross val acc 94.7867298578199\n",
      "Epoch 62/100:                 train loss nan,                 val loss nan,                 action train acc 40.44154540893126,                 gender train acc 49.27245358755645,                 look train acc 60.36126442548921,                 cross train acc 65.12794781736076,                 action val acc 57.81990521327014,                 gender val acc 55.92417061611374,                 look val acc 94.7867298578199,                 cross val acc 94.7867298578199\n",
      "Epoch 63/100:                 train loss nan,                 val loss nan,                 action train acc 40.44154540893126,                 gender train acc 49.27245358755645,                 look train acc 60.36126442548921,                 cross train acc 65.12794781736076,                 action val acc 57.81990521327014,                 gender val acc 55.92417061611374,                 look val acc 94.7867298578199,                 cross val acc 94.7867298578199\n",
      "Epoch 64/100:                 train loss nan,                 val loss nan,                 action train acc 40.44154540893126,                 gender train acc 49.27245358755645,                 look train acc 60.36126442548921,                 cross train acc 65.12794781736076,                 action val acc 57.81990521327014,                 gender val acc 55.92417061611374,                 look val acc 94.7867298578199,                 cross val acc 94.7867298578199\n",
      "Epoch 65/100:                 train loss nan,                 val loss nan,                 action train acc 40.44154540893126,                 gender train acc 49.27245358755645,                 look train acc 60.36126442548921,                 cross train acc 65.12794781736076,                 action val acc 57.81990521327014,                 gender val acc 55.92417061611374,                 look val acc 94.7867298578199,                 cross val acc 94.7867298578199\n",
      "Epoch 66/100:                 train loss nan,                 val loss nan,                 action train acc 40.44154540893126,                 gender train acc 49.27245358755645,                 look train acc 60.36126442548921,                 cross train acc 65.12794781736076,                 action val acc 57.81990521327014,                 gender val acc 55.92417061611374,                 look val acc 94.7867298578199,                 cross val acc 94.7867298578199\n",
      "Epoch 67/100:                 train loss nan,                 val loss nan,                 action train acc 40.44154540893126,                 gender train acc 49.27245358755645,                 look train acc 60.36126442548921,                 cross train acc 65.12794781736076,                 action val acc 57.81990521327014,                 gender val acc 55.92417061611374,                 look val acc 94.7867298578199,                 cross val acc 94.7867298578199\n",
      "Epoch 68/100:                 train loss nan,                 val loss nan,                 action train acc 40.44154540893126,                 gender train acc 49.27245358755645,                 look train acc 60.36126442548921,                 cross train acc 65.12794781736076,                 action val acc 57.81990521327014,                 gender val acc 55.92417061611374,                 look val acc 94.7867298578199,                 cross val acc 94.7867298578199\n",
      "Epoch 69/100:                 train loss nan,                 val loss nan,                 action train acc 40.44154540893126,                 gender train acc 49.27245358755645,                 look train acc 60.36126442548921,                 cross train acc 65.12794781736076,                 action val acc 57.81990521327014,                 gender val acc 55.92417061611374,                 look val acc 94.7867298578199,                 cross val acc 94.7867298578199\n",
      "Epoch 70/100:                 train loss nan,                 val loss nan,                 action train acc 40.44154540893126,                 gender train acc 49.27245358755645,                 look train acc 60.36126442548921,                 cross train acc 65.12794781736076,                 action val acc 57.81990521327014,                 gender val acc 55.92417061611374,                 look val acc 94.7867298578199,                 cross val acc 94.7867298578199\n",
      "Epoch 71/100:                 train loss nan,                 val loss nan,                 action train acc 40.44154540893126,                 gender train acc 49.27245358755645,                 look train acc 60.36126442548921,                 cross train acc 65.12794781736076,                 action val acc 57.81990521327014,                 gender val acc 55.92417061611374,                 look val acc 94.7867298578199,                 cross val acc 94.7867298578199\n",
      "Epoch 72/100:                 train loss nan,                 val loss nan,                 action train acc 40.44154540893126,                 gender train acc 49.27245358755645,                 look train acc 60.36126442548921,                 cross train acc 65.12794781736076,                 action val acc 57.81990521327014,                 gender val acc 55.92417061611374,                 look val acc 94.7867298578199,                 cross val acc 94.7867298578199\n",
      "Epoch 73/100:                 train loss nan,                 val loss nan,                 action train acc 40.44154540893126,                 gender train acc 49.27245358755645,                 look train acc 60.36126442548921,                 cross train acc 65.12794781736076,                 action val acc 57.81990521327014,                 gender val acc 55.92417061611374,                 look val acc 94.7867298578199,                 cross val acc 94.7867298578199\n",
      "Epoch 74/100:                 train loss nan,                 val loss nan,                 action train acc 40.44154540893126,                 gender train acc 49.27245358755645,                 look train acc 60.36126442548921,                 cross train acc 65.12794781736076,                 action val acc 57.81990521327014,                 gender val acc 55.92417061611374,                 look val acc 94.7867298578199,                 cross val acc 94.7867298578199\n",
      "Epoch 75/100:                 train loss nan,                 val loss nan,                 action train acc 40.44154540893126,                 gender train acc 49.27245358755645,                 look train acc 60.36126442548921,                 cross train acc 65.12794781736076,                 action val acc 57.81990521327014,                 gender val acc 55.92417061611374,                 look val acc 94.7867298578199,                 cross val acc 94.7867298578199\n",
      "Epoch 76/100:                 train loss nan,                 val loss nan,                 action train acc 40.44154540893126,                 gender train acc 49.27245358755645,                 look train acc 60.36126442548921,                 cross train acc 65.12794781736076,                 action val acc 57.81990521327014,                 gender val acc 55.92417061611374,                 look val acc 94.7867298578199,                 cross val acc 94.7867298578199\n",
      "Epoch 77/100:                 train loss nan,                 val loss nan,                 action train acc 40.44154540893126,                 gender train acc 49.27245358755645,                 look train acc 60.36126442548921,                 cross train acc 65.12794781736076,                 action val acc 57.81990521327014,                 gender val acc 55.92417061611374,                 look val acc 94.7867298578199,                 cross val acc 94.7867298578199\n",
      "Epoch 78/100:                 train loss nan,                 val loss nan,                 action train acc 40.44154540893126,                 gender train acc 49.27245358755645,                 look train acc 60.36126442548921,                 cross train acc 65.12794781736076,                 action val acc 57.81990521327014,                 gender val acc 55.92417061611374,                 look val acc 94.7867298578199,                 cross val acc 94.7867298578199\n",
      "Epoch 79/100:                 train loss nan,                 val loss nan,                 action train acc 40.44154540893126,                 gender train acc 49.27245358755645,                 look train acc 60.36126442548921,                 cross train acc 65.12794781736076,                 action val acc 57.81990521327014,                 gender val acc 55.92417061611374,                 look val acc 94.7867298578199,                 cross val acc 94.7867298578199\n",
      "Epoch 80/100:                 train loss nan,                 val loss nan,                 action train acc 40.44154540893126,                 gender train acc 49.27245358755645,                 look train acc 60.36126442548921,                 cross train acc 65.12794781736076,                 action val acc 57.81990521327014,                 gender val acc 55.92417061611374,                 look val acc 94.7867298578199,                 cross val acc 94.7867298578199\n",
      "Epoch 81/100:                 train loss nan,                 val loss nan,                 action train acc 40.44154540893126,                 gender train acc 49.27245358755645,                 look train acc 60.36126442548921,                 cross train acc 65.12794781736076,                 action val acc 57.81990521327014,                 gender val acc 55.92417061611374,                 look val acc 94.7867298578199,                 cross val acc 94.7867298578199\n",
      "Epoch 82/100:                 train loss nan,                 val loss nan,                 action train acc 40.44154540893126,                 gender train acc 49.27245358755645,                 look train acc 60.36126442548921,                 cross train acc 65.12794781736076,                 action val acc 57.81990521327014,                 gender val acc 55.92417061611374,                 look val acc 94.7867298578199,                 cross val acc 94.7867298578199\n",
      "Epoch 83/100:                 train loss nan,                 val loss nan,                 action train acc 40.44154540893126,                 gender train acc 49.27245358755645,                 look train acc 60.36126442548921,                 cross train acc 65.12794781736076,                 action val acc 57.81990521327014,                 gender val acc 55.92417061611374,                 look val acc 94.7867298578199,                 cross val acc 94.7867298578199\n",
      "Epoch 84/100:                 train loss nan,                 val loss nan,                 action train acc 40.44154540893126,                 gender train acc 49.27245358755645,                 look train acc 60.36126442548921,                 cross train acc 65.12794781736076,                 action val acc 57.81990521327014,                 gender val acc 55.92417061611374,                 look val acc 94.7867298578199,                 cross val acc 94.7867298578199\n",
      "Epoch 85/100:                 train loss nan,                 val loss nan,                 action train acc 40.44154540893126,                 gender train acc 49.27245358755645,                 look train acc 60.36126442548921,                 cross train acc 65.12794781736076,                 action val acc 57.81990521327014,                 gender val acc 55.92417061611374,                 look val acc 94.7867298578199,                 cross val acc 94.7867298578199\n",
      "Epoch 86/100:                 train loss nan,                 val loss nan,                 action train acc 40.44154540893126,                 gender train acc 49.27245358755645,                 look train acc 60.36126442548921,                 cross train acc 65.12794781736076,                 action val acc 57.81990521327014,                 gender val acc 55.92417061611374,                 look val acc 94.7867298578199,                 cross val acc 94.7867298578199\n",
      "Epoch 87/100:                 train loss nan,                 val loss nan,                 action train acc 40.44154540893126,                 gender train acc 49.27245358755645,                 look train acc 60.36126442548921,                 cross train acc 65.12794781736076,                 action val acc 57.81990521327014,                 gender val acc 55.92417061611374,                 look val acc 94.7867298578199,                 cross val acc 94.7867298578199\n",
      "Epoch 88/100:                 train loss nan,                 val loss nan,                 action train acc 40.44154540893126,                 gender train acc 49.27245358755645,                 look train acc 60.36126442548921,                 cross train acc 65.12794781736076,                 action val acc 57.81990521327014,                 gender val acc 55.92417061611374,                 look val acc 94.7867298578199,                 cross val acc 94.7867298578199\n",
      "Epoch 89/100:                 train loss nan,                 val loss nan,                 action train acc 40.44154540893126,                 gender train acc 49.27245358755645,                 look train acc 60.36126442548921,                 cross train acc 65.12794781736076,                 action val acc 57.81990521327014,                 gender val acc 55.92417061611374,                 look val acc 94.7867298578199,                 cross val acc 94.7867298578199\n",
      "Epoch 90/100:                 train loss nan,                 val loss nan,                 action train acc 40.44154540893126,                 gender train acc 49.27245358755645,                 look train acc 60.36126442548921,                 cross train acc 65.12794781736076,                 action val acc 57.81990521327014,                 gender val acc 55.92417061611374,                 look val acc 94.7867298578199,                 cross val acc 94.7867298578199\n",
      "Epoch 91/100:                 train loss nan,                 val loss nan,                 action train acc 40.44154540893126,                 gender train acc 49.27245358755645,                 look train acc 60.36126442548921,                 cross train acc 65.12794781736076,                 action val acc 57.81990521327014,                 gender val acc 55.92417061611374,                 look val acc 94.7867298578199,                 cross val acc 94.7867298578199\n",
      "Epoch 92/100:                 train loss nan,                 val loss nan,                 action train acc 40.44154540893126,                 gender train acc 49.27245358755645,                 look train acc 60.36126442548921,                 cross train acc 65.12794781736076,                 action val acc 57.81990521327014,                 gender val acc 55.92417061611374,                 look val acc 94.7867298578199,                 cross val acc 94.7867298578199\n",
      "Epoch 93/100:                 train loss nan,                 val loss nan,                 action train acc 40.44154540893126,                 gender train acc 49.27245358755645,                 look train acc 60.36126442548921,                 cross train acc 65.12794781736076,                 action val acc 57.81990521327014,                 gender val acc 55.92417061611374,                 look val acc 94.7867298578199,                 cross val acc 94.7867298578199\n",
      "Epoch 94/100:                 train loss nan,                 val loss nan,                 action train acc 40.44154540893126,                 gender train acc 49.27245358755645,                 look train acc 60.36126442548921,                 cross train acc 65.12794781736076,                 action val acc 57.81990521327014,                 gender val acc 55.92417061611374,                 look val acc 94.7867298578199,                 cross val acc 94.7867298578199\n",
      "Epoch 95/100:                 train loss nan,                 val loss nan,                 action train acc 40.44154540893126,                 gender train acc 49.27245358755645,                 look train acc 60.36126442548921,                 cross train acc 65.12794781736076,                 action val acc 57.81990521327014,                 gender val acc 55.92417061611374,                 look val acc 94.7867298578199,                 cross val acc 94.7867298578199\n",
      "Epoch 96/100:                 train loss nan,                 val loss nan,                 action train acc 40.44154540893126,                 gender train acc 49.27245358755645,                 look train acc 60.36126442548921,                 cross train acc 65.12794781736076,                 action val acc 57.81990521327014,                 gender val acc 55.92417061611374,                 look val acc 94.7867298578199,                 cross val acc 94.7867298578199\n",
      "Epoch 97/100:                 train loss nan,                 val loss nan,                 action train acc 40.44154540893126,                 gender train acc 49.27245358755645,                 look train acc 60.36126442548921,                 cross train acc 65.12794781736076,                 action val acc 57.81990521327014,                 gender val acc 55.92417061611374,                 look val acc 94.7867298578199,                 cross val acc 94.7867298578199\n",
      "Epoch 98/100:                 train loss nan,                 val loss nan,                 action train acc 40.44154540893126,                 gender train acc 49.27245358755645,                 look train acc 60.36126442548921,                 cross train acc 65.12794781736076,                 action val acc 57.81990521327014,                 gender val acc 55.92417061611374,                 look val acc 94.7867298578199,                 cross val acc 94.7867298578199\n",
      "Epoch 99/100:                 train loss nan,                 val loss nan,                 action train acc 40.44154540893126,                 gender train acc 49.27245358755645,                 look train acc 60.36126442548921,                 cross train acc 65.12794781736076,                 action val acc 57.81990521327014,                 gender val acc 55.92417061611374,                 look val acc 94.7867298578199,                 cross val acc 94.7867298578199\n",
      "('              precision    recall  f1-score   support\\n'\n",
      " '\\n'\n",
      " '           0       0.55      1.00      0.71       316\\n'\n",
      " '           1       0.00      0.00      0.00       263\\n'\n",
      " '\\n'\n",
      " '    accuracy                           0.55       579\\n'\n",
      " '   macro avg       0.27      0.50      0.35       579\\n'\n",
      " 'weighted avg       0.30      0.55      0.39       579\\n')\n",
      "('              precision    recall  f1-score   support\\n'\n",
      " '\\n'\n",
      " '           0       0.55      1.00      0.71       321\\n'\n",
      " '           1       0.00      0.00      0.00       258\\n'\n",
      " '\\n'\n",
      " '    accuracy                           0.55       579\\n'\n",
      " '   macro avg       0.28      0.50      0.36       579\\n'\n",
      " 'weighted avg       0.31      0.55      0.40       579\\n')\n",
      "('              precision    recall  f1-score   support\\n'\n",
      " '\\n'\n",
      " '           0       0.91      1.00      0.95       529\\n'\n",
      " '           1       0.00      0.00      0.00        50\\n'\n",
      " '\\n'\n",
      " '    accuracy                           0.91       579\\n'\n",
      " '   macro avg       0.46      0.50      0.48       579\\n'\n",
      " 'weighted avg       0.83      0.91      0.87       579\\n')\n",
      "('              precision    recall  f1-score   support\\n'\n",
      " '\\n'\n",
      " '           0       0.89      1.00      0.94       517\\n'\n",
      " '           1       0.00      0.00      0.00        54\\n'\n",
      " '           2       0.00      0.00      0.00         8\\n'\n",
      " '\\n'\n",
      " '    accuracy                           0.89       579\\n'\n",
      " '   macro avg       0.30      0.33      0.31       579\\n'\n",
      " 'weighted avg       0.80      0.89      0.84       579\\n')\n"
     ]
    },
    {
     "data": {
      "text/html": [
       "Waiting for W&B process to finish... <strong style=\"color:green\">(success).</strong>"
      ],
      "text/plain": [
       "<IPython.core.display.HTML object>"
      ]
     },
     "metadata": {},
     "output_type": "display_data"
    },
    {
     "data": {
      "application/vnd.jupyter.widget-view+json": {
       "model_id": "874c0ef362d14e3aa2d7841a8e76552c",
       "version_major": 2,
       "version_minor": 0
      },
      "text/plain": [
       "VBox(children=(Label(value='0.065 MB of 0.065 MB uploaded (0.000 MB deduped)\\r'), FloatProgress(value=1.0, max…"
      ]
     },
     "metadata": {},
     "output_type": "display_data"
    },
    {
     "data": {
      "text/html": [
       "<style>\n",
       "    table.wandb td:nth-child(1) { padding: 0 10px; text-align: left ; width: auto;} td:nth-child(2) {text-align: left ; width: 100%}\n",
       "    .wandb-row { display: flex; flex-direction: row; flex-wrap: wrap; justify-content: flex-start; width: 100% }\n",
       "    .wandb-col { display: flex; flex-direction: column; flex-basis: 100%; flex: 1; padding: 10px; }\n",
       "    </style>\n",
       "<div class=\"wandb-row\"><div class=\"wandb-col\"><h3>Run history:</h3><br/><table class=\"wandb\"><tr><td>action train acc</td><td>▁▁▁▁▁▁▁▁▁▁▁▁▁▁▁▁▁▁▁▁▁▁▁▁▁▁▁▁▁▁▁▁▁▁▁▁▁▁▁▁</td></tr><tr><td>action val acc</td><td>▁▁▁▁▁▁▁▁▁▁▁▁▁▁▁▁▁▁▁▁▁▁▁▁▁▁▁▁▁▁▁▁▁▁▁▁▁▁▁▁</td></tr><tr><td>cross train acc</td><td>▁▁▄▆▇▇███▇▆▃▁▁▁▁▁▁▁▁▁▁▁▁▁▁▁▁▁▁▁▁▁▁▁▁▁▁▁▁</td></tr><tr><td>cross val acc</td><td>██▇▇▇▇▇██▁██████████████████████████████</td></tr><tr><td>gender train acc</td><td>▁▁▁▁▁▁▁▁▁▁▁▁▁▁▁▁▁▁▁▁▁▁▁▁▁▁▁▁▁▁▁▁▁▁▁▁▁▁▁▁</td></tr><tr><td>gender val acc</td><td>▁▁▁▁▁▁▁▁▁▁▁▁▁▁▁▁▁▁▁▁▁▁▁▁▁▁▁▁▁▁▁▁▁▁▁▁▁▁▁▁</td></tr><tr><td>look train acc</td><td>▁▁▁▁▁▁▁▁▁▁▁▁▁▁▁▁▁▁▁▁▁▁▁▁▁▁▁▁▁▁▁▁▁▁▁▁▁▁▁▁</td></tr><tr><td>look val acc</td><td>▁▁▁▁▁▁▁▁▁▁▁▁▁▁▁▁▁▁▁▁▁▁▁▁▁▁▁▁▁▁▁▁▁▁▁▁▁▁▁▁</td></tr><tr><td>train loss</td><td>█▇▆▄▃▂▁▁▁▂▄                             </td></tr><tr><td>val_loss</td><td>█▁▃▂▂▅▅▅▃█▂                             </td></tr></table><br/></div><div class=\"wandb-col\"><h3>Run summary:</h3><br/><table class=\"wandb\"><tr><td>action train acc</td><td>40.44155</td></tr><tr><td>action val acc</td><td>57.81991</td></tr><tr><td>cross train acc</td><td>65.12795</td></tr><tr><td>cross val acc</td><td>94.78673</td></tr><tr><td>gender train acc</td><td>49.27245</td></tr><tr><td>gender val acc</td><td>55.92417</td></tr><tr><td>look train acc</td><td>60.36126</td></tr><tr><td>look val acc</td><td>94.78673</td></tr><tr><td>train loss</td><td>nan</td></tr><tr><td>val_loss</td><td>nan</td></tr></table><br/></div></div>"
      ],
      "text/plain": [
       "<IPython.core.display.HTML object>"
      ]
     },
     "metadata": {},
     "output_type": "display_data"
    },
    {
     "data": {
      "text/html": [
       " View run <strong style=\"color:#cdcd00\">vital-sweep-11</strong> at: <a href='https://wandb.ai/xmatovice/uncategorized/runs/5a2j0bfj' target=\"_blank\">https://wandb.ai/xmatovice/uncategorized/runs/5a2j0bfj</a><br/>Synced 6 W&B file(s), 0 media file(s), 0 artifact file(s) and 0 other file(s)"
      ],
      "text/plain": [
       "<IPython.core.display.HTML object>"
      ]
     },
     "metadata": {},
     "output_type": "display_data"
    },
    {
     "data": {
      "text/html": [
       "Find logs at: <code>./wandb/run-20230411_151106-5a2j0bfj/logs</code>"
      ],
      "text/plain": [
       "<IPython.core.display.HTML object>"
      ]
     },
     "metadata": {},
     "output_type": "display_data"
    },
    {
     "name": "stderr",
     "output_type": "stream",
     "text": [
      "\u001b[34m\u001b[1mwandb\u001b[0m: Agent Starting Run: 4eirelpz with config:\n",
      "\u001b[34m\u001b[1mwandb\u001b[0m: \tbatch_size: 8\n",
      "\u001b[34m\u001b[1mwandb\u001b[0m: \tepochs: 100\n",
      "\u001b[34m\u001b[1mwandb\u001b[0m: \tlearning_rate: 0.06716065735203035\n",
      "\u001b[34m\u001b[1mwandb\u001b[0m: \tmomentum: 0.3551061451818517\n",
      "\u001b[34m\u001b[1mwandb\u001b[0m: \tn_features: 64\n",
      "Failed to detect the name of this notebook, you can set it manually with the WANDB_NOTEBOOK_NAME environment variable to enable code saving.\n",
      "\u001b[34m\u001b[1mwandb\u001b[0m: \u001b[33mWARNING\u001b[0m Ignored wandb.init() arg project when running a sweep.\n"
     ]
    },
    {
     "data": {
      "text/html": [
       "wandb version 0.14.2 is available!  To upgrade, please run:\n",
       " $ pip install wandb --upgrade"
      ],
      "text/plain": [
       "<IPython.core.display.HTML object>"
      ]
     },
     "metadata": {},
     "output_type": "display_data"
    },
    {
     "data": {
      "text/html": [
       "Tracking run with wandb version 0.13.10"
      ],
      "text/plain": [
       "<IPython.core.display.HTML object>"
      ]
     },
     "metadata": {},
     "output_type": "display_data"
    },
    {
     "data": {
      "text/html": [
       "Run data is saved locally in <code>/home/erik/FIIT/2_Ing/2_semester/NSIETE/cvicenia/zadanie2/src/wandb/run-20230411_152803-4eirelpz</code>"
      ],
      "text/plain": [
       "<IPython.core.display.HTML object>"
      ]
     },
     "metadata": {},
     "output_type": "display_data"
    },
    {
     "data": {
      "text/html": [
       "Syncing run <strong><a href='https://wandb.ai/xmatovice/uncategorized/runs/4eirelpz' target=\"_blank\">generous-sweep-12</a></strong> to <a href='https://wandb.ai/xmatovice/uncategorized' target=\"_blank\">Weights & Biases</a> (<a href='https://wandb.me/run' target=\"_blank\">docs</a>)<br/>Sweep page: <a href='https://wandb.ai/xmatovice/uncategorized/sweeps/6erje4vd' target=\"_blank\">https://wandb.ai/xmatovice/uncategorized/sweeps/6erje4vd</a>"
      ],
      "text/plain": [
       "<IPython.core.display.HTML object>"
      ]
     },
     "metadata": {},
     "output_type": "display_data"
    },
    {
     "data": {
      "text/html": [
       " View project at <a href='https://wandb.ai/xmatovice/uncategorized' target=\"_blank\">https://wandb.ai/xmatovice/uncategorized</a>"
      ],
      "text/plain": [
       "<IPython.core.display.HTML object>"
      ]
     },
     "metadata": {},
     "output_type": "display_data"
    },
    {
     "data": {
      "text/html": [
       " View sweep at <a href='https://wandb.ai/xmatovice/uncategorized/sweeps/6erje4vd' target=\"_blank\">https://wandb.ai/xmatovice/uncategorized/sweeps/6erje4vd</a>"
      ],
      "text/plain": [
       "<IPython.core.display.HTML object>"
      ]
     },
     "metadata": {},
     "output_type": "display_data"
    },
    {
     "data": {
      "text/html": [
       " View run at <a href='https://wandb.ai/xmatovice/uncategorized/runs/4eirelpz' target=\"_blank\">https://wandb.ai/xmatovice/uncategorized/runs/4eirelpz</a>"
      ],
      "text/plain": [
       "<IPython.core.display.HTML object>"
      ]
     },
     "metadata": {},
     "output_type": "display_data"
    },
    {
     "name": "stdout",
     "output_type": "stream",
     "text": [
      "[INFO] initializing the CNN model...\n",
      "Epoch 0/100:                 train loss 2.782563003295041,                 val loss 2.3910598122113123,                 action train acc 40.44154540893126,                 gender train acc 49.27245358755645,                 look train acc 60.36126442548921,                 cross train acc 64.62619167084796,                 action val acc 57.81990521327014,                 gender val acc 55.92417061611374,                 look val acc 94.7867298578199,                 cross val acc 94.7867298578199\n",
      "Epoch 1/100:                 train loss 2.6768199042106358,                 val loss 2.115098067369506,                 action train acc 40.44154540893126,                 gender train acc 49.27245358755645,                 look train acc 60.36126442548921,                 cross train acc 66.2318113396889,                 action val acc 57.81990521327014,                 gender val acc 55.92417061611374,                 look val acc 94.7867298578199,                 cross val acc 96.2085308056872\n",
      "Epoch 2/100:                 train loss 2.5840398115664347,                 val loss 2.3315128850710902,                 action train acc 40.44154540893126,                 gender train acc 49.27245358755645,                 look train acc 60.36126442548921,                 cross train acc 71.6006021073758,                 action val acc 57.81990521327014,                 gender val acc 55.92417061611374,                 look val acc 94.7867298578199,                 cross val acc 90.04739336492891\n",
      "Epoch 3/100:                 train loss 2.4833688343582114,                 val loss 2.1599536687841914,                 action train acc 40.44154540893126,                 gender train acc 49.27245358755645,                 look train acc 60.36126442548921,                 cross train acc 76.26693426994481,                 action val acc 57.81990521327014,                 gender val acc 55.92417061611374,                 look val acc 94.7867298578199,                 cross val acc 94.7867298578199\n",
      "Epoch 4/100:                 train loss 2.3987309828632393,                 val loss 2.0678611095482706,                 action train acc 40.44154540893126,                 gender train acc 49.27245358755645,                 look train acc 60.36126442548921,                 cross train acc 79.82940291018565,                 action val acc 57.81990521327014,                 gender val acc 55.92417061611374,                 look val acc 94.7867298578199,                 cross val acc 89.0995260663507\n",
      "Epoch 5/100:                 train loss 2.188987030435075,                 val loss 2.188364856051043,                 action train acc 40.44154540893126,                 gender train acc 49.27245358755645,                 look train acc 60.36126442548921,                 cross train acc 85.3487205218264,                 action val acc 57.81990521327014,                 gender val acc 55.92417061611374,                 look val acc 94.7867298578199,                 cross val acc 95.73459715639811\n",
      "Epoch 6/100:                 train loss 2.1866669657238753,                 val loss 2.5002994989331864,                 action train acc 40.44154540893126,                 gender train acc 49.27245358755645,                 look train acc 60.36126442548921,                 cross train acc 84.44555945810336,                 action val acc 57.81990521327014,                 gender val acc 55.92417061611374,                 look val acc 94.7867298578199,                 cross val acc 79.62085308056872\n",
      "Epoch 7/100:                 train loss 1.9631156825684328,                 val loss 1.9411468234672367,                 action train acc 40.44154540893126,                 gender train acc 49.27245358755645,                 look train acc 60.36126442548921,                 cross train acc 87.15504264927245,                 action val acc 57.81990521327014,                 gender val acc 55.92417061611374,                 look val acc 94.7867298578199,                 cross val acc 94.3127962085308\n",
      "Epoch 8/100:                 train loss 1.7361943464571068,                 val loss 1.9840341360083122,                 action train acc 40.44154540893126,                 gender train acc 49.27245358755645,                 look train acc 60.36126442548921,                 cross train acc 90.9683893627697,                 action val acc 57.81990521327014,                 gender val acc 55.92417061611374,                 look val acc 94.7867298578199,                 cross val acc 93.8388625592417\n",
      "Epoch 9/100:                 train loss 1.6312679447723404,                 val loss 2.441492686339464,                 action train acc 40.44154540893126,                 gender train acc 49.27245358755645,                 look train acc 60.36126442548921,                 cross train acc 92.97541394882087,                 action val acc 57.81990521327014,                 gender val acc 55.92417061611374,                 look val acc 94.7867298578199,                 cross val acc 91.4691943127962\n",
      "Epoch 10/100:                 train loss 1.6008640577370834,                 val loss 2.1812250399476545,                 action train acc 40.44154540893126,                 gender train acc 49.27245358755645,                 look train acc 60.36126442548921,                 cross train acc 93.32664325137982,                 action val acc 57.81990521327014,                 gender val acc 55.92417061611374,                 look val acc 94.7867298578199,                 cross val acc 91.9431279620853\n"
     ]
    },
    {
     "data": {
      "text/html": [
       "Waiting for W&B process to finish... <strong style=\"color:red\">(failed 1).</strong> Press Control-C to abort syncing."
      ],
      "text/plain": [
       "<IPython.core.display.HTML object>"
      ]
     },
     "metadata": {},
     "output_type": "display_data"
    },
    {
     "data": {
      "application/vnd.jupyter.widget-view+json": {
       "model_id": "2924dcf5adb1424ba45daa53090802d3",
       "version_major": 2,
       "version_minor": 0
      },
      "text/plain": [
       "VBox(children=(Label(value='0.003 MB of 0.003 MB uploaded (0.000 MB deduped)\\r'), FloatProgress(value=1.0, max…"
      ]
     },
     "metadata": {},
     "output_type": "display_data"
    },
    {
     "data": {
      "text/html": [
       "<style>\n",
       "    table.wandb td:nth-child(1) { padding: 0 10px; text-align: left ; width: auto;} td:nth-child(2) {text-align: left ; width: 100%}\n",
       "    .wandb-row { display: flex; flex-direction: row; flex-wrap: wrap; justify-content: flex-start; width: 100% }\n",
       "    .wandb-col { display: flex; flex-direction: column; flex-basis: 100%; flex: 1; padding: 10px; }\n",
       "    </style>\n",
       "<div class=\"wandb-row\"><div class=\"wandb-col\"><h3>Run history:</h3><br/><table class=\"wandb\"><tr><td>action train acc</td><td>▁▁▁▁▁▁▁▁▁▁▁</td></tr><tr><td>action val acc</td><td>▁▁▁▁▁▁▁▁▁▁▁</td></tr><tr><td>cross train acc</td><td>▁▁▃▄▅▆▆▆▇██</td></tr><tr><td>cross val acc</td><td>▇█▅▇▅█▁▇▇▆▆</td></tr><tr><td>gender train acc</td><td>▁▁▁▁▁▁▁▁▁▁▁</td></tr><tr><td>gender val acc</td><td>▁▁▁▁▁▁▁▁▁▁▁</td></tr><tr><td>look train acc</td><td>▁▁▁▁▁▁▁▁▁▁▁</td></tr><tr><td>look val acc</td><td>▁▁▁▁▁▁▁▁▁▁▁</td></tr><tr><td>train loss</td><td>█▇▇▆▆▄▄▃▂▁▁</td></tr><tr><td>val_loss</td><td>▇▃▆▄▃▄█▁▂▇▄</td></tr></table><br/></div><div class=\"wandb-col\"><h3>Run summary:</h3><br/><table class=\"wandb\"><tr><td>action train acc</td><td>40.44155</td></tr><tr><td>action val acc</td><td>57.81991</td></tr><tr><td>cross train acc</td><td>93.32664</td></tr><tr><td>cross val acc</td><td>91.94313</td></tr><tr><td>gender train acc</td><td>49.27245</td></tr><tr><td>gender val acc</td><td>55.92417</td></tr><tr><td>look train acc</td><td>60.36126</td></tr><tr><td>look val acc</td><td>94.78673</td></tr><tr><td>train loss</td><td>1.60086</td></tr><tr><td>val_loss</td><td>2.18123</td></tr></table><br/></div></div>"
      ],
      "text/plain": [
       "<IPython.core.display.HTML object>"
      ]
     },
     "metadata": {},
     "output_type": "display_data"
    },
    {
     "data": {
      "text/html": [
       " View run <strong style=\"color:#cdcd00\">generous-sweep-12</strong> at: <a href='https://wandb.ai/xmatovice/uncategorized/runs/4eirelpz' target=\"_blank\">https://wandb.ai/xmatovice/uncategorized/runs/4eirelpz</a><br/>Synced 6 W&B file(s), 0 media file(s), 0 artifact file(s) and 0 other file(s)"
      ],
      "text/plain": [
       "<IPython.core.display.HTML object>"
      ]
     },
     "metadata": {},
     "output_type": "display_data"
    },
    {
     "data": {
      "text/html": [
       "Find logs at: <code>./wandb/run-20230411_152803-4eirelpz/logs</code>"
      ],
      "text/plain": [
       "<IPython.core.display.HTML object>"
      ]
     },
     "metadata": {},
     "output_type": "display_data"
    },
    {
     "data": {
      "image/png": "[encoded data removed]",
      "text/plain": [
       "<Figure size 432x288 with 2 Axes>"
      ]
     },
     "metadata": {
      "needs_background": "light"
     },
     "output_type": "display_data"
    },
    {
     "data": {
      "image/png": "[encoded data removed]",
      "text/plain": [
       "<Figure size 432x288 with 2 Axes>"
      ]
     },
     "metadata": {
      "needs_background": "light"
     },
     "output_type": "display_data"
    },
    {
     "data": {
      "image/png": "[encoded data removed]",
      "text/plain": [
       "<Figure size 432x288 with 2 Axes>"
      ]
     },
     "metadata": {
      "needs_background": "light"
     },
     "output_type": "display_data"
    },
    {
     "data": {
      "image/png": "[encoded data removed]",
      "text/plain": [
       "<Figure size 432x288 with 2 Axes>"
      ]
     },
     "metadata": {
      "needs_background": "light"
     },
     "output_type": "display_data"
    },
    {
     "data": {
      "image/png": "[encoded data removed]",
      "text/plain": [
       "<Figure size 432x288 with 2 Axes>"
      ]
     },
     "metadata": {
      "needs_background": "light"
     },
     "output_type": "display_data"
    },
    {
     "data": {
      "image/png": "[encoded data removed]",
      "text/plain": [
       "<Figure size 432x288 with 2 Axes>"
      ]
     },
     "metadata": {
      "needs_background": "light"
     },
     "output_type": "display_data"
    },
    {
     "data": {
      "image/png": "[encoded data removed]",
      "text/plain": [
       "<Figure size 432x288 with 2 Axes>"
      ]
     },
     "metadata": {
      "needs_background": "light"
     },
     "output_type": "display_data"
    },
    {
     "data": {
      "image/png": "[encoded data removed]",
      "text/plain": [
       "<Figure size 432x288 with 2 Axes>"
      ]
     },
     "metadata": {
      "needs_background": "light"
     },
     "output_type": "display_data"
    },
    {
     "data": {
      "image/png": "[encoded data removed]",
      "text/plain": [
       "<Figure size 432x288 with 2 Axes>"
      ]
     },
     "metadata": {
      "needs_background": "light"
     },
     "output_type": "display_data"
    },
    {
     "data": {
      "image/png": "[encoded data removed]",
      "text/plain": [
       "<Figure size 432x288 with 2 Axes>"
      ]
     },
     "metadata": {
      "needs_background": "light"
     },
     "output_type": "display_data"
    },
    {
     "data": {
      "image/png": "[encoded data removed]",
      "text/plain": [
       "<Figure size 432x288 with 2 Axes>"
      ]
     },
     "metadata": {
      "needs_background": "light"
     },
     "output_type": "display_data"
    },
    {
     "data": {
      "image/png": "[encoded data removed]",
      "text/plain": [
       "<Figure size 432x288 with 2 Axes>"
      ]
     },
     "metadata": {
      "needs_background": "light"
     },
     "output_type": "display_data"
    },
    {
     "data": {
      "image/png": "[encoded data removed]",
      "text/plain": [
       "<Figure size 432x288 with 2 Axes>"
      ]
     },
     "metadata": {
      "needs_background": "light"
     },
     "output_type": "display_data"
    },
    {
     "data": {
      "image/png": "[encoded data removed]",
      "text/plain": [
       "<Figure size 432x288 with 2 Axes>"
      ]
     },
     "metadata": {
      "needs_background": "light"
     },
     "output_type": "display_data"
    },
    {
     "data": {
      "image/png": "[encoded data removed]",
      "text/plain": [
       "<Figure size 432x288 with 2 Axes>"
      ]
     },
     "metadata": {
      "needs_background": "light"
     },
     "output_type": "display_data"
    },
    {
     "data": {
      "image/png": "[encoded data removed]",
      "text/plain": [
       "<Figure size 432x288 with 2 Axes>"
      ]
     },
     "metadata": {
      "needs_background": "light"
     },
     "output_type": "display_data"
    },
    {
     "data": {
      "image/png": "[encoded data removed]",
      "text/plain": [
       "<Figure size 432x288 with 2 Axes>"
      ]
     },
     "metadata": {
      "needs_background": "light"
     },
     "output_type": "display_data"
    },
    {
     "data": {
      "image/png": "[encoded data removed]",
      "text/plain": [
       "<Figure size 432x288 with 2 Axes>"
      ]
     },
     "metadata": {
      "needs_background": "light"
     },
     "output_type": "display_data"
    },
    {
     "data": {
      "image/png": "[encoded data removed]",
      "text/plain": [
       "<Figure size 432x288 with 2 Axes>"
      ]
     },
     "metadata": {
      "needs_background": "light"
     },
     "output_type": "display_data"
    },
    {
     "data": {
      "image/png": "[encoded data removed]",
      "text/plain": [
       "<Figure size 432x288 with 2 Axes>"
      ]
     },
     "metadata": {
      "needs_background": "light"
     },
     "output_type": "display_data"
    }
   ],
   "source": [
    "wandb.agent(sweep_id, function=wandb_sweep, count=10)"
   ]
  },
  {
   "cell_type": "code",
   "execution_count": 24,
   "metadata": {},
   "outputs": [],
   "source": [
    "import gc\n",
    "#def report_gpu():\n",
    "#print(torch.cuda.list_gpu_processes())\n",
    "#gc.collect()\n",
    "#torch.cuda.empty_cache()"
   ]
  },
  {
   "cell_type": "code",
   "execution_count": 25,
   "metadata": {},
   "outputs": [],
   "source": [
    "# measure how long training is going to take\n",
    "#print(\"[INFO] training the network...\")\n",
    "#startTime = time.time()"
   ]
  },
  {
   "cell_type": "code",
   "execution_count": 26,
   "metadata": {},
   "outputs": [],
   "source": [
    "wandb.finish()"
   ]
  },
  {
   "cell_type": "code",
   "execution_count": 27,
   "metadata": {},
   "outputs": [
    {
     "name": "stderr",
     "output_type": "stream",
     "text": [
      "\u001b[34m\u001b[1mwandb\u001b[0m: Sorting runs by +summary_metrics.val_loss\n"
     ]
    },
    {
     "name": "stdout",
     "output_type": "stream",
     "text": [
      "8480i9mb\n",
      "{'batch_size': 8,\n",
      " 'epochs': 10,\n",
      " 'learning_rate': 0.05657808132757078,\n",
      " 'momentum': 0.7500727372948774,\n",
      " 'n_features': 256}\n"
     ]
    }
   ],
   "source": [
    "wandb.finish()\n",
    "\n",
    "api = wandb.Api()\n",
    "sweep = api.sweep(\"xmatovice/uncategorized/sweeps/\" + sweep_id)\n",
    "\n",
    "best_run = sweep.best_run()\n",
    "print(best_run.id)\n",
    "pprint(best_run.config)"
   ]
  }
 ],
 "metadata": {
  "kernelspec": {
   "display_name": ".venv",
   "language": "python",
   "name": "python3"
  },
  "language_info": {
   "codemirror_mode": {
    "name": "ipython",
    "version": 3
   },
   "file_extension": ".py",
   "mimetype": "text/x-python",
   "name": "python",
   "nbconvert_exporter": "python",
   "pygments_lexer": "ipython3",
   "version": "3.8.16"
  },
  "orig_nbformat": 4,
  "vscode": {
   "interpreter": {
    "hash": "22572a537a013be16678bbb158e31ceea43b60ab6a76409382b26a5e76ea4d98"
   }
  }
 },
 "nbformat": 4,
 "nbformat_minor": 2
}
